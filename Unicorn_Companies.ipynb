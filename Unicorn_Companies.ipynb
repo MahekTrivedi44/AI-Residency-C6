{
  "nbformat": 4,
  "nbformat_minor": 0,
  "metadata": {
    "colab": {
      "provenance": [],
      "authorship_tag": "ABX9TyMx712E566oX8q6C0Y1cxsk",
      "include_colab_link": true
    },
    "kernelspec": {
      "name": "python3",
      "display_name": "Python 3"
    },
    "language_info": {
      "name": "python"
    }
  },
  "cells": [
    {
      "cell_type": "markdown",
      "metadata": {
        "id": "view-in-github",
        "colab_type": "text"
      },
      "source": [
        "<a href=\"https://colab.research.google.com/github/MahekTrivedi44/AI-Residency-C6/blob/main/Unicorn_Companies.ipynb\" target=\"_parent\"><img src=\"https://colab.research.google.com/assets/colab-badge.svg\" alt=\"Open In Colab\"/></a>"
      ]
    },
    {
      "cell_type": "markdown",
      "source": [
        "~ Please rerun from the beginning ~"
      ],
      "metadata": {
        "id": "ik07-Ik3fXzR"
      }
    },
    {
      "cell_type": "code",
      "source": [
        "from IPython.display import display, HTML\n",
        "\n",
        "display(HTML('''\n",
        "  <link href=\"https://fonts.googleapis.com/css2?family=Love+Ya+Like+A+Sister&display=swap\" rel=\"stylesheet\">\n",
        "  <div style=\"font-family: 'Love Ya Like A Sister', cursive; font-size: 30px; color: #c54b8c;\">\n",
        "    Loading the dataset and viewing initial data info.\n",
        "  </div>\n",
        "'''))\n",
        "\n",
        "import pandas as pd\n",
        "\n",
        "# Load dataset\n",
        "df = pd.read_csv('https://decodingdatascience.com/wp-content/uploads/2023/02/Unicorn_Companies.csv')\n",
        "\n",
        "# View initial data info\n",
        "print(df.info())\n",
        "print(df.head())"
      ],
      "metadata": {
        "id": "fZrKBnwO5oFh",
        "colab": {
          "base_uri": "https://localhost:8080/",
          "height": 940
        },
        "outputId": "e26d142d-a138-4511-a6f4-5b181d832c2e"
      },
      "execution_count": null,
      "outputs": [
        {
          "output_type": "display_data",
          "data": {
            "text/plain": [
              "<IPython.core.display.HTML object>"
            ],
            "text/html": [
              "\n",
              "  <link href=\"https://fonts.googleapis.com/css2?family=Love+Ya+Like+A+Sister&display=swap\" rel=\"stylesheet\">\n",
              "  <div style=\"font-family: 'Love Ya Like A Sister', cursive; font-size: 30px; color: #c54b8c;\">\n",
              "    Loading the dataset and viewing initial data info.\n",
              "  </div>\n"
            ]
          },
          "metadata": {}
        },
        {
          "output_type": "stream",
          "name": "stdout",
          "text": [
            "<class 'pandas.core.frame.DataFrame'>\n",
            "RangeIndex: 1037 entries, 0 to 1036\n",
            "Data columns (total 13 columns):\n",
            " #   Column             Non-Null Count  Dtype  \n",
            "---  ------             --------------  -----  \n",
            " 0   Company            1037 non-null   object \n",
            " 1   Valuation ($B)     1037 non-null   object \n",
            " 2   Date Joined        1037 non-null   object \n",
            " 3   Country            1037 non-null   object \n",
            " 4   City               1037 non-null   object \n",
            " 5   Industry           1037 non-null   object \n",
            " 6   Select Inverstors  1020 non-null   object \n",
            " 7   Founded Year       994 non-null    float64\n",
            " 8   Total Raised       1013 non-null   object \n",
            " 9   Financial Stage    49 non-null     object \n",
            " 10  Investors Count    1036 non-null   float64\n",
            " 11  Deal Terms         1008 non-null   float64\n",
            " 12  Portfolio Exits    49 non-null     float64\n",
            "dtypes: float64(4), object(9)\n",
            "memory usage: 105.4+ KB\n",
            "None\n",
            "      Company Valuation ($B) Date Joined        Country           City  \\\n",
            "0   Bytedance          $140     4/7/2017          China        Beijing   \n",
            "1      SpaceX       $100.30    12/1/2012  United States      Hawthorne   \n",
            "2      Stripe           $95    1/23/2014  United States  San Francisco   \n",
            "3      Klarna        $45.60   12/12/2011         Sweden      Stockholm   \n",
            "4  Epic Games           $42   10/26/2018  United States           Cary   \n",
            "\n",
            "                  Industry                                  Select Inverstors  \\\n",
            "0  Artificial intelligence  Sequoia Capital China, SIG Asia Investments, S...   \n",
            "1                    Other  Founders Fund, Draper Fisher Jurvetson, Rothen...   \n",
            "2                  Fintech        Khosla Ventures, LowercaseCapital, capitalG   \n",
            "3                  Fintech  Institutional Venture Partners, Sequoia Capita...   \n",
            "4                    Other              Tencent Holdings, KKR, Smash Ventures   \n",
            "\n",
            "   Founded Year Total Raised Financial Stage  Investors Count  Deal Terms  \\\n",
            "0        2012.0       $7.44B             IPO             28.0         8.0   \n",
            "1        2002.0      $6.874B             NaN             29.0        12.0   \n",
            "2        2010.0      $2.901B           Asset             39.0        12.0   \n",
            "3        2005.0      $3.472B        Acquired             56.0        13.0   \n",
            "4        1991.0      $4.377B        Acquired             25.0         5.0   \n",
            "\n",
            "   Portfolio Exits  \n",
            "0              5.0  \n",
            "1              NaN  \n",
            "2              1.0  \n",
            "3              1.0  \n",
            "4              2.0  \n"
          ]
        }
      ]
    },
    {
      "cell_type": "code",
      "source": [
        "from IPython.display import HTML, display\n",
        "\n",
        "display(HTML('''\n",
        "<link href=\"https://fonts.googleapis.com/css2?family=Love+Ya+Like+A+Sister&display=swap\" rel=\"stylesheet\">\n",
        "<div style=\"font-family: 'Love Ya Like A Sister', cursive; font-size: 25px; color: #915f6d; margin-bottom: 20px;\">\n",
        "  <b>🧼 Cleaning Per Column</b>\n",
        "</div>\n",
        "\n",
        "<div style=\"font-family: 'Love Ya Like A Sister', cursive; font-size: 18px; color: #bc8f8f;\">\n",
        "  <b>Company</b> ➤ Stripped extra spaces<br>\n",
        "  <b style=\"color:#e75480;\">Valuation ($B)</b> ➤ Removed '$' and converted to <i>float</i><br>\n",
        "  <b style=\"color:#d982b5;\">Date Joined</b> ➤ Parsed into datetime format<br>\n",
        "  <b style=\"color:#dda0dd;\">Country & City</b> ➤ Stripped whitespace<br>\n",
        "  <b style=\"color:#db7093;\">Industry</b> ➤ Standardized casing (e.g., 'FinTech' → 'Fintech')<br>\n",
        "  <b style=\"color:#e6a9ec;\">Select Investors</b> ➤ Renamed the column & replaced <code>\"None\"</code> with <span style=\"color:#c71585;\">\"Not disclosed\"</span><br>\n",
        "  <b style=\"color:#de6fa1;\">Founded Year</b> ➤ Converted to numeric (int), invalid ones set to NaN<br>\n",
        "  <b style=\"color:#f984ef;\">Total Raised</b> ➤ Normalized all values to billions (e.g., $400M → 0.4)<br>\n",
        "  <b style=\"color:#ec3b83;\">Financial Stage</b> ➤ <code>\"None\"</code> replaced with <span style=\"color:#f75394;\">\"Undisclosed\"</span>, 'Acq' → 'Acquired'<br>\n",
        "  <b style=\"color:#db5f93;\">Investors Count / Deal Terms / Portfolio Exits</b> ➤ Converted to <i>integers</i>, missing ones set to 0\n",
        "</div>\n",
        "'''))\n",
        "\n",
        "\n",
        "#Comapny\n",
        "df['Company'] = df['Company'].str.strip()\n",
        "\n",
        "#Valuation ($B)\n",
        "df['Valuation ($B)'] = df['Valuation ($B)'].str.replace('$', '').astype(float)\n",
        "\n",
        "#Date Joined\n",
        "df['Date Joined'] = pd.to_datetime(df['Date Joined'], errors='coerce')\n",
        "\n",
        "#Country/City\n",
        "df[['Country', 'City']] = df[['Country', 'City']].apply(lambda x: x.str.strip())\n",
        "\n",
        "#Industry\n",
        "df['Industry'] = df['Industry'].str.title().str.strip()\n",
        "\n",
        "#Select Investors\n",
        "df.rename(columns={'Select Inverstors': 'Select Investors'}, inplace=True)\n",
        "df['Select Investors'] = df['Select Investors'].fillna('Not disclosed')\n",
        "df['Select Investors'] = df['Select Investors'].replace('None', 'Not disclosed')\n",
        "\n",
        "#Founded Year\n",
        "df['Founded Year'] = pd.to_numeric(df['Founded Year'], errors='coerce')\n",
        "\n",
        "#Total Raised\n",
        "def parse_raised(val):\n",
        "    val = val.replace('$', '')\n",
        "    if 'B' in val:\n",
        "        return float(val.replace('B', ''))\n",
        "    elif 'M' in val:\n",
        "        return float(val.replace('M', '')) / 1000\n",
        "    else:\n",
        "        return None\n",
        "df['Total Raised (B)'] = df['Total Raised'].astype(str).apply(parse_raised)\n",
        "\n",
        "#Financial Stage\n",
        "df['Financial Stage'] = df['Financial Stage'].replace({'Acq': 'Acquired'}).fillna('Undisclosed')\n",
        "df['Financial Stage'] = df['Financial Stage'].replace('None', 'Undisclosed')\n",
        "\n",
        "#Investors Count, Deal Terms, Portfolio Exits\n",
        "df['Investors Count'] = pd.to_numeric(df['Investors Count'], errors='coerce').fillna(0).astype(int)\n",
        "df['Deal Terms'] = pd.to_numeric(df['Deal Terms'], errors='coerce').fillna(0).astype(int)\n",
        "df['Portfolio Exits'] = pd.to_numeric(df['Portfolio Exits'], errors='coerce').fillna(0).astype(int)\n",
        "\n",
        "# Check for remaining missing values\n",
        "print(df.isnull().sum())\n",
        "\n",
        "# Save cleaned version\n",
        "df.to_csv('/content/cleaned_startups.csv', index=False)\n",
        "print(\"\\n\")\n",
        "display(HTML('''\n",
        "  <link href=\"https://fonts.googleapis.com/css2?family=Love+Ya+Like+A+Sister&display=swap\" rel=\"stylesheet\">\n",
        "  <div style=\"font-family: 'Love Ya Like A Sister', cursive; font-size: 18px; color: #915f6d;\">\n",
        "    Check cleaned_startups.csv for the cleaned up csv file.\n",
        "  </div>\n",
        "'''))\n"
      ],
      "metadata": {
        "colab": {
          "base_uri": "https://localhost:8080/",
          "height": 627
        },
        "id": "EWZO4a3jm7EF",
        "outputId": "546ca686-5291-418e-b669-bc8edd3538a8"
      },
      "execution_count": null,
      "outputs": [
        {
          "output_type": "display_data",
          "data": {
            "text/plain": [
              "<IPython.core.display.HTML object>"
            ],
            "text/html": [
              "\n",
              "<link href=\"https://fonts.googleapis.com/css2?family=Love+Ya+Like+A+Sister&display=swap\" rel=\"stylesheet\">\n",
              "<div style=\"font-family: 'Love Ya Like A Sister', cursive; font-size: 25px; color: #915f6d; margin-bottom: 20px;\">\n",
              "  <b>🧼 Cleaning Per Column</b>\n",
              "</div>\n",
              "\n",
              "<div style=\"font-family: 'Love Ya Like A Sister', cursive; font-size: 18px; color: #bc8f8f;\">\n",
              "  <b>Company</b> ➤ Stripped extra spaces<br>\n",
              "  <b style=\"color:#e75480;\">Valuation ($B)</b> ➤ Removed '$' and converted to <i>float</i><br>\n",
              "  <b style=\"color:#d982b5;\">Date Joined</b> ➤ Parsed into datetime format<br>\n",
              "  <b style=\"color:#dda0dd;\">Country & City</b> ➤ Stripped whitespace<br>\n",
              "  <b style=\"color:#db7093;\">Industry</b> ➤ Standardized casing (e.g., 'FinTech' → 'Fintech')<br>\n",
              "  <b style=\"color:#e6a9ec;\">Select Investors</b> ➤ Renamed the column & replaced <code>\"None\"</code> with <span style=\"color:#c71585;\">\"Not disclosed\"</span><br>\n",
              "  <b style=\"color:#de6fa1;\">Founded Year</b> ➤ Converted to numeric (int), invalid ones set to NaN<br>\n",
              "  <b style=\"color:#f984ef;\">Total Raised</b> ➤ Normalized all values to billions (e.g., $400M → 0.4)<br>\n",
              "  <b style=\"color:#ec3b83;\">Financial Stage</b> ➤ <code>\"None\"</code> replaced with <span style=\"color:#f75394;\">\"Undisclosed\"</span>, 'Acq' → 'Acquired'<br>\n",
              "  <b style=\"color:#db5f93;\">Investors Count / Deal Terms / Portfolio Exits</b> ➤ Converted to <i>integers</i>, missing ones set to 0\n",
              "</div>\n"
            ]
          },
          "metadata": {}
        },
        {
          "output_type": "stream",
          "name": "stdout",
          "text": [
            "Company              0\n",
            "Valuation ($B)       0\n",
            "Date Joined          0\n",
            "Country              0\n",
            "City                 0\n",
            "Industry             0\n",
            "Select Investors     0\n",
            "Founded Year        43\n",
            "Total Raised        24\n",
            "Financial Stage      0\n",
            "Investors Count      0\n",
            "Deal Terms           0\n",
            "Portfolio Exits      0\n",
            "Total Raised (B)    28\n",
            "dtype: int64\n",
            "\n",
            "\n"
          ]
        },
        {
          "output_type": "display_data",
          "data": {
            "text/plain": [
              "<IPython.core.display.HTML object>"
            ],
            "text/html": [
              "\n",
              "  <link href=\"https://fonts.googleapis.com/css2?family=Love+Ya+Like+A+Sister&display=swap\" rel=\"stylesheet\">\n",
              "  <div style=\"font-family: 'Love Ya Like A Sister', cursive; font-size: 18px; color: #915f6d;\">\n",
              "    Check cleaned_startups.csv for the cleaned up csv file.\n",
              "  </div>\n"
            ]
          },
          "metadata": {}
        }
      ]
    },
    {
      "cell_type": "code",
      "source": [
        "# 🌸 Setup\n",
        "import pandas as pd\n",
        "import seaborn as sns\n",
        "import matplotlib.pyplot as plt\n",
        "import plotly.express as px\n",
        "from IPython.display import display, HTML\n",
        "\n",
        "# 🌸 Custom pastel color palette\n",
        "# pastel_palette = [\n",
        "#     \"#e6ccff\", \"#ffcce6\", \"#ffb3ba\", \"#cce5ff\", \"#ffd9b3\",\n",
        "#     \"#ccffcc\", \"#ffe6f0\", \"#dab6fc\", \"#f9c6d0\", \"#d5f4e6\"\n",
        "# ]\n",
        "# 🌸 Slightly deeper pastel palette\n",
        "pastel_palette = [\n",
        "    \"#d7aefb\", \"#f28b82\", \"#fbbc04\", \"#a7ffeb\", \"#cbf0f8\",\n",
        "    \"#fbd6f5\", \"#fdcfe8\", \"#e6c9a8\", \"#b5d2ff\", \"#cbaacb\"\n",
        "]\n",
        "\n",
        "\n",
        "# 🌸 Set chart theme\n",
        "sns.set_theme(style=\"whitegrid\", palette=pastel_palette)\n",
        "plt.rcParams.update({'axes.facecolor': '#fff6fb'})\n",
        "\n",
        "# 🌸 Load cleaned data\n",
        "try:\n",
        "    df = pd.read_csv('cleaned_startups.csv')\n",
        "except FileNotFoundError:\n",
        "    print(\"Error: 'cleaned_startups.csv' not found.\")\n",
        "    df = pd.DataFrame({\n",
        "        'Company': ['DummyCorp'], 'Valuation ($B)': [100], 'Founded Year': [2015],\n",
        "        'Select Investors': ['Investor A'], 'Country': ['USA'], 'Industry': ['AI'],\n",
        "        'City': ['San Francisco'], 'Financial Stage': ['Series D'],\n",
        "        'Portfolio Exits': [0], 'Total Raised (B)': [1.5]\n",
        "    })\n",
        "\n",
        "# 🌸 Custom heading function\n",
        "def dashboard_heading(text, number):\n",
        "    display(HTML(f\"\"\"\n",
        "    <link href=\"https://fonts.googleapis.com/css2?family=Love+Ya+Like+A+Sister&display=swap\" rel=\"stylesheet\">\n",
        "    <div style=\"font-family: 'Love Ya Like A Sister', cursive; font-size: 24px; color: #734f96; margin-top: 30px;\">\n",
        "        <b>{number}. {text}</b>\n",
        "    </div>\n",
        "    \"\"\"))\n",
        "\n",
        "# 🌸 Custom display box\n",
        "def dashboard_text(text):\n",
        "    display(HTML(f\"\"\"\n",
        "    <link href=\"https://fonts.googleapis.com/css2?family=Love+Ya+Like+A+Sister&display=swap\" rel=\"stylesheet\">\n",
        "    <div style=\"font-family: 'Love Ya Like A Sister', cursive; font-size: 18px; color: #8767a6;\">\n",
        "        {text}\n",
        "    </div>\n",
        "    \"\"\"))\n",
        "\n",
        "# 1. Highest Valuation\n",
        "dashboard_heading(\"Highest Valuation: Which company has the highest valuation?\", 1)\n",
        "top_company = df.loc[df['Valuation ($B)'].idxmax()]\n",
        "dashboard_text(f\"The company with the highest valuation is <b>{top_company['Company']}</b> with a valuation of <b>${top_company['Valuation ($B)']}B</b>.\")\n",
        "top_10_valuation = df.nlargest(10, 'Valuation ($B)')\n",
        "fig1 = px.bar(top_10_valuation, x='Valuation ($B)', y='Company', orientation='h',\n",
        "              color='Valuation ($B)', color_continuous_scale=pastel_palette,\n",
        "              title=\"Top 10 Most Valuable Unicorn Companies\")\n",
        "fig1.update_layout(title_font_color=\"#e75480\", plot_bgcolor=\"#fff6fb\", yaxis={'categoryorder':'total ascending'})\n",
        "fig1.show()\n",
        "\n",
        "# 2. Missing 'Founded Year'\n",
        "dashboard_heading(\"Missing 'Founded Year': How many companies do not have a 'Founded Year' recorded?\", 2)\n",
        "missing_founded = df['Founded Year'].isna().sum()\n",
        "total_companies = len(df)\n",
        "dashboard_text(f\"There are <b>{missing_founded}</b> companies without a recorded Founded Year.\")\n",
        "missing_data = pd.DataFrame({'Category': ['Recorded', 'Missing'], 'Count': [total_companies - missing_founded, missing_founded]})\n",
        "fig2 = px.pie(missing_data,\n",
        "              values='Count', names='Category',\n",
        "              color_discrete_sequence=[\"#d7aefb\", \"#fbd6f5\"],  # lavender + lilac\n",
        "              title=\"Proportion of Companies with Missing Founded Year\")\n",
        "fig2.update_layout(title_font_color=\"#e75480\", plot_bgcolor=\"#fff3f9\")\n",
        "fig2.show()\n",
        "\n",
        "# 3. No Listed Investors\n",
        "dashboard_heading(\"No Listed Investors: How many companies have 'Not disclosed' in 'Select Investors'?\", 3)\n",
        "no_investors = (df['Select Investors'] == 'Not disclosed').sum()\n",
        "dashboard_text(f\"<b>{no_investors}</b> companies have no listed investors (marked as 'Not disclosed').\")\n",
        "investor_data = pd.DataFrame({'Category': ['Disclosed', 'Not Disclosed'], 'Count': [total_companies - no_investors, no_investors]})\n",
        "fig3 = px.pie(investor_data,\n",
        "              values='Count', names='Category',\n",
        "              color_discrete_sequence=[\"#d7aefb\", \"#fbd6f5\"],  # lavender + lilac\n",
        "              title=\"Proportion of Companies with Undisclosed Investors\")\n",
        "fig3.update_layout(title_font_color=\"#e75480\", plot_bgcolor=\"#fff3f9\")\n",
        "fig3.show()\n",
        "\n",
        "# 4. Most Unicorns by Country\n",
        "dashboard_heading(\"Most Unicorns by Country\", 4)\n",
        "top_country = df['Country'].value_counts().idxmax()\n",
        "dashboard_text(f\"The country with the most unicorn companies is <b>{top_country}</b>.\")\n",
        "country_counts = df['Country'].value_counts().head(10).reset_index()\n",
        "country_counts.columns = ['Country', 'count']\n",
        "fig4 = px.bar(country_counts, x='Country', y='count', color='Country',\n",
        "              color_discrete_sequence=pastel_palette, labels={'count': 'Number of Companies'},\n",
        "              title=\"Top 10 Countries with Most Unicorns\")\n",
        "fig4.update_layout(title_font_color=\"#e75480\", plot_bgcolor=\"#fff6fb\")\n",
        "fig4.show()\n",
        "\n",
        "# 5. Founded After 2010\n",
        "dashboard_heading(\"Companies Founded By Year\", 5)\n",
        "founded_after = df[df['Founded Year'] > 2010].shape[0]\n",
        "dashboard_text(f\"There are <b>{founded_after}</b> companies founded after 2010.\")\n",
        "founded_year_counts = df['Founded Year'].dropna().astype(int).value_counts().reset_index()\n",
        "founded_year_counts.columns = ['Year', 'Count']\n",
        "fig5 = px.bar(founded_year_counts, x='Year', y='Count', color='Count',\n",
        "              color_continuous_scale=pastel_palette, title=\"Number of Unicorns Founded Each Year\")\n",
        "fig5.update_layout(title_font_color=\"#e75480\", plot_bgcolor=\"#fff6fb\", xaxis_type='category')\n",
        "fig5.show()\n",
        "\n",
        "# 6. Average Valuation by Industry\n",
        "dashboard_heading(\"Average Valuation by Industry\", 6)\n",
        "avg_val_by_industry = df.groupby('Industry')['Valuation ($B)'].mean().sort_values(ascending=False).head(10).reset_index()\n",
        "fig6 = px.bar(avg_val_by_industry, x='Industry', y='Valuation ($B)', color='Valuation ($B)',\n",
        "              color_continuous_scale=pastel_palette, title=\"Top 10 Industries by Average Valuation\")\n",
        "fig6.update_layout(title_font_color=\"#e75480\", xaxis_tickangle=-45, plot_bgcolor=\"#fff6fb\")\n",
        "fig6.show()\n",
        "\n",
        "# 7. Top 5 Cities with Most Unicorns\n",
        "dashboard_heading(\"Top 5 Cities with Most Unicorns\", 7)\n",
        "top_cities = df['City'].value_counts().head(5)\n",
        "fig7 = px.pie(values=top_cities.values, names=top_cities.index,\n",
        "              color_discrete_sequence=pastel_palette, title=\"Top 5 Cities with Most Unicorns\")\n",
        "fig7.update_layout(title_font_color=\"#e75480\", plot_bgcolor=\"#fff6fb\")\n",
        "fig7.show()\n",
        "\n",
        "# 8. Financial Stage Distribution\n",
        "dashboard_heading(\"Financial Stage Distribution\", 8)\n",
        "fig8 = px.histogram(df, x='Financial Stage', color='Financial Stage',\n",
        "                    color_discrete_sequence=pastel_palette, title=\"Distribution of Financial Stages\")\n",
        "fig8.update_layout(title_font_color=\"#e75480\", plot_bgcolor=\"#fff6fb\", xaxis={'categoryorder':'total descending'})\n",
        "fig8.show()\n",
        "\n",
        "# 9. Most Portfolio Exits\n",
        "dashboard_heading(\"Most Portfolio Exits\", 9)\n",
        "most_exits = df.sort_values(by='Portfolio Exits', ascending=False).head(5)\n",
        "dashboard_text(\"Top 5 companies with most portfolio exits:\")\n",
        "fig9 = px.bar(most_exits, x='Company', y='Portfolio Exits', color='Portfolio Exits',\n",
        "              color_continuous_scale=pastel_palette, title=\"Top 5 Companies by Portfolio Exits\")\n",
        "fig9.update_layout(title_font_color=\"#e75480\", plot_bgcolor=\"#fff6fb\")\n",
        "fig9.show()\n",
        "\n",
        "# 10. Valuation and Total Raised Correlation\n",
        "dashboard_heading(\"Valuation and Total Raised Correlation\", 10)\n",
        "df_corr = df[['Valuation ($B)', 'Total Raised (B)']].apply(pd.to_numeric, errors='coerce').dropna()\n",
        "correlation = df_corr.corr().iloc[0,1]\n",
        "dashboard_text(f\"The correlation between <b>Valuation</b> and <b>Total Raised</b> is <b>{correlation:.2f}</b>.\")\n",
        "fig10 = px.scatter(df, x='Total Raised (B)', y='Valuation ($B)', color='Industry',\n",
        "                   title=\"Valuation vs. Total Raised\", hover_name='Company',\n",
        "                   color_discrete_sequence=pastel_palette)\n",
        "fig10.update_layout(title_font_color=\"#e75480\", plot_bgcolor=\"#fff6fb\")\n",
        "fig10.show()\n"
      ],
      "metadata": {
        "colab": {
          "base_uri": "https://localhost:8080/",
          "height": 1000
        },
        "id": "Os2-mL0GcNZX",
        "outputId": "c56d2e1e-2825-4f25-a976-079092c01455"
      },
      "execution_count": null,
      "outputs": [
        {
          "output_type": "display_data",
          "data": {
            "text/plain": [
              "<IPython.core.display.HTML object>"
            ],
            "text/html": [
              "\n",
              "    <link href=\"https://fonts.googleapis.com/css2?family=Love+Ya+Like+A+Sister&display=swap\" rel=\"stylesheet\">\n",
              "    <div style=\"font-family: 'Love Ya Like A Sister', cursive; font-size: 24px; color: #734f96; margin-top: 30px;\">\n",
              "        <b>1. Highest Valuation: Which company has the highest valuation?</b>\n",
              "    </div>\n",
              "    "
            ]
          },
          "metadata": {}
        },
        {
          "output_type": "display_data",
          "data": {
            "text/plain": [
              "<IPython.core.display.HTML object>"
            ],
            "text/html": [
              "\n",
              "    <link href=\"https://fonts.googleapis.com/css2?family=Love+Ya+Like+A+Sister&display=swap\" rel=\"stylesheet\">\n",
              "    <div style=\"font-family: 'Love Ya Like A Sister', cursive; font-size: 18px; color: #8767a6;\">\n",
              "        The company with the highest valuation is <b>Bytedance</b> with a valuation of <b>$140.0B</b>.\n",
              "    </div>\n",
              "    "
            ]
          },
          "metadata": {}
        },
        {
          "output_type": "display_data",
          "data": {
            "text/html": [
              "<html>\n",
              "<head><meta charset=\"utf-8\" /></head>\n",
              "<body>\n",
              "    <div>            <script src=\"https://cdnjs.cloudflare.com/ajax/libs/mathjax/2.7.5/MathJax.js?config=TeX-AMS-MML_SVG\"></script><script type=\"text/javascript\">if (window.MathJax && window.MathJax.Hub && window.MathJax.Hub.Config) {window.MathJax.Hub.Config({SVG: {font: \"STIX-Web\"}});}</script>                <script type=\"text/javascript\">window.PlotlyConfig = {MathJaxConfig: 'local'};</script>\n",
              "        <script charset=\"utf-8\" src=\"https://cdn.plot.ly/plotly-2.35.2.min.js\"></script>                <div id=\"28be495b-eb6e-4a23-b050-1ff67a65a2e2\" class=\"plotly-graph-div\" style=\"height:525px; width:100%;\"></div>            <script type=\"text/javascript\">                                    window.PLOTLYENV=window.PLOTLYENV || {};                                    if (document.getElementById(\"28be495b-eb6e-4a23-b050-1ff67a65a2e2\")) {                    Plotly.newPlot(                        \"28be495b-eb6e-4a23-b050-1ff67a65a2e2\",                        [{\"alignmentgroup\":\"True\",\"hovertemplate\":\"Valuation ($B)=%{marker.color}\\u003cbr\\u003eCompany=%{y}\\u003cextra\\u003e\\u003c\\u002fextra\\u003e\",\"legendgroup\":\"\",\"marker\":{\"color\":[140.0,100.3,95.0,45.6,42.0,40.0,40.0,39.0,38.0,33.0],\"coloraxis\":\"coloraxis\",\"pattern\":{\"shape\":\"\"}},\"name\":\"\",\"offsetgroup\":\"\",\"orientation\":\"h\",\"showlegend\":false,\"textposition\":\"auto\",\"x\":[140.0,100.3,95.0,45.6,42.0,40.0,40.0,39.0,38.0,33.0],\"xaxis\":\"x\",\"y\":[\"Bytedance\",\"SpaceX\",\"Stripe\",\"Klarna\",\"Epic Games\",\"Canva\",\"Checkout.com\",\"Instacart\",\"Databricks\",\"Revolut\"],\"yaxis\":\"y\",\"type\":\"bar\"}],                        {\"template\":{\"data\":{\"histogram2dcontour\":[{\"type\":\"histogram2dcontour\",\"colorbar\":{\"outlinewidth\":0,\"ticks\":\"\"},\"colorscale\":[[0.0,\"#0d0887\"],[0.1111111111111111,\"#46039f\"],[0.2222222222222222,\"#7201a8\"],[0.3333333333333333,\"#9c179e\"],[0.4444444444444444,\"#bd3786\"],[0.5555555555555556,\"#d8576b\"],[0.6666666666666666,\"#ed7953\"],[0.7777777777777778,\"#fb9f3a\"],[0.8888888888888888,\"#fdca26\"],[1.0,\"#f0f921\"]]}],\"choropleth\":[{\"type\":\"choropleth\",\"colorbar\":{\"outlinewidth\":0,\"ticks\":\"\"}}],\"histogram2d\":[{\"type\":\"histogram2d\",\"colorbar\":{\"outlinewidth\":0,\"ticks\":\"\"},\"colorscale\":[[0.0,\"#0d0887\"],[0.1111111111111111,\"#46039f\"],[0.2222222222222222,\"#7201a8\"],[0.3333333333333333,\"#9c179e\"],[0.4444444444444444,\"#bd3786\"],[0.5555555555555556,\"#d8576b\"],[0.6666666666666666,\"#ed7953\"],[0.7777777777777778,\"#fb9f3a\"],[0.8888888888888888,\"#fdca26\"],[1.0,\"#f0f921\"]]}],\"heatmap\":[{\"type\":\"heatmap\",\"colorbar\":{\"outlinewidth\":0,\"ticks\":\"\"},\"colorscale\":[[0.0,\"#0d0887\"],[0.1111111111111111,\"#46039f\"],[0.2222222222222222,\"#7201a8\"],[0.3333333333333333,\"#9c179e\"],[0.4444444444444444,\"#bd3786\"],[0.5555555555555556,\"#d8576b\"],[0.6666666666666666,\"#ed7953\"],[0.7777777777777778,\"#fb9f3a\"],[0.8888888888888888,\"#fdca26\"],[1.0,\"#f0f921\"]]}],\"heatmapgl\":[{\"type\":\"heatmapgl\",\"colorbar\":{\"outlinewidth\":0,\"ticks\":\"\"},\"colorscale\":[[0.0,\"#0d0887\"],[0.1111111111111111,\"#46039f\"],[0.2222222222222222,\"#7201a8\"],[0.3333333333333333,\"#9c179e\"],[0.4444444444444444,\"#bd3786\"],[0.5555555555555556,\"#d8576b\"],[0.6666666666666666,\"#ed7953\"],[0.7777777777777778,\"#fb9f3a\"],[0.8888888888888888,\"#fdca26\"],[1.0,\"#f0f921\"]]}],\"contourcarpet\":[{\"type\":\"contourcarpet\",\"colorbar\":{\"outlinewidth\":0,\"ticks\":\"\"}}],\"contour\":[{\"type\":\"contour\",\"colorbar\":{\"outlinewidth\":0,\"ticks\":\"\"},\"colorscale\":[[0.0,\"#0d0887\"],[0.1111111111111111,\"#46039f\"],[0.2222222222222222,\"#7201a8\"],[0.3333333333333333,\"#9c179e\"],[0.4444444444444444,\"#bd3786\"],[0.5555555555555556,\"#d8576b\"],[0.6666666666666666,\"#ed7953\"],[0.7777777777777778,\"#fb9f3a\"],[0.8888888888888888,\"#fdca26\"],[1.0,\"#f0f921\"]]}],\"surface\":[{\"type\":\"surface\",\"colorbar\":{\"outlinewidth\":0,\"ticks\":\"\"},\"colorscale\":[[0.0,\"#0d0887\"],[0.1111111111111111,\"#46039f\"],[0.2222222222222222,\"#7201a8\"],[0.3333333333333333,\"#9c179e\"],[0.4444444444444444,\"#bd3786\"],[0.5555555555555556,\"#d8576b\"],[0.6666666666666666,\"#ed7953\"],[0.7777777777777778,\"#fb9f3a\"],[0.8888888888888888,\"#fdca26\"],[1.0,\"#f0f921\"]]}],\"mesh3d\":[{\"type\":\"mesh3d\",\"colorbar\":{\"outlinewidth\":0,\"ticks\":\"\"}}],\"scatter\":[{\"fillpattern\":{\"fillmode\":\"overlay\",\"size\":10,\"solidity\":0.2},\"type\":\"scatter\"}],\"parcoords\":[{\"type\":\"parcoords\",\"line\":{\"colorbar\":{\"outlinewidth\":0,\"ticks\":\"\"}}}],\"scatterpolargl\":[{\"type\":\"scatterpolargl\",\"marker\":{\"colorbar\":{\"outlinewidth\":0,\"ticks\":\"\"}}}],\"bar\":[{\"error_x\":{\"color\":\"#2a3f5f\"},\"error_y\":{\"color\":\"#2a3f5f\"},\"marker\":{\"line\":{\"color\":\"#E5ECF6\",\"width\":0.5},\"pattern\":{\"fillmode\":\"overlay\",\"size\":10,\"solidity\":0.2}},\"type\":\"bar\"}],\"scattergeo\":[{\"type\":\"scattergeo\",\"marker\":{\"colorbar\":{\"outlinewidth\":0,\"ticks\":\"\"}}}],\"scatterpolar\":[{\"type\":\"scatterpolar\",\"marker\":{\"colorbar\":{\"outlinewidth\":0,\"ticks\":\"\"}}}],\"histogram\":[{\"marker\":{\"pattern\":{\"fillmode\":\"overlay\",\"size\":10,\"solidity\":0.2}},\"type\":\"histogram\"}],\"scattergl\":[{\"type\":\"scattergl\",\"marker\":{\"colorbar\":{\"outlinewidth\":0,\"ticks\":\"\"}}}],\"scatter3d\":[{\"type\":\"scatter3d\",\"line\":{\"colorbar\":{\"outlinewidth\":0,\"ticks\":\"\"}},\"marker\":{\"colorbar\":{\"outlinewidth\":0,\"ticks\":\"\"}}}],\"scattermapbox\":[{\"type\":\"scattermapbox\",\"marker\":{\"colorbar\":{\"outlinewidth\":0,\"ticks\":\"\"}}}],\"scatterternary\":[{\"type\":\"scatterternary\",\"marker\":{\"colorbar\":{\"outlinewidth\":0,\"ticks\":\"\"}}}],\"scattercarpet\":[{\"type\":\"scattercarpet\",\"marker\":{\"colorbar\":{\"outlinewidth\":0,\"ticks\":\"\"}}}],\"carpet\":[{\"aaxis\":{\"endlinecolor\":\"#2a3f5f\",\"gridcolor\":\"white\",\"linecolor\":\"white\",\"minorgridcolor\":\"white\",\"startlinecolor\":\"#2a3f5f\"},\"baxis\":{\"endlinecolor\":\"#2a3f5f\",\"gridcolor\":\"white\",\"linecolor\":\"white\",\"minorgridcolor\":\"white\",\"startlinecolor\":\"#2a3f5f\"},\"type\":\"carpet\"}],\"table\":[{\"cells\":{\"fill\":{\"color\":\"#EBF0F8\"},\"line\":{\"color\":\"white\"}},\"header\":{\"fill\":{\"color\":\"#C8D4E3\"},\"line\":{\"color\":\"white\"}},\"type\":\"table\"}],\"barpolar\":[{\"marker\":{\"line\":{\"color\":\"#E5ECF6\",\"width\":0.5},\"pattern\":{\"fillmode\":\"overlay\",\"size\":10,\"solidity\":0.2}},\"type\":\"barpolar\"}],\"pie\":[{\"automargin\":true,\"type\":\"pie\"}]},\"layout\":{\"autotypenumbers\":\"strict\",\"colorway\":[\"#636efa\",\"#EF553B\",\"#00cc96\",\"#ab63fa\",\"#FFA15A\",\"#19d3f3\",\"#FF6692\",\"#B6E880\",\"#FF97FF\",\"#FECB52\"],\"font\":{\"color\":\"#2a3f5f\"},\"hovermode\":\"closest\",\"hoverlabel\":{\"align\":\"left\"},\"paper_bgcolor\":\"white\",\"plot_bgcolor\":\"#E5ECF6\",\"polar\":{\"bgcolor\":\"#E5ECF6\",\"angularaxis\":{\"gridcolor\":\"white\",\"linecolor\":\"white\",\"ticks\":\"\"},\"radialaxis\":{\"gridcolor\":\"white\",\"linecolor\":\"white\",\"ticks\":\"\"}},\"ternary\":{\"bgcolor\":\"#E5ECF6\",\"aaxis\":{\"gridcolor\":\"white\",\"linecolor\":\"white\",\"ticks\":\"\"},\"baxis\":{\"gridcolor\":\"white\",\"linecolor\":\"white\",\"ticks\":\"\"},\"caxis\":{\"gridcolor\":\"white\",\"linecolor\":\"white\",\"ticks\":\"\"}},\"coloraxis\":{\"colorbar\":{\"outlinewidth\":0,\"ticks\":\"\"}},\"colorscale\":{\"sequential\":[[0.0,\"#0d0887\"],[0.1111111111111111,\"#46039f\"],[0.2222222222222222,\"#7201a8\"],[0.3333333333333333,\"#9c179e\"],[0.4444444444444444,\"#bd3786\"],[0.5555555555555556,\"#d8576b\"],[0.6666666666666666,\"#ed7953\"],[0.7777777777777778,\"#fb9f3a\"],[0.8888888888888888,\"#fdca26\"],[1.0,\"#f0f921\"]],\"sequentialminus\":[[0.0,\"#0d0887\"],[0.1111111111111111,\"#46039f\"],[0.2222222222222222,\"#7201a8\"],[0.3333333333333333,\"#9c179e\"],[0.4444444444444444,\"#bd3786\"],[0.5555555555555556,\"#d8576b\"],[0.6666666666666666,\"#ed7953\"],[0.7777777777777778,\"#fb9f3a\"],[0.8888888888888888,\"#fdca26\"],[1.0,\"#f0f921\"]],\"diverging\":[[0,\"#8e0152\"],[0.1,\"#c51b7d\"],[0.2,\"#de77ae\"],[0.3,\"#f1b6da\"],[0.4,\"#fde0ef\"],[0.5,\"#f7f7f7\"],[0.6,\"#e6f5d0\"],[0.7,\"#b8e186\"],[0.8,\"#7fbc41\"],[0.9,\"#4d9221\"],[1,\"#276419\"]]},\"xaxis\":{\"gridcolor\":\"white\",\"linecolor\":\"white\",\"ticks\":\"\",\"title\":{\"standoff\":15},\"zerolinecolor\":\"white\",\"automargin\":true,\"zerolinewidth\":2},\"yaxis\":{\"gridcolor\":\"white\",\"linecolor\":\"white\",\"ticks\":\"\",\"title\":{\"standoff\":15},\"zerolinecolor\":\"white\",\"automargin\":true,\"zerolinewidth\":2},\"scene\":{\"xaxis\":{\"backgroundcolor\":\"#E5ECF6\",\"gridcolor\":\"white\",\"linecolor\":\"white\",\"showbackground\":true,\"ticks\":\"\",\"zerolinecolor\":\"white\",\"gridwidth\":2},\"yaxis\":{\"backgroundcolor\":\"#E5ECF6\",\"gridcolor\":\"white\",\"linecolor\":\"white\",\"showbackground\":true,\"ticks\":\"\",\"zerolinecolor\":\"white\",\"gridwidth\":2},\"zaxis\":{\"backgroundcolor\":\"#E5ECF6\",\"gridcolor\":\"white\",\"linecolor\":\"white\",\"showbackground\":true,\"ticks\":\"\",\"zerolinecolor\":\"white\",\"gridwidth\":2}},\"shapedefaults\":{\"line\":{\"color\":\"#2a3f5f\"}},\"annotationdefaults\":{\"arrowcolor\":\"#2a3f5f\",\"arrowhead\":0,\"arrowwidth\":1},\"geo\":{\"bgcolor\":\"white\",\"landcolor\":\"#E5ECF6\",\"subunitcolor\":\"white\",\"showland\":true,\"showlakes\":true,\"lakecolor\":\"white\"},\"title\":{\"x\":0.05},\"mapbox\":{\"style\":\"light\"}}},\"xaxis\":{\"anchor\":\"y\",\"domain\":[0.0,1.0],\"title\":{\"text\":\"Valuation ($B)\"}},\"yaxis\":{\"anchor\":\"x\",\"domain\":[0.0,1.0],\"title\":{\"text\":\"Company\"},\"categoryorder\":\"total ascending\"},\"coloraxis\":{\"colorbar\":{\"title\":{\"text\":\"Valuation ($B)\"}},\"colorscale\":[[0.0,\"#d7aefb\"],[0.1111111111111111,\"#f28b82\"],[0.2222222222222222,\"#fbbc04\"],[0.3333333333333333,\"#a7ffeb\"],[0.4444444444444444,\"#cbf0f8\"],[0.5555555555555556,\"#fbd6f5\"],[0.6666666666666666,\"#fdcfe8\"],[0.7777777777777778,\"#e6c9a8\"],[0.8888888888888888,\"#b5d2ff\"],[1.0,\"#cbaacb\"]]},\"legend\":{\"tracegroupgap\":0},\"title\":{\"text\":\"Top 10 Most Valuable Unicorn Companies\",\"font\":{\"color\":\"#e75480\"}},\"barmode\":\"relative\",\"plot_bgcolor\":\"#fff6fb\"},                        {\"responsive\": true}                    ).then(function(){\n",
              "                            \n",
              "var gd = document.getElementById('28be495b-eb6e-4a23-b050-1ff67a65a2e2');\n",
              "var x = new MutationObserver(function (mutations, observer) {{\n",
              "        var display = window.getComputedStyle(gd).display;\n",
              "        if (!display || display === 'none') {{\n",
              "            console.log([gd, 'removed!']);\n",
              "            Plotly.purge(gd);\n",
              "            observer.disconnect();\n",
              "        }}\n",
              "}});\n",
              "\n",
              "// Listen for the removal of the full notebook cells\n",
              "var notebookContainer = gd.closest('#notebook-container');\n",
              "if (notebookContainer) {{\n",
              "    x.observe(notebookContainer, {childList: true});\n",
              "}}\n",
              "\n",
              "// Listen for the clearing of the current output cell\n",
              "var outputEl = gd.closest('.output');\n",
              "if (outputEl) {{\n",
              "    x.observe(outputEl, {childList: true});\n",
              "}}\n",
              "\n",
              "                        })                };                            </script>        </div>\n",
              "</body>\n",
              "</html>"
            ]
          },
          "metadata": {}
        },
        {
          "output_type": "display_data",
          "data": {
            "text/plain": [
              "<IPython.core.display.HTML object>"
            ],
            "text/html": [
              "\n",
              "    <link href=\"https://fonts.googleapis.com/css2?family=Love+Ya+Like+A+Sister&display=swap\" rel=\"stylesheet\">\n",
              "    <div style=\"font-family: 'Love Ya Like A Sister', cursive; font-size: 24px; color: #734f96; margin-top: 30px;\">\n",
              "        <b>2. Missing 'Founded Year': How many companies do not have a 'Founded Year' recorded?</b>\n",
              "    </div>\n",
              "    "
            ]
          },
          "metadata": {}
        },
        {
          "output_type": "display_data",
          "data": {
            "text/plain": [
              "<IPython.core.display.HTML object>"
            ],
            "text/html": [
              "\n",
              "    <link href=\"https://fonts.googleapis.com/css2?family=Love+Ya+Like+A+Sister&display=swap\" rel=\"stylesheet\">\n",
              "    <div style=\"font-family: 'Love Ya Like A Sister', cursive; font-size: 18px; color: #8767a6;\">\n",
              "        There are <b>43</b> companies without a recorded Founded Year.\n",
              "    </div>\n",
              "    "
            ]
          },
          "metadata": {}
        },
        {
          "output_type": "display_data",
          "data": {
            "text/html": [
              "<html>\n",
              "<head><meta charset=\"utf-8\" /></head>\n",
              "<body>\n",
              "    <div>            <script src=\"https://cdnjs.cloudflare.com/ajax/libs/mathjax/2.7.5/MathJax.js?config=TeX-AMS-MML_SVG\"></script><script type=\"text/javascript\">if (window.MathJax && window.MathJax.Hub && window.MathJax.Hub.Config) {window.MathJax.Hub.Config({SVG: {font: \"STIX-Web\"}});}</script>                <script type=\"text/javascript\">window.PlotlyConfig = {MathJaxConfig: 'local'};</script>\n",
              "        <script charset=\"utf-8\" src=\"https://cdn.plot.ly/plotly-2.35.2.min.js\"></script>                <div id=\"72ec07e1-f5ad-469d-a9ac-685a1546a17f\" class=\"plotly-graph-div\" style=\"height:525px; width:100%;\"></div>            <script type=\"text/javascript\">                                    window.PLOTLYENV=window.PLOTLYENV || {};                                    if (document.getElementById(\"72ec07e1-f5ad-469d-a9ac-685a1546a17f\")) {                    Plotly.newPlot(                        \"72ec07e1-f5ad-469d-a9ac-685a1546a17f\",                        [{\"domain\":{\"x\":[0.0,1.0],\"y\":[0.0,1.0]},\"hovertemplate\":\"Category=%{label}\\u003cbr\\u003eCount=%{value}\\u003cextra\\u003e\\u003c\\u002fextra\\u003e\",\"labels\":[\"Recorded\",\"Missing\"],\"legendgroup\":\"\",\"name\":\"\",\"showlegend\":true,\"values\":[994,43],\"type\":\"pie\"}],                        {\"template\":{\"data\":{\"histogram2dcontour\":[{\"type\":\"histogram2dcontour\",\"colorbar\":{\"outlinewidth\":0,\"ticks\":\"\"},\"colorscale\":[[0.0,\"#0d0887\"],[0.1111111111111111,\"#46039f\"],[0.2222222222222222,\"#7201a8\"],[0.3333333333333333,\"#9c179e\"],[0.4444444444444444,\"#bd3786\"],[0.5555555555555556,\"#d8576b\"],[0.6666666666666666,\"#ed7953\"],[0.7777777777777778,\"#fb9f3a\"],[0.8888888888888888,\"#fdca26\"],[1.0,\"#f0f921\"]]}],\"choropleth\":[{\"type\":\"choropleth\",\"colorbar\":{\"outlinewidth\":0,\"ticks\":\"\"}}],\"histogram2d\":[{\"type\":\"histogram2d\",\"colorbar\":{\"outlinewidth\":0,\"ticks\":\"\"},\"colorscale\":[[0.0,\"#0d0887\"],[0.1111111111111111,\"#46039f\"],[0.2222222222222222,\"#7201a8\"],[0.3333333333333333,\"#9c179e\"],[0.4444444444444444,\"#bd3786\"],[0.5555555555555556,\"#d8576b\"],[0.6666666666666666,\"#ed7953\"],[0.7777777777777778,\"#fb9f3a\"],[0.8888888888888888,\"#fdca26\"],[1.0,\"#f0f921\"]]}],\"heatmap\":[{\"type\":\"heatmap\",\"colorbar\":{\"outlinewidth\":0,\"ticks\":\"\"},\"colorscale\":[[0.0,\"#0d0887\"],[0.1111111111111111,\"#46039f\"],[0.2222222222222222,\"#7201a8\"],[0.3333333333333333,\"#9c179e\"],[0.4444444444444444,\"#bd3786\"],[0.5555555555555556,\"#d8576b\"],[0.6666666666666666,\"#ed7953\"],[0.7777777777777778,\"#fb9f3a\"],[0.8888888888888888,\"#fdca26\"],[1.0,\"#f0f921\"]]}],\"heatmapgl\":[{\"type\":\"heatmapgl\",\"colorbar\":{\"outlinewidth\":0,\"ticks\":\"\"},\"colorscale\":[[0.0,\"#0d0887\"],[0.1111111111111111,\"#46039f\"],[0.2222222222222222,\"#7201a8\"],[0.3333333333333333,\"#9c179e\"],[0.4444444444444444,\"#bd3786\"],[0.5555555555555556,\"#d8576b\"],[0.6666666666666666,\"#ed7953\"],[0.7777777777777778,\"#fb9f3a\"],[0.8888888888888888,\"#fdca26\"],[1.0,\"#f0f921\"]]}],\"contourcarpet\":[{\"type\":\"contourcarpet\",\"colorbar\":{\"outlinewidth\":0,\"ticks\":\"\"}}],\"contour\":[{\"type\":\"contour\",\"colorbar\":{\"outlinewidth\":0,\"ticks\":\"\"},\"colorscale\":[[0.0,\"#0d0887\"],[0.1111111111111111,\"#46039f\"],[0.2222222222222222,\"#7201a8\"],[0.3333333333333333,\"#9c179e\"],[0.4444444444444444,\"#bd3786\"],[0.5555555555555556,\"#d8576b\"],[0.6666666666666666,\"#ed7953\"],[0.7777777777777778,\"#fb9f3a\"],[0.8888888888888888,\"#fdca26\"],[1.0,\"#f0f921\"]]}],\"surface\":[{\"type\":\"surface\",\"colorbar\":{\"outlinewidth\":0,\"ticks\":\"\"},\"colorscale\":[[0.0,\"#0d0887\"],[0.1111111111111111,\"#46039f\"],[0.2222222222222222,\"#7201a8\"],[0.3333333333333333,\"#9c179e\"],[0.4444444444444444,\"#bd3786\"],[0.5555555555555556,\"#d8576b\"],[0.6666666666666666,\"#ed7953\"],[0.7777777777777778,\"#fb9f3a\"],[0.8888888888888888,\"#fdca26\"],[1.0,\"#f0f921\"]]}],\"mesh3d\":[{\"type\":\"mesh3d\",\"colorbar\":{\"outlinewidth\":0,\"ticks\":\"\"}}],\"scatter\":[{\"fillpattern\":{\"fillmode\":\"overlay\",\"size\":10,\"solidity\":0.2},\"type\":\"scatter\"}],\"parcoords\":[{\"type\":\"parcoords\",\"line\":{\"colorbar\":{\"outlinewidth\":0,\"ticks\":\"\"}}}],\"scatterpolargl\":[{\"type\":\"scatterpolargl\",\"marker\":{\"colorbar\":{\"outlinewidth\":0,\"ticks\":\"\"}}}],\"bar\":[{\"error_x\":{\"color\":\"#2a3f5f\"},\"error_y\":{\"color\":\"#2a3f5f\"},\"marker\":{\"line\":{\"color\":\"#E5ECF6\",\"width\":0.5},\"pattern\":{\"fillmode\":\"overlay\",\"size\":10,\"solidity\":0.2}},\"type\":\"bar\"}],\"scattergeo\":[{\"type\":\"scattergeo\",\"marker\":{\"colorbar\":{\"outlinewidth\":0,\"ticks\":\"\"}}}],\"scatterpolar\":[{\"type\":\"scatterpolar\",\"marker\":{\"colorbar\":{\"outlinewidth\":0,\"ticks\":\"\"}}}],\"histogram\":[{\"marker\":{\"pattern\":{\"fillmode\":\"overlay\",\"size\":10,\"solidity\":0.2}},\"type\":\"histogram\"}],\"scattergl\":[{\"type\":\"scattergl\",\"marker\":{\"colorbar\":{\"outlinewidth\":0,\"ticks\":\"\"}}}],\"scatter3d\":[{\"type\":\"scatter3d\",\"line\":{\"colorbar\":{\"outlinewidth\":0,\"ticks\":\"\"}},\"marker\":{\"colorbar\":{\"outlinewidth\":0,\"ticks\":\"\"}}}],\"scattermapbox\":[{\"type\":\"scattermapbox\",\"marker\":{\"colorbar\":{\"outlinewidth\":0,\"ticks\":\"\"}}}],\"scatterternary\":[{\"type\":\"scatterternary\",\"marker\":{\"colorbar\":{\"outlinewidth\":0,\"ticks\":\"\"}}}],\"scattercarpet\":[{\"type\":\"scattercarpet\",\"marker\":{\"colorbar\":{\"outlinewidth\":0,\"ticks\":\"\"}}}],\"carpet\":[{\"aaxis\":{\"endlinecolor\":\"#2a3f5f\",\"gridcolor\":\"white\",\"linecolor\":\"white\",\"minorgridcolor\":\"white\",\"startlinecolor\":\"#2a3f5f\"},\"baxis\":{\"endlinecolor\":\"#2a3f5f\",\"gridcolor\":\"white\",\"linecolor\":\"white\",\"minorgridcolor\":\"white\",\"startlinecolor\":\"#2a3f5f\"},\"type\":\"carpet\"}],\"table\":[{\"cells\":{\"fill\":{\"color\":\"#EBF0F8\"},\"line\":{\"color\":\"white\"}},\"header\":{\"fill\":{\"color\":\"#C8D4E3\"},\"line\":{\"color\":\"white\"}},\"type\":\"table\"}],\"barpolar\":[{\"marker\":{\"line\":{\"color\":\"#E5ECF6\",\"width\":0.5},\"pattern\":{\"fillmode\":\"overlay\",\"size\":10,\"solidity\":0.2}},\"type\":\"barpolar\"}],\"pie\":[{\"automargin\":true,\"type\":\"pie\"}]},\"layout\":{\"autotypenumbers\":\"strict\",\"colorway\":[\"#636efa\",\"#EF553B\",\"#00cc96\",\"#ab63fa\",\"#FFA15A\",\"#19d3f3\",\"#FF6692\",\"#B6E880\",\"#FF97FF\",\"#FECB52\"],\"font\":{\"color\":\"#2a3f5f\"},\"hovermode\":\"closest\",\"hoverlabel\":{\"align\":\"left\"},\"paper_bgcolor\":\"white\",\"plot_bgcolor\":\"#E5ECF6\",\"polar\":{\"bgcolor\":\"#E5ECF6\",\"angularaxis\":{\"gridcolor\":\"white\",\"linecolor\":\"white\",\"ticks\":\"\"},\"radialaxis\":{\"gridcolor\":\"white\",\"linecolor\":\"white\",\"ticks\":\"\"}},\"ternary\":{\"bgcolor\":\"#E5ECF6\",\"aaxis\":{\"gridcolor\":\"white\",\"linecolor\":\"white\",\"ticks\":\"\"},\"baxis\":{\"gridcolor\":\"white\",\"linecolor\":\"white\",\"ticks\":\"\"},\"caxis\":{\"gridcolor\":\"white\",\"linecolor\":\"white\",\"ticks\":\"\"}},\"coloraxis\":{\"colorbar\":{\"outlinewidth\":0,\"ticks\":\"\"}},\"colorscale\":{\"sequential\":[[0.0,\"#0d0887\"],[0.1111111111111111,\"#46039f\"],[0.2222222222222222,\"#7201a8\"],[0.3333333333333333,\"#9c179e\"],[0.4444444444444444,\"#bd3786\"],[0.5555555555555556,\"#d8576b\"],[0.6666666666666666,\"#ed7953\"],[0.7777777777777778,\"#fb9f3a\"],[0.8888888888888888,\"#fdca26\"],[1.0,\"#f0f921\"]],\"sequentialminus\":[[0.0,\"#0d0887\"],[0.1111111111111111,\"#46039f\"],[0.2222222222222222,\"#7201a8\"],[0.3333333333333333,\"#9c179e\"],[0.4444444444444444,\"#bd3786\"],[0.5555555555555556,\"#d8576b\"],[0.6666666666666666,\"#ed7953\"],[0.7777777777777778,\"#fb9f3a\"],[0.8888888888888888,\"#fdca26\"],[1.0,\"#f0f921\"]],\"diverging\":[[0,\"#8e0152\"],[0.1,\"#c51b7d\"],[0.2,\"#de77ae\"],[0.3,\"#f1b6da\"],[0.4,\"#fde0ef\"],[0.5,\"#f7f7f7\"],[0.6,\"#e6f5d0\"],[0.7,\"#b8e186\"],[0.8,\"#7fbc41\"],[0.9,\"#4d9221\"],[1,\"#276419\"]]},\"xaxis\":{\"gridcolor\":\"white\",\"linecolor\":\"white\",\"ticks\":\"\",\"title\":{\"standoff\":15},\"zerolinecolor\":\"white\",\"automargin\":true,\"zerolinewidth\":2},\"yaxis\":{\"gridcolor\":\"white\",\"linecolor\":\"white\",\"ticks\":\"\",\"title\":{\"standoff\":15},\"zerolinecolor\":\"white\",\"automargin\":true,\"zerolinewidth\":2},\"scene\":{\"xaxis\":{\"backgroundcolor\":\"#E5ECF6\",\"gridcolor\":\"white\",\"linecolor\":\"white\",\"showbackground\":true,\"ticks\":\"\",\"zerolinecolor\":\"white\",\"gridwidth\":2},\"yaxis\":{\"backgroundcolor\":\"#E5ECF6\",\"gridcolor\":\"white\",\"linecolor\":\"white\",\"showbackground\":true,\"ticks\":\"\",\"zerolinecolor\":\"white\",\"gridwidth\":2},\"zaxis\":{\"backgroundcolor\":\"#E5ECF6\",\"gridcolor\":\"white\",\"linecolor\":\"white\",\"showbackground\":true,\"ticks\":\"\",\"zerolinecolor\":\"white\",\"gridwidth\":2}},\"shapedefaults\":{\"line\":{\"color\":\"#2a3f5f\"}},\"annotationdefaults\":{\"arrowcolor\":\"#2a3f5f\",\"arrowhead\":0,\"arrowwidth\":1},\"geo\":{\"bgcolor\":\"white\",\"landcolor\":\"#E5ECF6\",\"subunitcolor\":\"white\",\"showland\":true,\"showlakes\":true,\"lakecolor\":\"white\"},\"title\":{\"x\":0.05},\"mapbox\":{\"style\":\"light\"}}},\"legend\":{\"tracegroupgap\":0},\"title\":{\"text\":\"Proportion of Companies with Missing Founded Year\",\"font\":{\"color\":\"#e75480\"}},\"piecolorway\":[\"#d7aefb\",\"#fbd6f5\"],\"plot_bgcolor\":\"#fff3f9\"},                        {\"responsive\": true}                    ).then(function(){\n",
              "                            \n",
              "var gd = document.getElementById('72ec07e1-f5ad-469d-a9ac-685a1546a17f');\n",
              "var x = new MutationObserver(function (mutations, observer) {{\n",
              "        var display = window.getComputedStyle(gd).display;\n",
              "        if (!display || display === 'none') {{\n",
              "            console.log([gd, 'removed!']);\n",
              "            Plotly.purge(gd);\n",
              "            observer.disconnect();\n",
              "        }}\n",
              "}});\n",
              "\n",
              "// Listen for the removal of the full notebook cells\n",
              "var notebookContainer = gd.closest('#notebook-container');\n",
              "if (notebookContainer) {{\n",
              "    x.observe(notebookContainer, {childList: true});\n",
              "}}\n",
              "\n",
              "// Listen for the clearing of the current output cell\n",
              "var outputEl = gd.closest('.output');\n",
              "if (outputEl) {{\n",
              "    x.observe(outputEl, {childList: true});\n",
              "}}\n",
              "\n",
              "                        })                };                            </script>        </div>\n",
              "</body>\n",
              "</html>"
            ]
          },
          "metadata": {}
        },
        {
          "output_type": "display_data",
          "data": {
            "text/plain": [
              "<IPython.core.display.HTML object>"
            ],
            "text/html": [
              "\n",
              "    <link href=\"https://fonts.googleapis.com/css2?family=Love+Ya+Like+A+Sister&display=swap\" rel=\"stylesheet\">\n",
              "    <div style=\"font-family: 'Love Ya Like A Sister', cursive; font-size: 24px; color: #734f96; margin-top: 30px;\">\n",
              "        <b>3. No Listed Investors: How many companies have 'Not disclosed' in 'Select Investors'?</b>\n",
              "    </div>\n",
              "    "
            ]
          },
          "metadata": {}
        },
        {
          "output_type": "display_data",
          "data": {
            "text/plain": [
              "<IPython.core.display.HTML object>"
            ],
            "text/html": [
              "\n",
              "    <link href=\"https://fonts.googleapis.com/css2?family=Love+Ya+Like+A+Sister&display=swap\" rel=\"stylesheet\">\n",
              "    <div style=\"font-family: 'Love Ya Like A Sister', cursive; font-size: 18px; color: #8767a6;\">\n",
              "        <b>17</b> companies have no listed investors (marked as 'Not disclosed').\n",
              "    </div>\n",
              "    "
            ]
          },
          "metadata": {}
        },
        {
          "output_type": "display_data",
          "data": {
            "text/html": [
              "<html>\n",
              "<head><meta charset=\"utf-8\" /></head>\n",
              "<body>\n",
              "    <div>            <script src=\"https://cdnjs.cloudflare.com/ajax/libs/mathjax/2.7.5/MathJax.js?config=TeX-AMS-MML_SVG\"></script><script type=\"text/javascript\">if (window.MathJax && window.MathJax.Hub && window.MathJax.Hub.Config) {window.MathJax.Hub.Config({SVG: {font: \"STIX-Web\"}});}</script>                <script type=\"text/javascript\">window.PlotlyConfig = {MathJaxConfig: 'local'};</script>\n",
              "        <script charset=\"utf-8\" src=\"https://cdn.plot.ly/plotly-2.35.2.min.js\"></script>                <div id=\"177090c3-fc23-442f-933f-fe6cfbde1533\" class=\"plotly-graph-div\" style=\"height:525px; width:100%;\"></div>            <script type=\"text/javascript\">                                    window.PLOTLYENV=window.PLOTLYENV || {};                                    if (document.getElementById(\"177090c3-fc23-442f-933f-fe6cfbde1533\")) {                    Plotly.newPlot(                        \"177090c3-fc23-442f-933f-fe6cfbde1533\",                        [{\"domain\":{\"x\":[0.0,1.0],\"y\":[0.0,1.0]},\"hovertemplate\":\"Category=%{label}\\u003cbr\\u003eCount=%{value}\\u003cextra\\u003e\\u003c\\u002fextra\\u003e\",\"labels\":[\"Disclosed\",\"Not Disclosed\"],\"legendgroup\":\"\",\"name\":\"\",\"showlegend\":true,\"values\":[1020,17],\"type\":\"pie\"}],                        {\"template\":{\"data\":{\"histogram2dcontour\":[{\"type\":\"histogram2dcontour\",\"colorbar\":{\"outlinewidth\":0,\"ticks\":\"\"},\"colorscale\":[[0.0,\"#0d0887\"],[0.1111111111111111,\"#46039f\"],[0.2222222222222222,\"#7201a8\"],[0.3333333333333333,\"#9c179e\"],[0.4444444444444444,\"#bd3786\"],[0.5555555555555556,\"#d8576b\"],[0.6666666666666666,\"#ed7953\"],[0.7777777777777778,\"#fb9f3a\"],[0.8888888888888888,\"#fdca26\"],[1.0,\"#f0f921\"]]}],\"choropleth\":[{\"type\":\"choropleth\",\"colorbar\":{\"outlinewidth\":0,\"ticks\":\"\"}}],\"histogram2d\":[{\"type\":\"histogram2d\",\"colorbar\":{\"outlinewidth\":0,\"ticks\":\"\"},\"colorscale\":[[0.0,\"#0d0887\"],[0.1111111111111111,\"#46039f\"],[0.2222222222222222,\"#7201a8\"],[0.3333333333333333,\"#9c179e\"],[0.4444444444444444,\"#bd3786\"],[0.5555555555555556,\"#d8576b\"],[0.6666666666666666,\"#ed7953\"],[0.7777777777777778,\"#fb9f3a\"],[0.8888888888888888,\"#fdca26\"],[1.0,\"#f0f921\"]]}],\"heatmap\":[{\"type\":\"heatmap\",\"colorbar\":{\"outlinewidth\":0,\"ticks\":\"\"},\"colorscale\":[[0.0,\"#0d0887\"],[0.1111111111111111,\"#46039f\"],[0.2222222222222222,\"#7201a8\"],[0.3333333333333333,\"#9c179e\"],[0.4444444444444444,\"#bd3786\"],[0.5555555555555556,\"#d8576b\"],[0.6666666666666666,\"#ed7953\"],[0.7777777777777778,\"#fb9f3a\"],[0.8888888888888888,\"#fdca26\"],[1.0,\"#f0f921\"]]}],\"heatmapgl\":[{\"type\":\"heatmapgl\",\"colorbar\":{\"outlinewidth\":0,\"ticks\":\"\"},\"colorscale\":[[0.0,\"#0d0887\"],[0.1111111111111111,\"#46039f\"],[0.2222222222222222,\"#7201a8\"],[0.3333333333333333,\"#9c179e\"],[0.4444444444444444,\"#bd3786\"],[0.5555555555555556,\"#d8576b\"],[0.6666666666666666,\"#ed7953\"],[0.7777777777777778,\"#fb9f3a\"],[0.8888888888888888,\"#fdca26\"],[1.0,\"#f0f921\"]]}],\"contourcarpet\":[{\"type\":\"contourcarpet\",\"colorbar\":{\"outlinewidth\":0,\"ticks\":\"\"}}],\"contour\":[{\"type\":\"contour\",\"colorbar\":{\"outlinewidth\":0,\"ticks\":\"\"},\"colorscale\":[[0.0,\"#0d0887\"],[0.1111111111111111,\"#46039f\"],[0.2222222222222222,\"#7201a8\"],[0.3333333333333333,\"#9c179e\"],[0.4444444444444444,\"#bd3786\"],[0.5555555555555556,\"#d8576b\"],[0.6666666666666666,\"#ed7953\"],[0.7777777777777778,\"#fb9f3a\"],[0.8888888888888888,\"#fdca26\"],[1.0,\"#f0f921\"]]}],\"surface\":[{\"type\":\"surface\",\"colorbar\":{\"outlinewidth\":0,\"ticks\":\"\"},\"colorscale\":[[0.0,\"#0d0887\"],[0.1111111111111111,\"#46039f\"],[0.2222222222222222,\"#7201a8\"],[0.3333333333333333,\"#9c179e\"],[0.4444444444444444,\"#bd3786\"],[0.5555555555555556,\"#d8576b\"],[0.6666666666666666,\"#ed7953\"],[0.7777777777777778,\"#fb9f3a\"],[0.8888888888888888,\"#fdca26\"],[1.0,\"#f0f921\"]]}],\"mesh3d\":[{\"type\":\"mesh3d\",\"colorbar\":{\"outlinewidth\":0,\"ticks\":\"\"}}],\"scatter\":[{\"fillpattern\":{\"fillmode\":\"overlay\",\"size\":10,\"solidity\":0.2},\"type\":\"scatter\"}],\"parcoords\":[{\"type\":\"parcoords\",\"line\":{\"colorbar\":{\"outlinewidth\":0,\"ticks\":\"\"}}}],\"scatterpolargl\":[{\"type\":\"scatterpolargl\",\"marker\":{\"colorbar\":{\"outlinewidth\":0,\"ticks\":\"\"}}}],\"bar\":[{\"error_x\":{\"color\":\"#2a3f5f\"},\"error_y\":{\"color\":\"#2a3f5f\"},\"marker\":{\"line\":{\"color\":\"#E5ECF6\",\"width\":0.5},\"pattern\":{\"fillmode\":\"overlay\",\"size\":10,\"solidity\":0.2}},\"type\":\"bar\"}],\"scattergeo\":[{\"type\":\"scattergeo\",\"marker\":{\"colorbar\":{\"outlinewidth\":0,\"ticks\":\"\"}}}],\"scatterpolar\":[{\"type\":\"scatterpolar\",\"marker\":{\"colorbar\":{\"outlinewidth\":0,\"ticks\":\"\"}}}],\"histogram\":[{\"marker\":{\"pattern\":{\"fillmode\":\"overlay\",\"size\":10,\"solidity\":0.2}},\"type\":\"histogram\"}],\"scattergl\":[{\"type\":\"scattergl\",\"marker\":{\"colorbar\":{\"outlinewidth\":0,\"ticks\":\"\"}}}],\"scatter3d\":[{\"type\":\"scatter3d\",\"line\":{\"colorbar\":{\"outlinewidth\":0,\"ticks\":\"\"}},\"marker\":{\"colorbar\":{\"outlinewidth\":0,\"ticks\":\"\"}}}],\"scattermapbox\":[{\"type\":\"scattermapbox\",\"marker\":{\"colorbar\":{\"outlinewidth\":0,\"ticks\":\"\"}}}],\"scatterternary\":[{\"type\":\"scatterternary\",\"marker\":{\"colorbar\":{\"outlinewidth\":0,\"ticks\":\"\"}}}],\"scattercarpet\":[{\"type\":\"scattercarpet\",\"marker\":{\"colorbar\":{\"outlinewidth\":0,\"ticks\":\"\"}}}],\"carpet\":[{\"aaxis\":{\"endlinecolor\":\"#2a3f5f\",\"gridcolor\":\"white\",\"linecolor\":\"white\",\"minorgridcolor\":\"white\",\"startlinecolor\":\"#2a3f5f\"},\"baxis\":{\"endlinecolor\":\"#2a3f5f\",\"gridcolor\":\"white\",\"linecolor\":\"white\",\"minorgridcolor\":\"white\",\"startlinecolor\":\"#2a3f5f\"},\"type\":\"carpet\"}],\"table\":[{\"cells\":{\"fill\":{\"color\":\"#EBF0F8\"},\"line\":{\"color\":\"white\"}},\"header\":{\"fill\":{\"color\":\"#C8D4E3\"},\"line\":{\"color\":\"white\"}},\"type\":\"table\"}],\"barpolar\":[{\"marker\":{\"line\":{\"color\":\"#E5ECF6\",\"width\":0.5},\"pattern\":{\"fillmode\":\"overlay\",\"size\":10,\"solidity\":0.2}},\"type\":\"barpolar\"}],\"pie\":[{\"automargin\":true,\"type\":\"pie\"}]},\"layout\":{\"autotypenumbers\":\"strict\",\"colorway\":[\"#636efa\",\"#EF553B\",\"#00cc96\",\"#ab63fa\",\"#FFA15A\",\"#19d3f3\",\"#FF6692\",\"#B6E880\",\"#FF97FF\",\"#FECB52\"],\"font\":{\"color\":\"#2a3f5f\"},\"hovermode\":\"closest\",\"hoverlabel\":{\"align\":\"left\"},\"paper_bgcolor\":\"white\",\"plot_bgcolor\":\"#E5ECF6\",\"polar\":{\"bgcolor\":\"#E5ECF6\",\"angularaxis\":{\"gridcolor\":\"white\",\"linecolor\":\"white\",\"ticks\":\"\"},\"radialaxis\":{\"gridcolor\":\"white\",\"linecolor\":\"white\",\"ticks\":\"\"}},\"ternary\":{\"bgcolor\":\"#E5ECF6\",\"aaxis\":{\"gridcolor\":\"white\",\"linecolor\":\"white\",\"ticks\":\"\"},\"baxis\":{\"gridcolor\":\"white\",\"linecolor\":\"white\",\"ticks\":\"\"},\"caxis\":{\"gridcolor\":\"white\",\"linecolor\":\"white\",\"ticks\":\"\"}},\"coloraxis\":{\"colorbar\":{\"outlinewidth\":0,\"ticks\":\"\"}},\"colorscale\":{\"sequential\":[[0.0,\"#0d0887\"],[0.1111111111111111,\"#46039f\"],[0.2222222222222222,\"#7201a8\"],[0.3333333333333333,\"#9c179e\"],[0.4444444444444444,\"#bd3786\"],[0.5555555555555556,\"#d8576b\"],[0.6666666666666666,\"#ed7953\"],[0.7777777777777778,\"#fb9f3a\"],[0.8888888888888888,\"#fdca26\"],[1.0,\"#f0f921\"]],\"sequentialminus\":[[0.0,\"#0d0887\"],[0.1111111111111111,\"#46039f\"],[0.2222222222222222,\"#7201a8\"],[0.3333333333333333,\"#9c179e\"],[0.4444444444444444,\"#bd3786\"],[0.5555555555555556,\"#d8576b\"],[0.6666666666666666,\"#ed7953\"],[0.7777777777777778,\"#fb9f3a\"],[0.8888888888888888,\"#fdca26\"],[1.0,\"#f0f921\"]],\"diverging\":[[0,\"#8e0152\"],[0.1,\"#c51b7d\"],[0.2,\"#de77ae\"],[0.3,\"#f1b6da\"],[0.4,\"#fde0ef\"],[0.5,\"#f7f7f7\"],[0.6,\"#e6f5d0\"],[0.7,\"#b8e186\"],[0.8,\"#7fbc41\"],[0.9,\"#4d9221\"],[1,\"#276419\"]]},\"xaxis\":{\"gridcolor\":\"white\",\"linecolor\":\"white\",\"ticks\":\"\",\"title\":{\"standoff\":15},\"zerolinecolor\":\"white\",\"automargin\":true,\"zerolinewidth\":2},\"yaxis\":{\"gridcolor\":\"white\",\"linecolor\":\"white\",\"ticks\":\"\",\"title\":{\"standoff\":15},\"zerolinecolor\":\"white\",\"automargin\":true,\"zerolinewidth\":2},\"scene\":{\"xaxis\":{\"backgroundcolor\":\"#E5ECF6\",\"gridcolor\":\"white\",\"linecolor\":\"white\",\"showbackground\":true,\"ticks\":\"\",\"zerolinecolor\":\"white\",\"gridwidth\":2},\"yaxis\":{\"backgroundcolor\":\"#E5ECF6\",\"gridcolor\":\"white\",\"linecolor\":\"white\",\"showbackground\":true,\"ticks\":\"\",\"zerolinecolor\":\"white\",\"gridwidth\":2},\"zaxis\":{\"backgroundcolor\":\"#E5ECF6\",\"gridcolor\":\"white\",\"linecolor\":\"white\",\"showbackground\":true,\"ticks\":\"\",\"zerolinecolor\":\"white\",\"gridwidth\":2}},\"shapedefaults\":{\"line\":{\"color\":\"#2a3f5f\"}},\"annotationdefaults\":{\"arrowcolor\":\"#2a3f5f\",\"arrowhead\":0,\"arrowwidth\":1},\"geo\":{\"bgcolor\":\"white\",\"landcolor\":\"#E5ECF6\",\"subunitcolor\":\"white\",\"showland\":true,\"showlakes\":true,\"lakecolor\":\"white\"},\"title\":{\"x\":0.05},\"mapbox\":{\"style\":\"light\"}}},\"legend\":{\"tracegroupgap\":0},\"title\":{\"text\":\"Proportion of Companies with Undisclosed Investors\",\"font\":{\"color\":\"#e75480\"}},\"piecolorway\":[\"#d7aefb\",\"#fbd6f5\"],\"plot_bgcolor\":\"#fff3f9\"},                        {\"responsive\": true}                    ).then(function(){\n",
              "                            \n",
              "var gd = document.getElementById('177090c3-fc23-442f-933f-fe6cfbde1533');\n",
              "var x = new MutationObserver(function (mutations, observer) {{\n",
              "        var display = window.getComputedStyle(gd).display;\n",
              "        if (!display || display === 'none') {{\n",
              "            console.log([gd, 'removed!']);\n",
              "            Plotly.purge(gd);\n",
              "            observer.disconnect();\n",
              "        }}\n",
              "}});\n",
              "\n",
              "// Listen for the removal of the full notebook cells\n",
              "var notebookContainer = gd.closest('#notebook-container');\n",
              "if (notebookContainer) {{\n",
              "    x.observe(notebookContainer, {childList: true});\n",
              "}}\n",
              "\n",
              "// Listen for the clearing of the current output cell\n",
              "var outputEl = gd.closest('.output');\n",
              "if (outputEl) {{\n",
              "    x.observe(outputEl, {childList: true});\n",
              "}}\n",
              "\n",
              "                        })                };                            </script>        </div>\n",
              "</body>\n",
              "</html>"
            ]
          },
          "metadata": {}
        },
        {
          "output_type": "display_data",
          "data": {
            "text/plain": [
              "<IPython.core.display.HTML object>"
            ],
            "text/html": [
              "\n",
              "    <link href=\"https://fonts.googleapis.com/css2?family=Love+Ya+Like+A+Sister&display=swap\" rel=\"stylesheet\">\n",
              "    <div style=\"font-family: 'Love Ya Like A Sister', cursive; font-size: 24px; color: #734f96; margin-top: 30px;\">\n",
              "        <b>4. Most Unicorns by Country</b>\n",
              "    </div>\n",
              "    "
            ]
          },
          "metadata": {}
        },
        {
          "output_type": "display_data",
          "data": {
            "text/plain": [
              "<IPython.core.display.HTML object>"
            ],
            "text/html": [
              "\n",
              "    <link href=\"https://fonts.googleapis.com/css2?family=Love+Ya+Like+A+Sister&display=swap\" rel=\"stylesheet\">\n",
              "    <div style=\"font-family: 'Love Ya Like A Sister', cursive; font-size: 18px; color: #8767a6;\">\n",
              "        The country with the most unicorn companies is <b>United States</b>.\n",
              "    </div>\n",
              "    "
            ]
          },
          "metadata": {}
        },
        {
          "output_type": "display_data",
          "data": {
            "text/html": [
              "<html>\n",
              "<head><meta charset=\"utf-8\" /></head>\n",
              "<body>\n",
              "    <div>            <script src=\"https://cdnjs.cloudflare.com/ajax/libs/mathjax/2.7.5/MathJax.js?config=TeX-AMS-MML_SVG\"></script><script type=\"text/javascript\">if (window.MathJax && window.MathJax.Hub && window.MathJax.Hub.Config) {window.MathJax.Hub.Config({SVG: {font: \"STIX-Web\"}});}</script>                <script type=\"text/javascript\">window.PlotlyConfig = {MathJaxConfig: 'local'};</script>\n",
              "        <script charset=\"utf-8\" src=\"https://cdn.plot.ly/plotly-2.35.2.min.js\"></script>                <div id=\"47619d60-4c2c-4039-b419-4449382b6e5c\" class=\"plotly-graph-div\" style=\"height:525px; width:100%;\"></div>            <script type=\"text/javascript\">                                    window.PLOTLYENV=window.PLOTLYENV || {};                                    if (document.getElementById(\"47619d60-4c2c-4039-b419-4449382b6e5c\")) {                    Plotly.newPlot(                        \"47619d60-4c2c-4039-b419-4449382b6e5c\",                        [{\"alignmentgroup\":\"True\",\"hovertemplate\":\"Country=%{x}\\u003cbr\\u003eNumber of Companies=%{y}\\u003cextra\\u003e\\u003c\\u002fextra\\u003e\",\"legendgroup\":\"United States\",\"marker\":{\"color\":\"#d7aefb\",\"pattern\":{\"shape\":\"\"}},\"name\":\"United States\",\"offsetgroup\":\"United States\",\"orientation\":\"v\",\"showlegend\":true,\"textposition\":\"auto\",\"x\":[\"United States\"],\"xaxis\":\"x\",\"y\":[536],\"yaxis\":\"y\",\"type\":\"bar\"},{\"alignmentgroup\":\"True\",\"hovertemplate\":\"Country=%{x}\\u003cbr\\u003eNumber of Companies=%{y}\\u003cextra\\u003e\\u003c\\u002fextra\\u003e\",\"legendgroup\":\"China\",\"marker\":{\"color\":\"#f28b82\",\"pattern\":{\"shape\":\"\"}},\"name\":\"China\",\"offsetgroup\":\"China\",\"orientation\":\"v\",\"showlegend\":true,\"textposition\":\"auto\",\"x\":[\"China\"],\"xaxis\":\"x\",\"y\":[168],\"yaxis\":\"y\",\"type\":\"bar\"},{\"alignmentgroup\":\"True\",\"hovertemplate\":\"Country=%{x}\\u003cbr\\u003eNumber of Companies=%{y}\\u003cextra\\u003e\\u003c\\u002fextra\\u003e\",\"legendgroup\":\"India\",\"marker\":{\"color\":\"#fbbc04\",\"pattern\":{\"shape\":\"\"}},\"name\":\"India\",\"offsetgroup\":\"India\",\"orientation\":\"v\",\"showlegend\":true,\"textposition\":\"auto\",\"x\":[\"India\"],\"xaxis\":\"x\",\"y\":[63],\"yaxis\":\"y\",\"type\":\"bar\"},{\"alignmentgroup\":\"True\",\"hovertemplate\":\"Country=%{x}\\u003cbr\\u003eNumber of Companies=%{y}\\u003cextra\\u003e\\u003c\\u002fextra\\u003e\",\"legendgroup\":\"United Kingdom\",\"marker\":{\"color\":\"#a7ffeb\",\"pattern\":{\"shape\":\"\"}},\"name\":\"United Kingdom\",\"offsetgroup\":\"United Kingdom\",\"orientation\":\"v\",\"showlegend\":true,\"textposition\":\"auto\",\"x\":[\"United Kingdom\"],\"xaxis\":\"x\",\"y\":[42],\"yaxis\":\"y\",\"type\":\"bar\"},{\"alignmentgroup\":\"True\",\"hovertemplate\":\"Country=%{x}\\u003cbr\\u003eNumber of Companies=%{y}\\u003cextra\\u003e\\u003c\\u002fextra\\u003e\",\"legendgroup\":\"Germany\",\"marker\":{\"color\":\"#cbf0f8\",\"pattern\":{\"shape\":\"\"}},\"name\":\"Germany\",\"offsetgroup\":\"Germany\",\"orientation\":\"v\",\"showlegend\":true,\"textposition\":\"auto\",\"x\":[\"Germany\"],\"xaxis\":\"x\",\"y\":[24],\"yaxis\":\"y\",\"type\":\"bar\"},{\"alignmentgroup\":\"True\",\"hovertemplate\":\"Country=%{x}\\u003cbr\\u003eNumber of Companies=%{y}\\u003cextra\\u003e\\u003c\\u002fextra\\u003e\",\"legendgroup\":\"France\",\"marker\":{\"color\":\"#fbd6f5\",\"pattern\":{\"shape\":\"\"}},\"name\":\"France\",\"offsetgroup\":\"France\",\"orientation\":\"v\",\"showlegend\":true,\"textposition\":\"auto\",\"x\":[\"France\"],\"xaxis\":\"x\",\"y\":[24],\"yaxis\":\"y\",\"type\":\"bar\"},{\"alignmentgroup\":\"True\",\"hovertemplate\":\"Country=%{x}\\u003cbr\\u003eNumber of Companies=%{y}\\u003cextra\\u003e\\u003c\\u002fextra\\u003e\",\"legendgroup\":\"Israel\",\"marker\":{\"color\":\"#fdcfe8\",\"pattern\":{\"shape\":\"\"}},\"name\":\"Israel\",\"offsetgroup\":\"Israel\",\"orientation\":\"v\",\"showlegend\":true,\"textposition\":\"auto\",\"x\":[\"Israel\"],\"xaxis\":\"x\",\"y\":[20],\"yaxis\":\"y\",\"type\":\"bar\"},{\"alignmentgroup\":\"True\",\"hovertemplate\":\"Country=%{x}\\u003cbr\\u003eNumber of Companies=%{y}\\u003cextra\\u003e\\u003c\\u002fextra\\u003e\",\"legendgroup\":\"Canada\",\"marker\":{\"color\":\"#e6c9a8\",\"pattern\":{\"shape\":\"\"}},\"name\":\"Canada\",\"offsetgroup\":\"Canada\",\"orientation\":\"v\",\"showlegend\":true,\"textposition\":\"auto\",\"x\":[\"Canada\"],\"xaxis\":\"x\",\"y\":[19],\"yaxis\":\"y\",\"type\":\"bar\"},{\"alignmentgroup\":\"True\",\"hovertemplate\":\"Country=%{x}\\u003cbr\\u003eNumber of Companies=%{y}\\u003cextra\\u003e\\u003c\\u002fextra\\u003e\",\"legendgroup\":\"Brazil\",\"marker\":{\"color\":\"#b5d2ff\",\"pattern\":{\"shape\":\"\"}},\"name\":\"Brazil\",\"offsetgroup\":\"Brazil\",\"orientation\":\"v\",\"showlegend\":true,\"textposition\":\"auto\",\"x\":[\"Brazil\"],\"xaxis\":\"x\",\"y\":[16],\"yaxis\":\"y\",\"type\":\"bar\"},{\"alignmentgroup\":\"True\",\"hovertemplate\":\"Country=%{x}\\u003cbr\\u003eNumber of Companies=%{y}\\u003cextra\\u003e\\u003c\\u002fextra\\u003e\",\"legendgroup\":\"South Korea\",\"marker\":{\"color\":\"#cbaacb\",\"pattern\":{\"shape\":\"\"}},\"name\":\"South Korea\",\"offsetgroup\":\"South Korea\",\"orientation\":\"v\",\"showlegend\":true,\"textposition\":\"auto\",\"x\":[\"South Korea\"],\"xaxis\":\"x\",\"y\":[12],\"yaxis\":\"y\",\"type\":\"bar\"}],                        {\"template\":{\"data\":{\"histogram2dcontour\":[{\"type\":\"histogram2dcontour\",\"colorbar\":{\"outlinewidth\":0,\"ticks\":\"\"},\"colorscale\":[[0.0,\"#0d0887\"],[0.1111111111111111,\"#46039f\"],[0.2222222222222222,\"#7201a8\"],[0.3333333333333333,\"#9c179e\"],[0.4444444444444444,\"#bd3786\"],[0.5555555555555556,\"#d8576b\"],[0.6666666666666666,\"#ed7953\"],[0.7777777777777778,\"#fb9f3a\"],[0.8888888888888888,\"#fdca26\"],[1.0,\"#f0f921\"]]}],\"choropleth\":[{\"type\":\"choropleth\",\"colorbar\":{\"outlinewidth\":0,\"ticks\":\"\"}}],\"histogram2d\":[{\"type\":\"histogram2d\",\"colorbar\":{\"outlinewidth\":0,\"ticks\":\"\"},\"colorscale\":[[0.0,\"#0d0887\"],[0.1111111111111111,\"#46039f\"],[0.2222222222222222,\"#7201a8\"],[0.3333333333333333,\"#9c179e\"],[0.4444444444444444,\"#bd3786\"],[0.5555555555555556,\"#d8576b\"],[0.6666666666666666,\"#ed7953\"],[0.7777777777777778,\"#fb9f3a\"],[0.8888888888888888,\"#fdca26\"],[1.0,\"#f0f921\"]]}],\"heatmap\":[{\"type\":\"heatmap\",\"colorbar\":{\"outlinewidth\":0,\"ticks\":\"\"},\"colorscale\":[[0.0,\"#0d0887\"],[0.1111111111111111,\"#46039f\"],[0.2222222222222222,\"#7201a8\"],[0.3333333333333333,\"#9c179e\"],[0.4444444444444444,\"#bd3786\"],[0.5555555555555556,\"#d8576b\"],[0.6666666666666666,\"#ed7953\"],[0.7777777777777778,\"#fb9f3a\"],[0.8888888888888888,\"#fdca26\"],[1.0,\"#f0f921\"]]}],\"heatmapgl\":[{\"type\":\"heatmapgl\",\"colorbar\":{\"outlinewidth\":0,\"ticks\":\"\"},\"colorscale\":[[0.0,\"#0d0887\"],[0.1111111111111111,\"#46039f\"],[0.2222222222222222,\"#7201a8\"],[0.3333333333333333,\"#9c179e\"],[0.4444444444444444,\"#bd3786\"],[0.5555555555555556,\"#d8576b\"],[0.6666666666666666,\"#ed7953\"],[0.7777777777777778,\"#fb9f3a\"],[0.8888888888888888,\"#fdca26\"],[1.0,\"#f0f921\"]]}],\"contourcarpet\":[{\"type\":\"contourcarpet\",\"colorbar\":{\"outlinewidth\":0,\"ticks\":\"\"}}],\"contour\":[{\"type\":\"contour\",\"colorbar\":{\"outlinewidth\":0,\"ticks\":\"\"},\"colorscale\":[[0.0,\"#0d0887\"],[0.1111111111111111,\"#46039f\"],[0.2222222222222222,\"#7201a8\"],[0.3333333333333333,\"#9c179e\"],[0.4444444444444444,\"#bd3786\"],[0.5555555555555556,\"#d8576b\"],[0.6666666666666666,\"#ed7953\"],[0.7777777777777778,\"#fb9f3a\"],[0.8888888888888888,\"#fdca26\"],[1.0,\"#f0f921\"]]}],\"surface\":[{\"type\":\"surface\",\"colorbar\":{\"outlinewidth\":0,\"ticks\":\"\"},\"colorscale\":[[0.0,\"#0d0887\"],[0.1111111111111111,\"#46039f\"],[0.2222222222222222,\"#7201a8\"],[0.3333333333333333,\"#9c179e\"],[0.4444444444444444,\"#bd3786\"],[0.5555555555555556,\"#d8576b\"],[0.6666666666666666,\"#ed7953\"],[0.7777777777777778,\"#fb9f3a\"],[0.8888888888888888,\"#fdca26\"],[1.0,\"#f0f921\"]]}],\"mesh3d\":[{\"type\":\"mesh3d\",\"colorbar\":{\"outlinewidth\":0,\"ticks\":\"\"}}],\"scatter\":[{\"fillpattern\":{\"fillmode\":\"overlay\",\"size\":10,\"solidity\":0.2},\"type\":\"scatter\"}],\"parcoords\":[{\"type\":\"parcoords\",\"line\":{\"colorbar\":{\"outlinewidth\":0,\"ticks\":\"\"}}}],\"scatterpolargl\":[{\"type\":\"scatterpolargl\",\"marker\":{\"colorbar\":{\"outlinewidth\":0,\"ticks\":\"\"}}}],\"bar\":[{\"error_x\":{\"color\":\"#2a3f5f\"},\"error_y\":{\"color\":\"#2a3f5f\"},\"marker\":{\"line\":{\"color\":\"#E5ECF6\",\"width\":0.5},\"pattern\":{\"fillmode\":\"overlay\",\"size\":10,\"solidity\":0.2}},\"type\":\"bar\"}],\"scattergeo\":[{\"type\":\"scattergeo\",\"marker\":{\"colorbar\":{\"outlinewidth\":0,\"ticks\":\"\"}}}],\"scatterpolar\":[{\"type\":\"scatterpolar\",\"marker\":{\"colorbar\":{\"outlinewidth\":0,\"ticks\":\"\"}}}],\"histogram\":[{\"marker\":{\"pattern\":{\"fillmode\":\"overlay\",\"size\":10,\"solidity\":0.2}},\"type\":\"histogram\"}],\"scattergl\":[{\"type\":\"scattergl\",\"marker\":{\"colorbar\":{\"outlinewidth\":0,\"ticks\":\"\"}}}],\"scatter3d\":[{\"type\":\"scatter3d\",\"line\":{\"colorbar\":{\"outlinewidth\":0,\"ticks\":\"\"}},\"marker\":{\"colorbar\":{\"outlinewidth\":0,\"ticks\":\"\"}}}],\"scattermapbox\":[{\"type\":\"scattermapbox\",\"marker\":{\"colorbar\":{\"outlinewidth\":0,\"ticks\":\"\"}}}],\"scatterternary\":[{\"type\":\"scatterternary\",\"marker\":{\"colorbar\":{\"outlinewidth\":0,\"ticks\":\"\"}}}],\"scattercarpet\":[{\"type\":\"scattercarpet\",\"marker\":{\"colorbar\":{\"outlinewidth\":0,\"ticks\":\"\"}}}],\"carpet\":[{\"aaxis\":{\"endlinecolor\":\"#2a3f5f\",\"gridcolor\":\"white\",\"linecolor\":\"white\",\"minorgridcolor\":\"white\",\"startlinecolor\":\"#2a3f5f\"},\"baxis\":{\"endlinecolor\":\"#2a3f5f\",\"gridcolor\":\"white\",\"linecolor\":\"white\",\"minorgridcolor\":\"white\",\"startlinecolor\":\"#2a3f5f\"},\"type\":\"carpet\"}],\"table\":[{\"cells\":{\"fill\":{\"color\":\"#EBF0F8\"},\"line\":{\"color\":\"white\"}},\"header\":{\"fill\":{\"color\":\"#C8D4E3\"},\"line\":{\"color\":\"white\"}},\"type\":\"table\"}],\"barpolar\":[{\"marker\":{\"line\":{\"color\":\"#E5ECF6\",\"width\":0.5},\"pattern\":{\"fillmode\":\"overlay\",\"size\":10,\"solidity\":0.2}},\"type\":\"barpolar\"}],\"pie\":[{\"automargin\":true,\"type\":\"pie\"}]},\"layout\":{\"autotypenumbers\":\"strict\",\"colorway\":[\"#636efa\",\"#EF553B\",\"#00cc96\",\"#ab63fa\",\"#FFA15A\",\"#19d3f3\",\"#FF6692\",\"#B6E880\",\"#FF97FF\",\"#FECB52\"],\"font\":{\"color\":\"#2a3f5f\"},\"hovermode\":\"closest\",\"hoverlabel\":{\"align\":\"left\"},\"paper_bgcolor\":\"white\",\"plot_bgcolor\":\"#E5ECF6\",\"polar\":{\"bgcolor\":\"#E5ECF6\",\"angularaxis\":{\"gridcolor\":\"white\",\"linecolor\":\"white\",\"ticks\":\"\"},\"radialaxis\":{\"gridcolor\":\"white\",\"linecolor\":\"white\",\"ticks\":\"\"}},\"ternary\":{\"bgcolor\":\"#E5ECF6\",\"aaxis\":{\"gridcolor\":\"white\",\"linecolor\":\"white\",\"ticks\":\"\"},\"baxis\":{\"gridcolor\":\"white\",\"linecolor\":\"white\",\"ticks\":\"\"},\"caxis\":{\"gridcolor\":\"white\",\"linecolor\":\"white\",\"ticks\":\"\"}},\"coloraxis\":{\"colorbar\":{\"outlinewidth\":0,\"ticks\":\"\"}},\"colorscale\":{\"sequential\":[[0.0,\"#0d0887\"],[0.1111111111111111,\"#46039f\"],[0.2222222222222222,\"#7201a8\"],[0.3333333333333333,\"#9c179e\"],[0.4444444444444444,\"#bd3786\"],[0.5555555555555556,\"#d8576b\"],[0.6666666666666666,\"#ed7953\"],[0.7777777777777778,\"#fb9f3a\"],[0.8888888888888888,\"#fdca26\"],[1.0,\"#f0f921\"]],\"sequentialminus\":[[0.0,\"#0d0887\"],[0.1111111111111111,\"#46039f\"],[0.2222222222222222,\"#7201a8\"],[0.3333333333333333,\"#9c179e\"],[0.4444444444444444,\"#bd3786\"],[0.5555555555555556,\"#d8576b\"],[0.6666666666666666,\"#ed7953\"],[0.7777777777777778,\"#fb9f3a\"],[0.8888888888888888,\"#fdca26\"],[1.0,\"#f0f921\"]],\"diverging\":[[0,\"#8e0152\"],[0.1,\"#c51b7d\"],[0.2,\"#de77ae\"],[0.3,\"#f1b6da\"],[0.4,\"#fde0ef\"],[0.5,\"#f7f7f7\"],[0.6,\"#e6f5d0\"],[0.7,\"#b8e186\"],[0.8,\"#7fbc41\"],[0.9,\"#4d9221\"],[1,\"#276419\"]]},\"xaxis\":{\"gridcolor\":\"white\",\"linecolor\":\"white\",\"ticks\":\"\",\"title\":{\"standoff\":15},\"zerolinecolor\":\"white\",\"automargin\":true,\"zerolinewidth\":2},\"yaxis\":{\"gridcolor\":\"white\",\"linecolor\":\"white\",\"ticks\":\"\",\"title\":{\"standoff\":15},\"zerolinecolor\":\"white\",\"automargin\":true,\"zerolinewidth\":2},\"scene\":{\"xaxis\":{\"backgroundcolor\":\"#E5ECF6\",\"gridcolor\":\"white\",\"linecolor\":\"white\",\"showbackground\":true,\"ticks\":\"\",\"zerolinecolor\":\"white\",\"gridwidth\":2},\"yaxis\":{\"backgroundcolor\":\"#E5ECF6\",\"gridcolor\":\"white\",\"linecolor\":\"white\",\"showbackground\":true,\"ticks\":\"\",\"zerolinecolor\":\"white\",\"gridwidth\":2},\"zaxis\":{\"backgroundcolor\":\"#E5ECF6\",\"gridcolor\":\"white\",\"linecolor\":\"white\",\"showbackground\":true,\"ticks\":\"\",\"zerolinecolor\":\"white\",\"gridwidth\":2}},\"shapedefaults\":{\"line\":{\"color\":\"#2a3f5f\"}},\"annotationdefaults\":{\"arrowcolor\":\"#2a3f5f\",\"arrowhead\":0,\"arrowwidth\":1},\"geo\":{\"bgcolor\":\"white\",\"landcolor\":\"#E5ECF6\",\"subunitcolor\":\"white\",\"showland\":true,\"showlakes\":true,\"lakecolor\":\"white\"},\"title\":{\"x\":0.05},\"mapbox\":{\"style\":\"light\"}}},\"xaxis\":{\"anchor\":\"y\",\"domain\":[0.0,1.0],\"title\":{\"text\":\"Country\"},\"categoryorder\":\"array\",\"categoryarray\":[\"United States\",\"China\",\"India\",\"United Kingdom\",\"Germany\",\"France\",\"Israel\",\"Canada\",\"Brazil\",\"South Korea\"]},\"yaxis\":{\"anchor\":\"x\",\"domain\":[0.0,1.0],\"title\":{\"text\":\"Number of Companies\"}},\"legend\":{\"title\":{\"text\":\"Country\"},\"tracegroupgap\":0},\"title\":{\"text\":\"Top 10 Countries with Most Unicorns\",\"font\":{\"color\":\"#e75480\"}},\"barmode\":\"relative\",\"plot_bgcolor\":\"#fff6fb\"},                        {\"responsive\": true}                    ).then(function(){\n",
              "                            \n",
              "var gd = document.getElementById('47619d60-4c2c-4039-b419-4449382b6e5c');\n",
              "var x = new MutationObserver(function (mutations, observer) {{\n",
              "        var display = window.getComputedStyle(gd).display;\n",
              "        if (!display || display === 'none') {{\n",
              "            console.log([gd, 'removed!']);\n",
              "            Plotly.purge(gd);\n",
              "            observer.disconnect();\n",
              "        }}\n",
              "}});\n",
              "\n",
              "// Listen for the removal of the full notebook cells\n",
              "var notebookContainer = gd.closest('#notebook-container');\n",
              "if (notebookContainer) {{\n",
              "    x.observe(notebookContainer, {childList: true});\n",
              "}}\n",
              "\n",
              "// Listen for the clearing of the current output cell\n",
              "var outputEl = gd.closest('.output');\n",
              "if (outputEl) {{\n",
              "    x.observe(outputEl, {childList: true});\n",
              "}}\n",
              "\n",
              "                        })                };                            </script>        </div>\n",
              "</body>\n",
              "</html>"
            ]
          },
          "metadata": {}
        },
        {
          "output_type": "display_data",
          "data": {
            "text/plain": [
              "<IPython.core.display.HTML object>"
            ],
            "text/html": [
              "\n",
              "    <link href=\"https://fonts.googleapis.com/css2?family=Love+Ya+Like+A+Sister&display=swap\" rel=\"stylesheet\">\n",
              "    <div style=\"font-family: 'Love Ya Like A Sister', cursive; font-size: 24px; color: #734f96; margin-top: 30px;\">\n",
              "        <b>5. Companies Founded By Year</b>\n",
              "    </div>\n",
              "    "
            ]
          },
          "metadata": {}
        },
        {
          "output_type": "display_data",
          "data": {
            "text/plain": [
              "<IPython.core.display.HTML object>"
            ],
            "text/html": [
              "\n",
              "    <link href=\"https://fonts.googleapis.com/css2?family=Love+Ya+Like+A+Sister&display=swap\" rel=\"stylesheet\">\n",
              "    <div style=\"font-family: 'Love Ya Like A Sister', cursive; font-size: 18px; color: #8767a6;\">\n",
              "        There are <b>785</b> companies founded after 2010.\n",
              "    </div>\n",
              "    "
            ]
          },
          "metadata": {}
        },
        {
          "output_type": "display_data",
          "data": {
            "text/html": [
              "<html>\n",
              "<head><meta charset=\"utf-8\" /></head>\n",
              "<body>\n",
              "    <div>            <script src=\"https://cdnjs.cloudflare.com/ajax/libs/mathjax/2.7.5/MathJax.js?config=TeX-AMS-MML_SVG\"></script><script type=\"text/javascript\">if (window.MathJax && window.MathJax.Hub && window.MathJax.Hub.Config) {window.MathJax.Hub.Config({SVG: {font: \"STIX-Web\"}});}</script>                <script type=\"text/javascript\">window.PlotlyConfig = {MathJaxConfig: 'local'};</script>\n",
              "        <script charset=\"utf-8\" src=\"https://cdn.plot.ly/plotly-2.35.2.min.js\"></script>                <div id=\"2d2f037b-c617-4613-9478-541e376b9b6d\" class=\"plotly-graph-div\" style=\"height:525px; width:100%;\"></div>            <script type=\"text/javascript\">                                    window.PLOTLYENV=window.PLOTLYENV || {};                                    if (document.getElementById(\"2d2f037b-c617-4613-9478-541e376b9b6d\")) {                    Plotly.newPlot(                        \"2d2f037b-c617-4613-9478-541e376b9b6d\",                        [{\"alignmentgroup\":\"True\",\"hovertemplate\":\"Year=%{x}\\u003cbr\\u003eCount=%{marker.color}\\u003cextra\\u003e\\u003c\\u002fextra\\u003e\",\"legendgroup\":\"\",\"marker\":{\"color\":[144,105,101,87,85,76,67,55,37,34,33,23,23,23,15,13,12,8,8,8,8,7,4,3,2,2,2,1,1,1,1,1,1,1,1,1],\"coloraxis\":\"coloraxis\",\"pattern\":{\"shape\":\"\"}},\"name\":\"\",\"offsetgroup\":\"\",\"orientation\":\"v\",\"showlegend\":false,\"textposition\":\"auto\",\"x\":[2015,2014,2016,2012,2013,2011,2017,2018,2010,2019,2009,2007,2020,2008,2005,2006,2000,1999,2004,2001,2021,2003,1998,2002,1994,1995,1992,1991,1996,1919,1973,1979,1984,1990,1997,1993],\"xaxis\":\"x\",\"y\":[144,105,101,87,85,76,67,55,37,34,33,23,23,23,15,13,12,8,8,8,8,7,4,3,2,2,2,1,1,1,1,1,1,1,1,1],\"yaxis\":\"y\",\"type\":\"bar\"}],                        {\"template\":{\"data\":{\"histogram2dcontour\":[{\"type\":\"histogram2dcontour\",\"colorbar\":{\"outlinewidth\":0,\"ticks\":\"\"},\"colorscale\":[[0.0,\"#0d0887\"],[0.1111111111111111,\"#46039f\"],[0.2222222222222222,\"#7201a8\"],[0.3333333333333333,\"#9c179e\"],[0.4444444444444444,\"#bd3786\"],[0.5555555555555556,\"#d8576b\"],[0.6666666666666666,\"#ed7953\"],[0.7777777777777778,\"#fb9f3a\"],[0.8888888888888888,\"#fdca26\"],[1.0,\"#f0f921\"]]}],\"choropleth\":[{\"type\":\"choropleth\",\"colorbar\":{\"outlinewidth\":0,\"ticks\":\"\"}}],\"histogram2d\":[{\"type\":\"histogram2d\",\"colorbar\":{\"outlinewidth\":0,\"ticks\":\"\"},\"colorscale\":[[0.0,\"#0d0887\"],[0.1111111111111111,\"#46039f\"],[0.2222222222222222,\"#7201a8\"],[0.3333333333333333,\"#9c179e\"],[0.4444444444444444,\"#bd3786\"],[0.5555555555555556,\"#d8576b\"],[0.6666666666666666,\"#ed7953\"],[0.7777777777777778,\"#fb9f3a\"],[0.8888888888888888,\"#fdca26\"],[1.0,\"#f0f921\"]]}],\"heatmap\":[{\"type\":\"heatmap\",\"colorbar\":{\"outlinewidth\":0,\"ticks\":\"\"},\"colorscale\":[[0.0,\"#0d0887\"],[0.1111111111111111,\"#46039f\"],[0.2222222222222222,\"#7201a8\"],[0.3333333333333333,\"#9c179e\"],[0.4444444444444444,\"#bd3786\"],[0.5555555555555556,\"#d8576b\"],[0.6666666666666666,\"#ed7953\"],[0.7777777777777778,\"#fb9f3a\"],[0.8888888888888888,\"#fdca26\"],[1.0,\"#f0f921\"]]}],\"heatmapgl\":[{\"type\":\"heatmapgl\",\"colorbar\":{\"outlinewidth\":0,\"ticks\":\"\"},\"colorscale\":[[0.0,\"#0d0887\"],[0.1111111111111111,\"#46039f\"],[0.2222222222222222,\"#7201a8\"],[0.3333333333333333,\"#9c179e\"],[0.4444444444444444,\"#bd3786\"],[0.5555555555555556,\"#d8576b\"],[0.6666666666666666,\"#ed7953\"],[0.7777777777777778,\"#fb9f3a\"],[0.8888888888888888,\"#fdca26\"],[1.0,\"#f0f921\"]]}],\"contourcarpet\":[{\"type\":\"contourcarpet\",\"colorbar\":{\"outlinewidth\":0,\"ticks\":\"\"}}],\"contour\":[{\"type\":\"contour\",\"colorbar\":{\"outlinewidth\":0,\"ticks\":\"\"},\"colorscale\":[[0.0,\"#0d0887\"],[0.1111111111111111,\"#46039f\"],[0.2222222222222222,\"#7201a8\"],[0.3333333333333333,\"#9c179e\"],[0.4444444444444444,\"#bd3786\"],[0.5555555555555556,\"#d8576b\"],[0.6666666666666666,\"#ed7953\"],[0.7777777777777778,\"#fb9f3a\"],[0.8888888888888888,\"#fdca26\"],[1.0,\"#f0f921\"]]}],\"surface\":[{\"type\":\"surface\",\"colorbar\":{\"outlinewidth\":0,\"ticks\":\"\"},\"colorscale\":[[0.0,\"#0d0887\"],[0.1111111111111111,\"#46039f\"],[0.2222222222222222,\"#7201a8\"],[0.3333333333333333,\"#9c179e\"],[0.4444444444444444,\"#bd3786\"],[0.5555555555555556,\"#d8576b\"],[0.6666666666666666,\"#ed7953\"],[0.7777777777777778,\"#fb9f3a\"],[0.8888888888888888,\"#fdca26\"],[1.0,\"#f0f921\"]]}],\"mesh3d\":[{\"type\":\"mesh3d\",\"colorbar\":{\"outlinewidth\":0,\"ticks\":\"\"}}],\"scatter\":[{\"fillpattern\":{\"fillmode\":\"overlay\",\"size\":10,\"solidity\":0.2},\"type\":\"scatter\"}],\"parcoords\":[{\"type\":\"parcoords\",\"line\":{\"colorbar\":{\"outlinewidth\":0,\"ticks\":\"\"}}}],\"scatterpolargl\":[{\"type\":\"scatterpolargl\",\"marker\":{\"colorbar\":{\"outlinewidth\":0,\"ticks\":\"\"}}}],\"bar\":[{\"error_x\":{\"color\":\"#2a3f5f\"},\"error_y\":{\"color\":\"#2a3f5f\"},\"marker\":{\"line\":{\"color\":\"#E5ECF6\",\"width\":0.5},\"pattern\":{\"fillmode\":\"overlay\",\"size\":10,\"solidity\":0.2}},\"type\":\"bar\"}],\"scattergeo\":[{\"type\":\"scattergeo\",\"marker\":{\"colorbar\":{\"outlinewidth\":0,\"ticks\":\"\"}}}],\"scatterpolar\":[{\"type\":\"scatterpolar\",\"marker\":{\"colorbar\":{\"outlinewidth\":0,\"ticks\":\"\"}}}],\"histogram\":[{\"marker\":{\"pattern\":{\"fillmode\":\"overlay\",\"size\":10,\"solidity\":0.2}},\"type\":\"histogram\"}],\"scattergl\":[{\"type\":\"scattergl\",\"marker\":{\"colorbar\":{\"outlinewidth\":0,\"ticks\":\"\"}}}],\"scatter3d\":[{\"type\":\"scatter3d\",\"line\":{\"colorbar\":{\"outlinewidth\":0,\"ticks\":\"\"}},\"marker\":{\"colorbar\":{\"outlinewidth\":0,\"ticks\":\"\"}}}],\"scattermapbox\":[{\"type\":\"scattermapbox\",\"marker\":{\"colorbar\":{\"outlinewidth\":0,\"ticks\":\"\"}}}],\"scatterternary\":[{\"type\":\"scatterternary\",\"marker\":{\"colorbar\":{\"outlinewidth\":0,\"ticks\":\"\"}}}],\"scattercarpet\":[{\"type\":\"scattercarpet\",\"marker\":{\"colorbar\":{\"outlinewidth\":0,\"ticks\":\"\"}}}],\"carpet\":[{\"aaxis\":{\"endlinecolor\":\"#2a3f5f\",\"gridcolor\":\"white\",\"linecolor\":\"white\",\"minorgridcolor\":\"white\",\"startlinecolor\":\"#2a3f5f\"},\"baxis\":{\"endlinecolor\":\"#2a3f5f\",\"gridcolor\":\"white\",\"linecolor\":\"white\",\"minorgridcolor\":\"white\",\"startlinecolor\":\"#2a3f5f\"},\"type\":\"carpet\"}],\"table\":[{\"cells\":{\"fill\":{\"color\":\"#EBF0F8\"},\"line\":{\"color\":\"white\"}},\"header\":{\"fill\":{\"color\":\"#C8D4E3\"},\"line\":{\"color\":\"white\"}},\"type\":\"table\"}],\"barpolar\":[{\"marker\":{\"line\":{\"color\":\"#E5ECF6\",\"width\":0.5},\"pattern\":{\"fillmode\":\"overlay\",\"size\":10,\"solidity\":0.2}},\"type\":\"barpolar\"}],\"pie\":[{\"automargin\":true,\"type\":\"pie\"}]},\"layout\":{\"autotypenumbers\":\"strict\",\"colorway\":[\"#636efa\",\"#EF553B\",\"#00cc96\",\"#ab63fa\",\"#FFA15A\",\"#19d3f3\",\"#FF6692\",\"#B6E880\",\"#FF97FF\",\"#FECB52\"],\"font\":{\"color\":\"#2a3f5f\"},\"hovermode\":\"closest\",\"hoverlabel\":{\"align\":\"left\"},\"paper_bgcolor\":\"white\",\"plot_bgcolor\":\"#E5ECF6\",\"polar\":{\"bgcolor\":\"#E5ECF6\",\"angularaxis\":{\"gridcolor\":\"white\",\"linecolor\":\"white\",\"ticks\":\"\"},\"radialaxis\":{\"gridcolor\":\"white\",\"linecolor\":\"white\",\"ticks\":\"\"}},\"ternary\":{\"bgcolor\":\"#E5ECF6\",\"aaxis\":{\"gridcolor\":\"white\",\"linecolor\":\"white\",\"ticks\":\"\"},\"baxis\":{\"gridcolor\":\"white\",\"linecolor\":\"white\",\"ticks\":\"\"},\"caxis\":{\"gridcolor\":\"white\",\"linecolor\":\"white\",\"ticks\":\"\"}},\"coloraxis\":{\"colorbar\":{\"outlinewidth\":0,\"ticks\":\"\"}},\"colorscale\":{\"sequential\":[[0.0,\"#0d0887\"],[0.1111111111111111,\"#46039f\"],[0.2222222222222222,\"#7201a8\"],[0.3333333333333333,\"#9c179e\"],[0.4444444444444444,\"#bd3786\"],[0.5555555555555556,\"#d8576b\"],[0.6666666666666666,\"#ed7953\"],[0.7777777777777778,\"#fb9f3a\"],[0.8888888888888888,\"#fdca26\"],[1.0,\"#f0f921\"]],\"sequentialminus\":[[0.0,\"#0d0887\"],[0.1111111111111111,\"#46039f\"],[0.2222222222222222,\"#7201a8\"],[0.3333333333333333,\"#9c179e\"],[0.4444444444444444,\"#bd3786\"],[0.5555555555555556,\"#d8576b\"],[0.6666666666666666,\"#ed7953\"],[0.7777777777777778,\"#fb9f3a\"],[0.8888888888888888,\"#fdca26\"],[1.0,\"#f0f921\"]],\"diverging\":[[0,\"#8e0152\"],[0.1,\"#c51b7d\"],[0.2,\"#de77ae\"],[0.3,\"#f1b6da\"],[0.4,\"#fde0ef\"],[0.5,\"#f7f7f7\"],[0.6,\"#e6f5d0\"],[0.7,\"#b8e186\"],[0.8,\"#7fbc41\"],[0.9,\"#4d9221\"],[1,\"#276419\"]]},\"xaxis\":{\"gridcolor\":\"white\",\"linecolor\":\"white\",\"ticks\":\"\",\"title\":{\"standoff\":15},\"zerolinecolor\":\"white\",\"automargin\":true,\"zerolinewidth\":2},\"yaxis\":{\"gridcolor\":\"white\",\"linecolor\":\"white\",\"ticks\":\"\",\"title\":{\"standoff\":15},\"zerolinecolor\":\"white\",\"automargin\":true,\"zerolinewidth\":2},\"scene\":{\"xaxis\":{\"backgroundcolor\":\"#E5ECF6\",\"gridcolor\":\"white\",\"linecolor\":\"white\",\"showbackground\":true,\"ticks\":\"\",\"zerolinecolor\":\"white\",\"gridwidth\":2},\"yaxis\":{\"backgroundcolor\":\"#E5ECF6\",\"gridcolor\":\"white\",\"linecolor\":\"white\",\"showbackground\":true,\"ticks\":\"\",\"zerolinecolor\":\"white\",\"gridwidth\":2},\"zaxis\":{\"backgroundcolor\":\"#E5ECF6\",\"gridcolor\":\"white\",\"linecolor\":\"white\",\"showbackground\":true,\"ticks\":\"\",\"zerolinecolor\":\"white\",\"gridwidth\":2}},\"shapedefaults\":{\"line\":{\"color\":\"#2a3f5f\"}},\"annotationdefaults\":{\"arrowcolor\":\"#2a3f5f\",\"arrowhead\":0,\"arrowwidth\":1},\"geo\":{\"bgcolor\":\"white\",\"landcolor\":\"#E5ECF6\",\"subunitcolor\":\"white\",\"showland\":true,\"showlakes\":true,\"lakecolor\":\"white\"},\"title\":{\"x\":0.05},\"mapbox\":{\"style\":\"light\"}}},\"xaxis\":{\"anchor\":\"y\",\"domain\":[0.0,1.0],\"title\":{\"text\":\"Year\"},\"type\":\"category\"},\"yaxis\":{\"anchor\":\"x\",\"domain\":[0.0,1.0],\"title\":{\"text\":\"Count\"}},\"coloraxis\":{\"colorbar\":{\"title\":{\"text\":\"Count\"}},\"colorscale\":[[0.0,\"#d7aefb\"],[0.1111111111111111,\"#f28b82\"],[0.2222222222222222,\"#fbbc04\"],[0.3333333333333333,\"#a7ffeb\"],[0.4444444444444444,\"#cbf0f8\"],[0.5555555555555556,\"#fbd6f5\"],[0.6666666666666666,\"#fdcfe8\"],[0.7777777777777778,\"#e6c9a8\"],[0.8888888888888888,\"#b5d2ff\"],[1.0,\"#cbaacb\"]]},\"legend\":{\"tracegroupgap\":0},\"title\":{\"text\":\"Number of Unicorns Founded Each Year\",\"font\":{\"color\":\"#e75480\"}},\"barmode\":\"relative\",\"plot_bgcolor\":\"#fff6fb\"},                        {\"responsive\": true}                    ).then(function(){\n",
              "                            \n",
              "var gd = document.getElementById('2d2f037b-c617-4613-9478-541e376b9b6d');\n",
              "var x = new MutationObserver(function (mutations, observer) {{\n",
              "        var display = window.getComputedStyle(gd).display;\n",
              "        if (!display || display === 'none') {{\n",
              "            console.log([gd, 'removed!']);\n",
              "            Plotly.purge(gd);\n",
              "            observer.disconnect();\n",
              "        }}\n",
              "}});\n",
              "\n",
              "// Listen for the removal of the full notebook cells\n",
              "var notebookContainer = gd.closest('#notebook-container');\n",
              "if (notebookContainer) {{\n",
              "    x.observe(notebookContainer, {childList: true});\n",
              "}}\n",
              "\n",
              "// Listen for the clearing of the current output cell\n",
              "var outputEl = gd.closest('.output');\n",
              "if (outputEl) {{\n",
              "    x.observe(outputEl, {childList: true});\n",
              "}}\n",
              "\n",
              "                        })                };                            </script>        </div>\n",
              "</body>\n",
              "</html>"
            ]
          },
          "metadata": {}
        },
        {
          "output_type": "display_data",
          "data": {
            "text/plain": [
              "<IPython.core.display.HTML object>"
            ],
            "text/html": [
              "\n",
              "    <link href=\"https://fonts.googleapis.com/css2?family=Love+Ya+Like+A+Sister&display=swap\" rel=\"stylesheet\">\n",
              "    <div style=\"font-family: 'Love Ya Like A Sister', cursive; font-size: 24px; color: #734f96; margin-top: 30px;\">\n",
              "        <b>6. Average Valuation by Industry</b>\n",
              "    </div>\n",
              "    "
            ]
          },
          "metadata": {}
        },
        {
          "output_type": "display_data",
          "data": {
            "text/html": [
              "<html>\n",
              "<head><meta charset=\"utf-8\" /></head>\n",
              "<body>\n",
              "    <div>            <script src=\"https://cdnjs.cloudflare.com/ajax/libs/mathjax/2.7.5/MathJax.js?config=TeX-AMS-MML_SVG\"></script><script type=\"text/javascript\">if (window.MathJax && window.MathJax.Hub && window.MathJax.Hub.Config) {window.MathJax.Hub.Config({SVG: {font: \"STIX-Web\"}});}</script>                <script type=\"text/javascript\">window.PlotlyConfig = {MathJaxConfig: 'local'};</script>\n",
              "        <script charset=\"utf-8\" src=\"https://cdn.plot.ly/plotly-2.35.2.min.js\"></script>                <div id=\"7f864181-1a55-40e1-8539-3ba95eb1d469\" class=\"plotly-graph-div\" style=\"height:525px; width:100%;\"></div>            <script type=\"text/javascript\">                                    window.PLOTLYENV=window.PLOTLYENV || {};                                    if (document.getElementById(\"7f864181-1a55-40e1-8539-3ba95eb1d469\")) {                    Plotly.newPlot(                        \"7f864181-1a55-40e1-8539-3ba95eb1d469\",                        [{\"alignmentgroup\":\"True\",\"hovertemplate\":\"Industry=%{x}\\u003cbr\\u003eValuation ($B)=%{marker.color}\\u003cextra\\u003e\\u003c\\u002fextra\\u003e\",\"legendgroup\":\"\",\"marker\":{\"color\":[32.0,10.0,4.735714285714286,4.07551282051282,3.8283902439024393,3.5,3.3344827586206898,3.3131707317073174,3.2417857142857143,3.065964912280702],\"coloraxis\":\"coloraxis\",\"pattern\":{\"shape\":\"\"}},\"name\":\"\",\"offsetgroup\":\"\",\"orientation\":\"v\",\"showlegend\":false,\"textposition\":\"auto\",\"x\":[\"Sequoia Capital, Thoma Bravo, Softbank\",\"Finttech\",\"Other\",\"Artificial Intelligence\",\"Fintech\",\"Kuang-Chi\",\"Auto & Transportation\",\"Data Management & Analytics\",\"Edtech\",\"Supply Chain, Logistics, & Delivery\"],\"xaxis\":\"x\",\"y\":[32.0,10.0,4.735714285714286,4.07551282051282,3.8283902439024393,3.5,3.3344827586206898,3.3131707317073174,3.2417857142857143,3.065964912280702],\"yaxis\":\"y\",\"type\":\"bar\"}],                        {\"template\":{\"data\":{\"histogram2dcontour\":[{\"type\":\"histogram2dcontour\",\"colorbar\":{\"outlinewidth\":0,\"ticks\":\"\"},\"colorscale\":[[0.0,\"#0d0887\"],[0.1111111111111111,\"#46039f\"],[0.2222222222222222,\"#7201a8\"],[0.3333333333333333,\"#9c179e\"],[0.4444444444444444,\"#bd3786\"],[0.5555555555555556,\"#d8576b\"],[0.6666666666666666,\"#ed7953\"],[0.7777777777777778,\"#fb9f3a\"],[0.8888888888888888,\"#fdca26\"],[1.0,\"#f0f921\"]]}],\"choropleth\":[{\"type\":\"choropleth\",\"colorbar\":{\"outlinewidth\":0,\"ticks\":\"\"}}],\"histogram2d\":[{\"type\":\"histogram2d\",\"colorbar\":{\"outlinewidth\":0,\"ticks\":\"\"},\"colorscale\":[[0.0,\"#0d0887\"],[0.1111111111111111,\"#46039f\"],[0.2222222222222222,\"#7201a8\"],[0.3333333333333333,\"#9c179e\"],[0.4444444444444444,\"#bd3786\"],[0.5555555555555556,\"#d8576b\"],[0.6666666666666666,\"#ed7953\"],[0.7777777777777778,\"#fb9f3a\"],[0.8888888888888888,\"#fdca26\"],[1.0,\"#f0f921\"]]}],\"heatmap\":[{\"type\":\"heatmap\",\"colorbar\":{\"outlinewidth\":0,\"ticks\":\"\"},\"colorscale\":[[0.0,\"#0d0887\"],[0.1111111111111111,\"#46039f\"],[0.2222222222222222,\"#7201a8\"],[0.3333333333333333,\"#9c179e\"],[0.4444444444444444,\"#bd3786\"],[0.5555555555555556,\"#d8576b\"],[0.6666666666666666,\"#ed7953\"],[0.7777777777777778,\"#fb9f3a\"],[0.8888888888888888,\"#fdca26\"],[1.0,\"#f0f921\"]]}],\"heatmapgl\":[{\"type\":\"heatmapgl\",\"colorbar\":{\"outlinewidth\":0,\"ticks\":\"\"},\"colorscale\":[[0.0,\"#0d0887\"],[0.1111111111111111,\"#46039f\"],[0.2222222222222222,\"#7201a8\"],[0.3333333333333333,\"#9c179e\"],[0.4444444444444444,\"#bd3786\"],[0.5555555555555556,\"#d8576b\"],[0.6666666666666666,\"#ed7953\"],[0.7777777777777778,\"#fb9f3a\"],[0.8888888888888888,\"#fdca26\"],[1.0,\"#f0f921\"]]}],\"contourcarpet\":[{\"type\":\"contourcarpet\",\"colorbar\":{\"outlinewidth\":0,\"ticks\":\"\"}}],\"contour\":[{\"type\":\"contour\",\"colorbar\":{\"outlinewidth\":0,\"ticks\":\"\"},\"colorscale\":[[0.0,\"#0d0887\"],[0.1111111111111111,\"#46039f\"],[0.2222222222222222,\"#7201a8\"],[0.3333333333333333,\"#9c179e\"],[0.4444444444444444,\"#bd3786\"],[0.5555555555555556,\"#d8576b\"],[0.6666666666666666,\"#ed7953\"],[0.7777777777777778,\"#fb9f3a\"],[0.8888888888888888,\"#fdca26\"],[1.0,\"#f0f921\"]]}],\"surface\":[{\"type\":\"surface\",\"colorbar\":{\"outlinewidth\":0,\"ticks\":\"\"},\"colorscale\":[[0.0,\"#0d0887\"],[0.1111111111111111,\"#46039f\"],[0.2222222222222222,\"#7201a8\"],[0.3333333333333333,\"#9c179e\"],[0.4444444444444444,\"#bd3786\"],[0.5555555555555556,\"#d8576b\"],[0.6666666666666666,\"#ed7953\"],[0.7777777777777778,\"#fb9f3a\"],[0.8888888888888888,\"#fdca26\"],[1.0,\"#f0f921\"]]}],\"mesh3d\":[{\"type\":\"mesh3d\",\"colorbar\":{\"outlinewidth\":0,\"ticks\":\"\"}}],\"scatter\":[{\"fillpattern\":{\"fillmode\":\"overlay\",\"size\":10,\"solidity\":0.2},\"type\":\"scatter\"}],\"parcoords\":[{\"type\":\"parcoords\",\"line\":{\"colorbar\":{\"outlinewidth\":0,\"ticks\":\"\"}}}],\"scatterpolargl\":[{\"type\":\"scatterpolargl\",\"marker\":{\"colorbar\":{\"outlinewidth\":0,\"ticks\":\"\"}}}],\"bar\":[{\"error_x\":{\"color\":\"#2a3f5f\"},\"error_y\":{\"color\":\"#2a3f5f\"},\"marker\":{\"line\":{\"color\":\"#E5ECF6\",\"width\":0.5},\"pattern\":{\"fillmode\":\"overlay\",\"size\":10,\"solidity\":0.2}},\"type\":\"bar\"}],\"scattergeo\":[{\"type\":\"scattergeo\",\"marker\":{\"colorbar\":{\"outlinewidth\":0,\"ticks\":\"\"}}}],\"scatterpolar\":[{\"type\":\"scatterpolar\",\"marker\":{\"colorbar\":{\"outlinewidth\":0,\"ticks\":\"\"}}}],\"histogram\":[{\"marker\":{\"pattern\":{\"fillmode\":\"overlay\",\"size\":10,\"solidity\":0.2}},\"type\":\"histogram\"}],\"scattergl\":[{\"type\":\"scattergl\",\"marker\":{\"colorbar\":{\"outlinewidth\":0,\"ticks\":\"\"}}}],\"scatter3d\":[{\"type\":\"scatter3d\",\"line\":{\"colorbar\":{\"outlinewidth\":0,\"ticks\":\"\"}},\"marker\":{\"colorbar\":{\"outlinewidth\":0,\"ticks\":\"\"}}}],\"scattermapbox\":[{\"type\":\"scattermapbox\",\"marker\":{\"colorbar\":{\"outlinewidth\":0,\"ticks\":\"\"}}}],\"scatterternary\":[{\"type\":\"scatterternary\",\"marker\":{\"colorbar\":{\"outlinewidth\":0,\"ticks\":\"\"}}}],\"scattercarpet\":[{\"type\":\"scattercarpet\",\"marker\":{\"colorbar\":{\"outlinewidth\":0,\"ticks\":\"\"}}}],\"carpet\":[{\"aaxis\":{\"endlinecolor\":\"#2a3f5f\",\"gridcolor\":\"white\",\"linecolor\":\"white\",\"minorgridcolor\":\"white\",\"startlinecolor\":\"#2a3f5f\"},\"baxis\":{\"endlinecolor\":\"#2a3f5f\",\"gridcolor\":\"white\",\"linecolor\":\"white\",\"minorgridcolor\":\"white\",\"startlinecolor\":\"#2a3f5f\"},\"type\":\"carpet\"}],\"table\":[{\"cells\":{\"fill\":{\"color\":\"#EBF0F8\"},\"line\":{\"color\":\"white\"}},\"header\":{\"fill\":{\"color\":\"#C8D4E3\"},\"line\":{\"color\":\"white\"}},\"type\":\"table\"}],\"barpolar\":[{\"marker\":{\"line\":{\"color\":\"#E5ECF6\",\"width\":0.5},\"pattern\":{\"fillmode\":\"overlay\",\"size\":10,\"solidity\":0.2}},\"type\":\"barpolar\"}],\"pie\":[{\"automargin\":true,\"type\":\"pie\"}]},\"layout\":{\"autotypenumbers\":\"strict\",\"colorway\":[\"#636efa\",\"#EF553B\",\"#00cc96\",\"#ab63fa\",\"#FFA15A\",\"#19d3f3\",\"#FF6692\",\"#B6E880\",\"#FF97FF\",\"#FECB52\"],\"font\":{\"color\":\"#2a3f5f\"},\"hovermode\":\"closest\",\"hoverlabel\":{\"align\":\"left\"},\"paper_bgcolor\":\"white\",\"plot_bgcolor\":\"#E5ECF6\",\"polar\":{\"bgcolor\":\"#E5ECF6\",\"angularaxis\":{\"gridcolor\":\"white\",\"linecolor\":\"white\",\"ticks\":\"\"},\"radialaxis\":{\"gridcolor\":\"white\",\"linecolor\":\"white\",\"ticks\":\"\"}},\"ternary\":{\"bgcolor\":\"#E5ECF6\",\"aaxis\":{\"gridcolor\":\"white\",\"linecolor\":\"white\",\"ticks\":\"\"},\"baxis\":{\"gridcolor\":\"white\",\"linecolor\":\"white\",\"ticks\":\"\"},\"caxis\":{\"gridcolor\":\"white\",\"linecolor\":\"white\",\"ticks\":\"\"}},\"coloraxis\":{\"colorbar\":{\"outlinewidth\":0,\"ticks\":\"\"}},\"colorscale\":{\"sequential\":[[0.0,\"#0d0887\"],[0.1111111111111111,\"#46039f\"],[0.2222222222222222,\"#7201a8\"],[0.3333333333333333,\"#9c179e\"],[0.4444444444444444,\"#bd3786\"],[0.5555555555555556,\"#d8576b\"],[0.6666666666666666,\"#ed7953\"],[0.7777777777777778,\"#fb9f3a\"],[0.8888888888888888,\"#fdca26\"],[1.0,\"#f0f921\"]],\"sequentialminus\":[[0.0,\"#0d0887\"],[0.1111111111111111,\"#46039f\"],[0.2222222222222222,\"#7201a8\"],[0.3333333333333333,\"#9c179e\"],[0.4444444444444444,\"#bd3786\"],[0.5555555555555556,\"#d8576b\"],[0.6666666666666666,\"#ed7953\"],[0.7777777777777778,\"#fb9f3a\"],[0.8888888888888888,\"#fdca26\"],[1.0,\"#f0f921\"]],\"diverging\":[[0,\"#8e0152\"],[0.1,\"#c51b7d\"],[0.2,\"#de77ae\"],[0.3,\"#f1b6da\"],[0.4,\"#fde0ef\"],[0.5,\"#f7f7f7\"],[0.6,\"#e6f5d0\"],[0.7,\"#b8e186\"],[0.8,\"#7fbc41\"],[0.9,\"#4d9221\"],[1,\"#276419\"]]},\"xaxis\":{\"gridcolor\":\"white\",\"linecolor\":\"white\",\"ticks\":\"\",\"title\":{\"standoff\":15},\"zerolinecolor\":\"white\",\"automargin\":true,\"zerolinewidth\":2},\"yaxis\":{\"gridcolor\":\"white\",\"linecolor\":\"white\",\"ticks\":\"\",\"title\":{\"standoff\":15},\"zerolinecolor\":\"white\",\"automargin\":true,\"zerolinewidth\":2},\"scene\":{\"xaxis\":{\"backgroundcolor\":\"#E5ECF6\",\"gridcolor\":\"white\",\"linecolor\":\"white\",\"showbackground\":true,\"ticks\":\"\",\"zerolinecolor\":\"white\",\"gridwidth\":2},\"yaxis\":{\"backgroundcolor\":\"#E5ECF6\",\"gridcolor\":\"white\",\"linecolor\":\"white\",\"showbackground\":true,\"ticks\":\"\",\"zerolinecolor\":\"white\",\"gridwidth\":2},\"zaxis\":{\"backgroundcolor\":\"#E5ECF6\",\"gridcolor\":\"white\",\"linecolor\":\"white\",\"showbackground\":true,\"ticks\":\"\",\"zerolinecolor\":\"white\",\"gridwidth\":2}},\"shapedefaults\":{\"line\":{\"color\":\"#2a3f5f\"}},\"annotationdefaults\":{\"arrowcolor\":\"#2a3f5f\",\"arrowhead\":0,\"arrowwidth\":1},\"geo\":{\"bgcolor\":\"white\",\"landcolor\":\"#E5ECF6\",\"subunitcolor\":\"white\",\"showland\":true,\"showlakes\":true,\"lakecolor\":\"white\"},\"title\":{\"x\":0.05},\"mapbox\":{\"style\":\"light\"}}},\"xaxis\":{\"anchor\":\"y\",\"domain\":[0.0,1.0],\"title\":{\"text\":\"Industry\"},\"tickangle\":-45},\"yaxis\":{\"anchor\":\"x\",\"domain\":[0.0,1.0],\"title\":{\"text\":\"Valuation ($B)\"}},\"coloraxis\":{\"colorbar\":{\"title\":{\"text\":\"Valuation ($B)\"}},\"colorscale\":[[0.0,\"#d7aefb\"],[0.1111111111111111,\"#f28b82\"],[0.2222222222222222,\"#fbbc04\"],[0.3333333333333333,\"#a7ffeb\"],[0.4444444444444444,\"#cbf0f8\"],[0.5555555555555556,\"#fbd6f5\"],[0.6666666666666666,\"#fdcfe8\"],[0.7777777777777778,\"#e6c9a8\"],[0.8888888888888888,\"#b5d2ff\"],[1.0,\"#cbaacb\"]]},\"legend\":{\"tracegroupgap\":0},\"title\":{\"text\":\"Top 10 Industries by Average Valuation\",\"font\":{\"color\":\"#e75480\"}},\"barmode\":\"relative\",\"plot_bgcolor\":\"#fff6fb\"},                        {\"responsive\": true}                    ).then(function(){\n",
              "                            \n",
              "var gd = document.getElementById('7f864181-1a55-40e1-8539-3ba95eb1d469');\n",
              "var x = new MutationObserver(function (mutations, observer) {{\n",
              "        var display = window.getComputedStyle(gd).display;\n",
              "        if (!display || display === 'none') {{\n",
              "            console.log([gd, 'removed!']);\n",
              "            Plotly.purge(gd);\n",
              "            observer.disconnect();\n",
              "        }}\n",
              "}});\n",
              "\n",
              "// Listen for the removal of the full notebook cells\n",
              "var notebookContainer = gd.closest('#notebook-container');\n",
              "if (notebookContainer) {{\n",
              "    x.observe(notebookContainer, {childList: true});\n",
              "}}\n",
              "\n",
              "// Listen for the clearing of the current output cell\n",
              "var outputEl = gd.closest('.output');\n",
              "if (outputEl) {{\n",
              "    x.observe(outputEl, {childList: true});\n",
              "}}\n",
              "\n",
              "                        })                };                            </script>        </div>\n",
              "</body>\n",
              "</html>"
            ]
          },
          "metadata": {}
        },
        {
          "output_type": "display_data",
          "data": {
            "text/plain": [
              "<IPython.core.display.HTML object>"
            ],
            "text/html": [
              "\n",
              "    <link href=\"https://fonts.googleapis.com/css2?family=Love+Ya+Like+A+Sister&display=swap\" rel=\"stylesheet\">\n",
              "    <div style=\"font-family: 'Love Ya Like A Sister', cursive; font-size: 24px; color: #734f96; margin-top: 30px;\">\n",
              "        <b>7. Top 5 Cities with Most Unicorns</b>\n",
              "    </div>\n",
              "    "
            ]
          },
          "metadata": {}
        },
        {
          "output_type": "display_data",
          "data": {
            "text/html": [
              "<html>\n",
              "<head><meta charset=\"utf-8\" /></head>\n",
              "<body>\n",
              "    <div>            <script src=\"https://cdnjs.cloudflare.com/ajax/libs/mathjax/2.7.5/MathJax.js?config=TeX-AMS-MML_SVG\"></script><script type=\"text/javascript\">if (window.MathJax && window.MathJax.Hub && window.MathJax.Hub.Config) {window.MathJax.Hub.Config({SVG: {font: \"STIX-Web\"}});}</script>                <script type=\"text/javascript\">window.PlotlyConfig = {MathJaxConfig: 'local'};</script>\n",
              "        <script charset=\"utf-8\" src=\"https://cdn.plot.ly/plotly-2.35.2.min.js\"></script>                <div id=\"7f8c801b-bfca-40cc-bf21-9e1e4cbc3d5c\" class=\"plotly-graph-div\" style=\"height:525px; width:100%;\"></div>            <script type=\"text/javascript\">                                    window.PLOTLYENV=window.PLOTLYENV || {};                                    if (document.getElementById(\"7f8c801b-bfca-40cc-bf21-9e1e4cbc3d5c\")) {                    Plotly.newPlot(                        \"7f8c801b-bfca-40cc-bf21-9e1e4cbc3d5c\",                        [{\"domain\":{\"x\":[0.0,1.0],\"y\":[0.0,1.0]},\"hovertemplate\":\"label=%{label}\\u003cbr\\u003evalue=%{value}\\u003cextra\\u003e\\u003c\\u002fextra\\u003e\",\"labels\":[\"San Francisco\",\"New York\",\"Beijing\",\"Shanghai\",\"London\"],\"legendgroup\":\"\",\"name\":\"\",\"showlegend\":true,\"values\":[145,96,63,43,33],\"type\":\"pie\"}],                        {\"template\":{\"data\":{\"histogram2dcontour\":[{\"type\":\"histogram2dcontour\",\"colorbar\":{\"outlinewidth\":0,\"ticks\":\"\"},\"colorscale\":[[0.0,\"#0d0887\"],[0.1111111111111111,\"#46039f\"],[0.2222222222222222,\"#7201a8\"],[0.3333333333333333,\"#9c179e\"],[0.4444444444444444,\"#bd3786\"],[0.5555555555555556,\"#d8576b\"],[0.6666666666666666,\"#ed7953\"],[0.7777777777777778,\"#fb9f3a\"],[0.8888888888888888,\"#fdca26\"],[1.0,\"#f0f921\"]]}],\"choropleth\":[{\"type\":\"choropleth\",\"colorbar\":{\"outlinewidth\":0,\"ticks\":\"\"}}],\"histogram2d\":[{\"type\":\"histogram2d\",\"colorbar\":{\"outlinewidth\":0,\"ticks\":\"\"},\"colorscale\":[[0.0,\"#0d0887\"],[0.1111111111111111,\"#46039f\"],[0.2222222222222222,\"#7201a8\"],[0.3333333333333333,\"#9c179e\"],[0.4444444444444444,\"#bd3786\"],[0.5555555555555556,\"#d8576b\"],[0.6666666666666666,\"#ed7953\"],[0.7777777777777778,\"#fb9f3a\"],[0.8888888888888888,\"#fdca26\"],[1.0,\"#f0f921\"]]}],\"heatmap\":[{\"type\":\"heatmap\",\"colorbar\":{\"outlinewidth\":0,\"ticks\":\"\"},\"colorscale\":[[0.0,\"#0d0887\"],[0.1111111111111111,\"#46039f\"],[0.2222222222222222,\"#7201a8\"],[0.3333333333333333,\"#9c179e\"],[0.4444444444444444,\"#bd3786\"],[0.5555555555555556,\"#d8576b\"],[0.6666666666666666,\"#ed7953\"],[0.7777777777777778,\"#fb9f3a\"],[0.8888888888888888,\"#fdca26\"],[1.0,\"#f0f921\"]]}],\"heatmapgl\":[{\"type\":\"heatmapgl\",\"colorbar\":{\"outlinewidth\":0,\"ticks\":\"\"},\"colorscale\":[[0.0,\"#0d0887\"],[0.1111111111111111,\"#46039f\"],[0.2222222222222222,\"#7201a8\"],[0.3333333333333333,\"#9c179e\"],[0.4444444444444444,\"#bd3786\"],[0.5555555555555556,\"#d8576b\"],[0.6666666666666666,\"#ed7953\"],[0.7777777777777778,\"#fb9f3a\"],[0.8888888888888888,\"#fdca26\"],[1.0,\"#f0f921\"]]}],\"contourcarpet\":[{\"type\":\"contourcarpet\",\"colorbar\":{\"outlinewidth\":0,\"ticks\":\"\"}}],\"contour\":[{\"type\":\"contour\",\"colorbar\":{\"outlinewidth\":0,\"ticks\":\"\"},\"colorscale\":[[0.0,\"#0d0887\"],[0.1111111111111111,\"#46039f\"],[0.2222222222222222,\"#7201a8\"],[0.3333333333333333,\"#9c179e\"],[0.4444444444444444,\"#bd3786\"],[0.5555555555555556,\"#d8576b\"],[0.6666666666666666,\"#ed7953\"],[0.7777777777777778,\"#fb9f3a\"],[0.8888888888888888,\"#fdca26\"],[1.0,\"#f0f921\"]]}],\"surface\":[{\"type\":\"surface\",\"colorbar\":{\"outlinewidth\":0,\"ticks\":\"\"},\"colorscale\":[[0.0,\"#0d0887\"],[0.1111111111111111,\"#46039f\"],[0.2222222222222222,\"#7201a8\"],[0.3333333333333333,\"#9c179e\"],[0.4444444444444444,\"#bd3786\"],[0.5555555555555556,\"#d8576b\"],[0.6666666666666666,\"#ed7953\"],[0.7777777777777778,\"#fb9f3a\"],[0.8888888888888888,\"#fdca26\"],[1.0,\"#f0f921\"]]}],\"mesh3d\":[{\"type\":\"mesh3d\",\"colorbar\":{\"outlinewidth\":0,\"ticks\":\"\"}}],\"scatter\":[{\"fillpattern\":{\"fillmode\":\"overlay\",\"size\":10,\"solidity\":0.2},\"type\":\"scatter\"}],\"parcoords\":[{\"type\":\"parcoords\",\"line\":{\"colorbar\":{\"outlinewidth\":0,\"ticks\":\"\"}}}],\"scatterpolargl\":[{\"type\":\"scatterpolargl\",\"marker\":{\"colorbar\":{\"outlinewidth\":0,\"ticks\":\"\"}}}],\"bar\":[{\"error_x\":{\"color\":\"#2a3f5f\"},\"error_y\":{\"color\":\"#2a3f5f\"},\"marker\":{\"line\":{\"color\":\"#E5ECF6\",\"width\":0.5},\"pattern\":{\"fillmode\":\"overlay\",\"size\":10,\"solidity\":0.2}},\"type\":\"bar\"}],\"scattergeo\":[{\"type\":\"scattergeo\",\"marker\":{\"colorbar\":{\"outlinewidth\":0,\"ticks\":\"\"}}}],\"scatterpolar\":[{\"type\":\"scatterpolar\",\"marker\":{\"colorbar\":{\"outlinewidth\":0,\"ticks\":\"\"}}}],\"histogram\":[{\"marker\":{\"pattern\":{\"fillmode\":\"overlay\",\"size\":10,\"solidity\":0.2}},\"type\":\"histogram\"}],\"scattergl\":[{\"type\":\"scattergl\",\"marker\":{\"colorbar\":{\"outlinewidth\":0,\"ticks\":\"\"}}}],\"scatter3d\":[{\"type\":\"scatter3d\",\"line\":{\"colorbar\":{\"outlinewidth\":0,\"ticks\":\"\"}},\"marker\":{\"colorbar\":{\"outlinewidth\":0,\"ticks\":\"\"}}}],\"scattermapbox\":[{\"type\":\"scattermapbox\",\"marker\":{\"colorbar\":{\"outlinewidth\":0,\"ticks\":\"\"}}}],\"scatterternary\":[{\"type\":\"scatterternary\",\"marker\":{\"colorbar\":{\"outlinewidth\":0,\"ticks\":\"\"}}}],\"scattercarpet\":[{\"type\":\"scattercarpet\",\"marker\":{\"colorbar\":{\"outlinewidth\":0,\"ticks\":\"\"}}}],\"carpet\":[{\"aaxis\":{\"endlinecolor\":\"#2a3f5f\",\"gridcolor\":\"white\",\"linecolor\":\"white\",\"minorgridcolor\":\"white\",\"startlinecolor\":\"#2a3f5f\"},\"baxis\":{\"endlinecolor\":\"#2a3f5f\",\"gridcolor\":\"white\",\"linecolor\":\"white\",\"minorgridcolor\":\"white\",\"startlinecolor\":\"#2a3f5f\"},\"type\":\"carpet\"}],\"table\":[{\"cells\":{\"fill\":{\"color\":\"#EBF0F8\"},\"line\":{\"color\":\"white\"}},\"header\":{\"fill\":{\"color\":\"#C8D4E3\"},\"line\":{\"color\":\"white\"}},\"type\":\"table\"}],\"barpolar\":[{\"marker\":{\"line\":{\"color\":\"#E5ECF6\",\"width\":0.5},\"pattern\":{\"fillmode\":\"overlay\",\"size\":10,\"solidity\":0.2}},\"type\":\"barpolar\"}],\"pie\":[{\"automargin\":true,\"type\":\"pie\"}]},\"layout\":{\"autotypenumbers\":\"strict\",\"colorway\":[\"#636efa\",\"#EF553B\",\"#00cc96\",\"#ab63fa\",\"#FFA15A\",\"#19d3f3\",\"#FF6692\",\"#B6E880\",\"#FF97FF\",\"#FECB52\"],\"font\":{\"color\":\"#2a3f5f\"},\"hovermode\":\"closest\",\"hoverlabel\":{\"align\":\"left\"},\"paper_bgcolor\":\"white\",\"plot_bgcolor\":\"#E5ECF6\",\"polar\":{\"bgcolor\":\"#E5ECF6\",\"angularaxis\":{\"gridcolor\":\"white\",\"linecolor\":\"white\",\"ticks\":\"\"},\"radialaxis\":{\"gridcolor\":\"white\",\"linecolor\":\"white\",\"ticks\":\"\"}},\"ternary\":{\"bgcolor\":\"#E5ECF6\",\"aaxis\":{\"gridcolor\":\"white\",\"linecolor\":\"white\",\"ticks\":\"\"},\"baxis\":{\"gridcolor\":\"white\",\"linecolor\":\"white\",\"ticks\":\"\"},\"caxis\":{\"gridcolor\":\"white\",\"linecolor\":\"white\",\"ticks\":\"\"}},\"coloraxis\":{\"colorbar\":{\"outlinewidth\":0,\"ticks\":\"\"}},\"colorscale\":{\"sequential\":[[0.0,\"#0d0887\"],[0.1111111111111111,\"#46039f\"],[0.2222222222222222,\"#7201a8\"],[0.3333333333333333,\"#9c179e\"],[0.4444444444444444,\"#bd3786\"],[0.5555555555555556,\"#d8576b\"],[0.6666666666666666,\"#ed7953\"],[0.7777777777777778,\"#fb9f3a\"],[0.8888888888888888,\"#fdca26\"],[1.0,\"#f0f921\"]],\"sequentialminus\":[[0.0,\"#0d0887\"],[0.1111111111111111,\"#46039f\"],[0.2222222222222222,\"#7201a8\"],[0.3333333333333333,\"#9c179e\"],[0.4444444444444444,\"#bd3786\"],[0.5555555555555556,\"#d8576b\"],[0.6666666666666666,\"#ed7953\"],[0.7777777777777778,\"#fb9f3a\"],[0.8888888888888888,\"#fdca26\"],[1.0,\"#f0f921\"]],\"diverging\":[[0,\"#8e0152\"],[0.1,\"#c51b7d\"],[0.2,\"#de77ae\"],[0.3,\"#f1b6da\"],[0.4,\"#fde0ef\"],[0.5,\"#f7f7f7\"],[0.6,\"#e6f5d0\"],[0.7,\"#b8e186\"],[0.8,\"#7fbc41\"],[0.9,\"#4d9221\"],[1,\"#276419\"]]},\"xaxis\":{\"gridcolor\":\"white\",\"linecolor\":\"white\",\"ticks\":\"\",\"title\":{\"standoff\":15},\"zerolinecolor\":\"white\",\"automargin\":true,\"zerolinewidth\":2},\"yaxis\":{\"gridcolor\":\"white\",\"linecolor\":\"white\",\"ticks\":\"\",\"title\":{\"standoff\":15},\"zerolinecolor\":\"white\",\"automargin\":true,\"zerolinewidth\":2},\"scene\":{\"xaxis\":{\"backgroundcolor\":\"#E5ECF6\",\"gridcolor\":\"white\",\"linecolor\":\"white\",\"showbackground\":true,\"ticks\":\"\",\"zerolinecolor\":\"white\",\"gridwidth\":2},\"yaxis\":{\"backgroundcolor\":\"#E5ECF6\",\"gridcolor\":\"white\",\"linecolor\":\"white\",\"showbackground\":true,\"ticks\":\"\",\"zerolinecolor\":\"white\",\"gridwidth\":2},\"zaxis\":{\"backgroundcolor\":\"#E5ECF6\",\"gridcolor\":\"white\",\"linecolor\":\"white\",\"showbackground\":true,\"ticks\":\"\",\"zerolinecolor\":\"white\",\"gridwidth\":2}},\"shapedefaults\":{\"line\":{\"color\":\"#2a3f5f\"}},\"annotationdefaults\":{\"arrowcolor\":\"#2a3f5f\",\"arrowhead\":0,\"arrowwidth\":1},\"geo\":{\"bgcolor\":\"white\",\"landcolor\":\"#E5ECF6\",\"subunitcolor\":\"white\",\"showland\":true,\"showlakes\":true,\"lakecolor\":\"white\"},\"title\":{\"x\":0.05},\"mapbox\":{\"style\":\"light\"}}},\"legend\":{\"tracegroupgap\":0},\"title\":{\"text\":\"Top 5 Cities with Most Unicorns\",\"font\":{\"color\":\"#e75480\"}},\"piecolorway\":[\"#d7aefb\",\"#f28b82\",\"#fbbc04\",\"#a7ffeb\",\"#cbf0f8\",\"#fbd6f5\",\"#fdcfe8\",\"#e6c9a8\",\"#b5d2ff\",\"#cbaacb\"],\"plot_bgcolor\":\"#fff6fb\"},                        {\"responsive\": true}                    ).then(function(){\n",
              "                            \n",
              "var gd = document.getElementById('7f8c801b-bfca-40cc-bf21-9e1e4cbc3d5c');\n",
              "var x = new MutationObserver(function (mutations, observer) {{\n",
              "        var display = window.getComputedStyle(gd).display;\n",
              "        if (!display || display === 'none') {{\n",
              "            console.log([gd, 'removed!']);\n",
              "            Plotly.purge(gd);\n",
              "            observer.disconnect();\n",
              "        }}\n",
              "}});\n",
              "\n",
              "// Listen for the removal of the full notebook cells\n",
              "var notebookContainer = gd.closest('#notebook-container');\n",
              "if (notebookContainer) {{\n",
              "    x.observe(notebookContainer, {childList: true});\n",
              "}}\n",
              "\n",
              "// Listen for the clearing of the current output cell\n",
              "var outputEl = gd.closest('.output');\n",
              "if (outputEl) {{\n",
              "    x.observe(outputEl, {childList: true});\n",
              "}}\n",
              "\n",
              "                        })                };                            </script>        </div>\n",
              "</body>\n",
              "</html>"
            ]
          },
          "metadata": {}
        },
        {
          "output_type": "display_data",
          "data": {
            "text/plain": [
              "<IPython.core.display.HTML object>"
            ],
            "text/html": [
              "\n",
              "    <link href=\"https://fonts.googleapis.com/css2?family=Love+Ya+Like+A+Sister&display=swap\" rel=\"stylesheet\">\n",
              "    <div style=\"font-family: 'Love Ya Like A Sister', cursive; font-size: 24px; color: #734f96; margin-top: 30px;\">\n",
              "        <b>8. Financial Stage Distribution</b>\n",
              "    </div>\n",
              "    "
            ]
          },
          "metadata": {}
        },
        {
          "output_type": "display_data",
          "data": {
            "text/html": [
              "<html>\n",
              "<head><meta charset=\"utf-8\" /></head>\n",
              "<body>\n",
              "    <div>            <script src=\"https://cdnjs.cloudflare.com/ajax/libs/mathjax/2.7.5/MathJax.js?config=TeX-AMS-MML_SVG\"></script><script type=\"text/javascript\">if (window.MathJax && window.MathJax.Hub && window.MathJax.Hub.Config) {window.MathJax.Hub.Config({SVG: {font: \"STIX-Web\"}});}</script>                <script type=\"text/javascript\">window.PlotlyConfig = {MathJaxConfig: 'local'};</script>\n",
              "        <script charset=\"utf-8\" src=\"https://cdn.plot.ly/plotly-2.35.2.min.js\"></script>                <div id=\"d47cb4b9-6144-494e-ab1b-39a5c08c5d4c\" class=\"plotly-graph-div\" style=\"height:525px; width:100%;\"></div>            <script type=\"text/javascript\">                                    window.PLOTLYENV=window.PLOTLYENV || {};                                    if (document.getElementById(\"d47cb4b9-6144-494e-ab1b-39a5c08c5d4c\")) {                    Plotly.newPlot(                        \"d47cb4b9-6144-494e-ab1b-39a5c08c5d4c\",                        [{\"alignmentgroup\":\"True\",\"bingroup\":\"x\",\"hovertemplate\":\"Financial Stage=%{x}\\u003cbr\\u003ecount=%{y}\\u003cextra\\u003e\\u003c\\u002fextra\\u003e\",\"legendgroup\":\"IPO\",\"marker\":{\"color\":\"#d7aefb\",\"pattern\":{\"shape\":\"\"}},\"name\":\"IPO\",\"offsetgroup\":\"IPO\",\"orientation\":\"v\",\"showlegend\":true,\"x\":[\"IPO\",\"IPO\",\"IPO\",\"IPO\",\"IPO\",\"IPO\",\"IPO\"],\"xaxis\":\"x\",\"yaxis\":\"y\",\"type\":\"histogram\"},{\"alignmentgroup\":\"True\",\"bingroup\":\"x\",\"hovertemplate\":\"Financial Stage=%{x}\\u003cbr\\u003ecount=%{y}\\u003cextra\\u003e\\u003c\\u002fextra\\u003e\",\"legendgroup\":\"Undisclosed\",\"marker\":{\"color\":\"#f28b82\",\"pattern\":{\"shape\":\"\"}},\"name\":\"Undisclosed\",\"offsetgroup\":\"Undisclosed\",\"orientation\":\"v\",\"showlegend\":true,\"x\":[\"Undisclosed\",\"Undisclosed\",\"Undisclosed\",\"Undisclosed\",\"Undisclosed\",\"Undisclosed\",\"Undisclosed\",\"Undisclosed\",\"Undisclosed\",\"Undisclosed\",\"Undisclosed\",\"Undisclosed\",\"Undisclosed\",\"Undisclosed\",\"Undisclosed\",\"Undisclosed\",\"Undisclosed\",\"Undisclosed\",\"Undisclosed\",\"Undisclosed\",\"Undisclosed\",\"Undisclosed\",\"Undisclosed\",\"Undisclosed\",\"Undisclosed\",\"Undisclosed\",\"Undisclosed\",\"Undisclosed\",\"Undisclosed\",\"Undisclosed\",\"Undisclosed\",\"Undisclosed\",\"Undisclosed\",\"Undisclosed\",\"Undisclosed\",\"Undisclosed\",\"Undisclosed\",\"Undisclosed\",\"Undisclosed\",\"Undisclosed\",\"Undisclosed\",\"Undisclosed\",\"Undisclosed\",\"Undisclosed\",\"Undisclosed\",\"Undisclosed\",\"Undisclosed\",\"Undisclosed\",\"Undisclosed\",\"Undisclosed\",\"Undisclosed\",\"Undisclosed\",\"Undisclosed\",\"Undisclosed\",\"Undisclosed\",\"Undisclosed\",\"Undisclosed\",\"Undisclosed\",\"Undisclosed\",\"Undisclosed\",\"Undisclosed\",\"Undisclosed\",\"Undisclosed\",\"Undisclosed\",\"Undisclosed\",\"Undisclosed\",\"Undisclosed\",\"Undisclosed\",\"Undisclosed\",\"Undisclosed\",\"Undisclosed\",\"Undisclosed\",\"Undisclosed\",\"Undisclosed\",\"Undisclosed\",\"Undisclosed\",\"Undisclosed\",\"Undisclosed\",\"Undisclosed\",\"Undisclosed\",\"Undisclosed\",\"Undisclosed\",\"Undisclosed\",\"Undisclosed\",\"Undisclosed\",\"Undisclosed\",\"Undisclosed\",\"Undisclosed\",\"Undisclosed\",\"Undisclosed\",\"Undisclosed\",\"Undisclosed\",\"Undisclosed\",\"Undisclosed\",\"Undisclosed\",\"Undisclosed\",\"Undisclosed\",\"Undisclosed\",\"Undisclosed\",\"Undisclosed\",\"Undisclosed\",\"Undisclosed\",\"Undisclosed\",\"Undisclosed\",\"Undisclosed\",\"Undisclosed\",\"Undisclosed\",\"Undisclosed\",\"Undisclosed\",\"Undisclosed\",\"Undisclosed\",\"Undisclosed\",\"Undisclosed\",\"Undisclosed\",\"Undisclosed\",\"Undisclosed\",\"Undisclosed\",\"Undisclosed\",\"Undisclosed\",\"Undisclosed\",\"Undisclosed\",\"Undisclosed\",\"Undisclosed\",\"Undisclosed\",\"Undisclosed\",\"Undisclosed\",\"Undisclosed\",\"Undisclosed\",\"Undisclosed\",\"Undisclosed\",\"Undisclosed\",\"Undisclosed\",\"Undisclosed\",\"Undisclosed\",\"Undisclosed\",\"Undisclosed\",\"Undisclosed\",\"Undisclosed\",\"Undisclosed\",\"Undisclosed\",\"Undisclosed\",\"Undisclosed\",\"Undisclosed\",\"Undisclosed\",\"Undisclosed\",\"Undisclosed\",\"Undisclosed\",\"Undisclosed\",\"Undisclosed\",\"Undisclosed\",\"Undisclosed\",\"Undisclosed\",\"Undisclosed\",\"Undisclosed\",\"Undisclosed\",\"Undisclosed\",\"Undisclosed\",\"Undisclosed\",\"Undisclosed\",\"Undisclosed\",\"Undisclosed\",\"Undisclosed\",\"Undisclosed\",\"Undisclosed\",\"Undisclosed\",\"Undisclosed\",\"Undisclosed\",\"Undisclosed\",\"Undisclosed\",\"Undisclosed\",\"Undisclosed\",\"Undisclosed\",\"Undisclosed\",\"Undisclosed\",\"Undisclosed\",\"Undisclosed\",\"Undisclosed\",\"Undisclosed\",\"Undisclosed\",\"Undisclosed\",\"Undisclosed\",\"Undisclosed\",\"Undisclosed\",\"Undisclosed\",\"Undisclosed\",\"Undisclosed\",\"Undisclosed\",\"Undisclosed\",\"Undisclosed\",\"Undisclosed\",\"Undisclosed\",\"Undisclosed\",\"Undisclosed\",\"Undisclosed\",\"Undisclosed\",\"Undisclosed\",\"Undisclosed\",\"Undisclosed\",\"Undisclosed\",\"Undisclosed\",\"Undisclosed\",\"Undisclosed\",\"Undisclosed\",\"Undisclosed\",\"Undisclosed\",\"Undisclosed\",\"Undisclosed\",\"Undisclosed\",\"Undisclosed\",\"Undisclosed\",\"Undisclosed\",\"Undisclosed\",\"Undisclosed\",\"Undisclosed\",\"Undisclosed\",\"Undisclosed\",\"Undisclosed\",\"Undisclosed\",\"Undisclosed\",\"Undisclosed\",\"Undisclosed\",\"Undisclosed\",\"Undisclosed\",\"Undisclosed\",\"Undisclosed\",\"Undisclosed\",\"Undisclosed\",\"Undisclosed\",\"Undisclosed\",\"Undisclosed\",\"Undisclosed\",\"Undisclosed\",\"Undisclosed\",\"Undisclosed\",\"Undisclosed\",\"Undisclosed\",\"Undisclosed\",\"Undisclosed\",\"Undisclosed\",\"Undisclosed\",\"Undisclosed\",\"Undisclosed\",\"Undisclosed\",\"Undisclosed\",\"Undisclosed\",\"Undisclosed\",\"Undisclosed\",\"Undisclosed\",\"Undisclosed\",\"Undisclosed\",\"Undisclosed\",\"Undisclosed\",\"Undisclosed\",\"Undisclosed\",\"Undisclosed\",\"Undisclosed\",\"Undisclosed\",\"Undisclosed\",\"Undisclosed\",\"Undisclosed\",\"Undisclosed\",\"Undisclosed\",\"Undisclosed\",\"Undisclosed\",\"Undisclosed\",\"Undisclosed\",\"Undisclosed\",\"Undisclosed\",\"Undisclosed\",\"Undisclosed\",\"Undisclosed\",\"Undisclosed\",\"Undisclosed\",\"Undisclosed\",\"Undisclosed\",\"Undisclosed\",\"Undisclosed\",\"Undisclosed\",\"Undisclosed\",\"Undisclosed\",\"Undisclosed\",\"Undisclosed\",\"Undisclosed\",\"Undisclosed\",\"Undisclosed\",\"Undisclosed\",\"Undisclosed\",\"Undisclosed\",\"Undisclosed\",\"Undisclosed\",\"Undisclosed\",\"Undisclosed\",\"Undisclosed\",\"Undisclosed\",\"Undisclosed\",\"Undisclosed\",\"Undisclosed\",\"Undisclosed\",\"Undisclosed\",\"Undisclosed\",\"Undisclosed\",\"Undisclosed\",\"Undisclosed\",\"Undisclosed\",\"Undisclosed\",\"Undisclosed\",\"Undisclosed\",\"Undisclosed\",\"Undisclosed\",\"Undisclosed\",\"Undisclosed\",\"Undisclosed\",\"Undisclosed\",\"Undisclosed\",\"Undisclosed\",\"Undisclosed\",\"Undisclosed\",\"Undisclosed\",\"Undisclosed\",\"Undisclosed\",\"Undisclosed\",\"Undisclosed\",\"Undisclosed\",\"Undisclosed\",\"Undisclosed\",\"Undisclosed\",\"Undisclosed\",\"Undisclosed\",\"Undisclosed\",\"Undisclosed\",\"Undisclosed\",\"Undisclosed\",\"Undisclosed\",\"Undisclosed\",\"Undisclosed\",\"Undisclosed\",\"Undisclosed\",\"Undisclosed\",\"Undisclosed\",\"Undisclosed\",\"Undisclosed\",\"Undisclosed\",\"Undisclosed\",\"Undisclosed\",\"Undisclosed\",\"Undisclosed\",\"Undisclosed\",\"Undisclosed\",\"Undisclosed\",\"Undisclosed\",\"Undisclosed\",\"Undisclosed\",\"Undisclosed\",\"Undisclosed\",\"Undisclosed\",\"Undisclosed\",\"Undisclosed\",\"Undisclosed\",\"Undisclosed\",\"Undisclosed\",\"Undisclosed\",\"Undisclosed\",\"Undisclosed\",\"Undisclosed\",\"Undisclosed\",\"Undisclosed\",\"Undisclosed\",\"Undisclosed\",\"Undisclosed\",\"Undisclosed\",\"Undisclosed\",\"Undisclosed\",\"Undisclosed\",\"Undisclosed\",\"Undisclosed\",\"Undisclosed\",\"Undisclosed\",\"Undisclosed\",\"Undisclosed\",\"Undisclosed\",\"Undisclosed\",\"Undisclosed\",\"Undisclosed\",\"Undisclosed\",\"Undisclosed\",\"Undisclosed\",\"Undisclosed\",\"Undisclosed\",\"Undisclosed\",\"Undisclosed\",\"Undisclosed\",\"Undisclosed\",\"Undisclosed\",\"Undisclosed\",\"Undisclosed\",\"Undisclosed\",\"Undisclosed\",\"Undisclosed\",\"Undisclosed\",\"Undisclosed\",\"Undisclosed\",\"Undisclosed\",\"Undisclosed\",\"Undisclosed\",\"Undisclosed\",\"Undisclosed\",\"Undisclosed\",\"Undisclosed\",\"Undisclosed\",\"Undisclosed\",\"Undisclosed\",\"Undisclosed\",\"Undisclosed\",\"Undisclosed\",\"Undisclosed\",\"Undisclosed\",\"Undisclosed\",\"Undisclosed\",\"Undisclosed\",\"Undisclosed\",\"Undisclosed\",\"Undisclosed\",\"Undisclosed\",\"Undisclosed\",\"Undisclosed\",\"Undisclosed\",\"Undisclosed\",\"Undisclosed\",\"Undisclosed\",\"Undisclosed\",\"Undisclosed\",\"Undisclosed\",\"Undisclosed\",\"Undisclosed\",\"Undisclosed\",\"Undisclosed\",\"Undisclosed\",\"Undisclosed\",\"Undisclosed\",\"Undisclosed\",\"Undisclosed\",\"Undisclosed\",\"Undisclosed\",\"Undisclosed\",\"Undisclosed\",\"Undisclosed\",\"Undisclosed\",\"Undisclosed\",\"Undisclosed\",\"Undisclosed\",\"Undisclosed\",\"Undisclosed\",\"Undisclosed\",\"Undisclosed\",\"Undisclosed\",\"Undisclosed\",\"Undisclosed\",\"Undisclosed\",\"Undisclosed\",\"Undisclosed\",\"Undisclosed\",\"Undisclosed\",\"Undisclosed\",\"Undisclosed\",\"Undisclosed\",\"Undisclosed\",\"Undisclosed\",\"Undisclosed\",\"Undisclosed\",\"Undisclosed\",\"Undisclosed\",\"Undisclosed\",\"Undisclosed\",\"Undisclosed\",\"Undisclosed\",\"Undisclosed\",\"Undisclosed\",\"Undisclosed\",\"Undisclosed\",\"Undisclosed\",\"Undisclosed\",\"Undisclosed\",\"Undisclosed\",\"Undisclosed\",\"Undisclosed\",\"Undisclosed\",\"Undisclosed\",\"Undisclosed\",\"Undisclosed\",\"Undisclosed\",\"Undisclosed\",\"Undisclosed\",\"Undisclosed\",\"Undisclosed\",\"Undisclosed\",\"Undisclosed\",\"Undisclosed\",\"Undisclosed\",\"Undisclosed\",\"Undisclosed\",\"Undisclosed\",\"Undisclosed\",\"Undisclosed\",\"Undisclosed\",\"Undisclosed\",\"Undisclosed\",\"Undisclosed\",\"Undisclosed\",\"Undisclosed\",\"Undisclosed\",\"Undisclosed\",\"Undisclosed\",\"Undisclosed\",\"Undisclosed\",\"Undisclosed\",\"Undisclosed\",\"Undisclosed\",\"Undisclosed\",\"Undisclosed\",\"Undisclosed\",\"Undisclosed\",\"Undisclosed\",\"Undisclosed\",\"Undisclosed\",\"Undisclosed\",\"Undisclosed\",\"Undisclosed\",\"Undisclosed\",\"Undisclosed\",\"Undisclosed\",\"Undisclosed\",\"Undisclosed\",\"Undisclosed\",\"Undisclosed\",\"Undisclosed\",\"Undisclosed\",\"Undisclosed\",\"Undisclosed\",\"Undisclosed\",\"Undisclosed\",\"Undisclosed\",\"Undisclosed\",\"Undisclosed\",\"Undisclosed\",\"Undisclosed\",\"Undisclosed\",\"Undisclosed\",\"Undisclosed\",\"Undisclosed\",\"Undisclosed\",\"Undisclosed\",\"Undisclosed\",\"Undisclosed\",\"Undisclosed\",\"Undisclosed\",\"Undisclosed\",\"Undisclosed\",\"Undisclosed\",\"Undisclosed\",\"Undisclosed\",\"Undisclosed\",\"Undisclosed\",\"Undisclosed\",\"Undisclosed\",\"Undisclosed\",\"Undisclosed\",\"Undisclosed\",\"Undisclosed\",\"Undisclosed\",\"Undisclosed\",\"Undisclosed\",\"Undisclosed\",\"Undisclosed\",\"Undisclosed\",\"Undisclosed\",\"Undisclosed\",\"Undisclosed\",\"Undisclosed\",\"Undisclosed\",\"Undisclosed\",\"Undisclosed\",\"Undisclosed\",\"Undisclosed\",\"Undisclosed\",\"Undisclosed\",\"Undisclosed\",\"Undisclosed\",\"Undisclosed\",\"Undisclosed\",\"Undisclosed\",\"Undisclosed\",\"Undisclosed\",\"Undisclosed\",\"Undisclosed\",\"Undisclosed\",\"Undisclosed\",\"Undisclosed\",\"Undisclosed\",\"Undisclosed\",\"Undisclosed\",\"Undisclosed\",\"Undisclosed\",\"Undisclosed\",\"Undisclosed\",\"Undisclosed\",\"Undisclosed\",\"Undisclosed\",\"Undisclosed\",\"Undisclosed\",\"Undisclosed\",\"Undisclosed\",\"Undisclosed\",\"Undisclosed\",\"Undisclosed\",\"Undisclosed\",\"Undisclosed\",\"Undisclosed\",\"Undisclosed\",\"Undisclosed\",\"Undisclosed\",\"Undisclosed\",\"Undisclosed\",\"Undisclosed\",\"Undisclosed\",\"Undisclosed\",\"Undisclosed\",\"Undisclosed\",\"Undisclosed\",\"Undisclosed\",\"Undisclosed\",\"Undisclosed\",\"Undisclosed\",\"Undisclosed\",\"Undisclosed\",\"Undisclosed\",\"Undisclosed\",\"Undisclosed\",\"Undisclosed\",\"Undisclosed\",\"Undisclosed\",\"Undisclosed\",\"Undisclosed\",\"Undisclosed\",\"Undisclosed\",\"Undisclosed\",\"Undisclosed\",\"Undisclosed\",\"Undisclosed\",\"Undisclosed\",\"Undisclosed\",\"Undisclosed\",\"Undisclosed\",\"Undisclosed\",\"Undisclosed\",\"Undisclosed\",\"Undisclosed\",\"Undisclosed\",\"Undisclosed\",\"Undisclosed\",\"Undisclosed\",\"Undisclosed\",\"Undisclosed\",\"Undisclosed\",\"Undisclosed\",\"Undisclosed\",\"Undisclosed\",\"Undisclosed\",\"Undisclosed\",\"Undisclosed\",\"Undisclosed\",\"Undisclosed\",\"Undisclosed\",\"Undisclosed\",\"Undisclosed\",\"Undisclosed\",\"Undisclosed\",\"Undisclosed\",\"Undisclosed\",\"Undisclosed\",\"Undisclosed\",\"Undisclosed\",\"Undisclosed\",\"Undisclosed\",\"Undisclosed\",\"Undisclosed\",\"Undisclosed\",\"Undisclosed\",\"Undisclosed\",\"Undisclosed\",\"Undisclosed\",\"Undisclosed\",\"Undisclosed\",\"Undisclosed\",\"Undisclosed\",\"Undisclosed\",\"Undisclosed\",\"Undisclosed\",\"Undisclosed\",\"Undisclosed\",\"Undisclosed\",\"Undisclosed\",\"Undisclosed\",\"Undisclosed\",\"Undisclosed\",\"Undisclosed\",\"Undisclosed\",\"Undisclosed\",\"Undisclosed\",\"Undisclosed\",\"Undisclosed\",\"Undisclosed\",\"Undisclosed\",\"Undisclosed\",\"Undisclosed\",\"Undisclosed\",\"Undisclosed\",\"Undisclosed\",\"Undisclosed\",\"Undisclosed\",\"Undisclosed\",\"Undisclosed\",\"Undisclosed\",\"Undisclosed\",\"Undisclosed\",\"Undisclosed\",\"Undisclosed\",\"Undisclosed\",\"Undisclosed\",\"Undisclosed\",\"Undisclosed\",\"Undisclosed\",\"Undisclosed\",\"Undisclosed\",\"Undisclosed\",\"Undisclosed\",\"Undisclosed\",\"Undisclosed\",\"Undisclosed\",\"Undisclosed\",\"Undisclosed\",\"Undisclosed\",\"Undisclosed\",\"Undisclosed\",\"Undisclosed\",\"Undisclosed\",\"Undisclosed\",\"Undisclosed\",\"Undisclosed\",\"Undisclosed\",\"Undisclosed\",\"Undisclosed\",\"Undisclosed\",\"Undisclosed\",\"Undisclosed\",\"Undisclosed\",\"Undisclosed\",\"Undisclosed\",\"Undisclosed\",\"Undisclosed\",\"Undisclosed\",\"Undisclosed\",\"Undisclosed\",\"Undisclosed\",\"Undisclosed\",\"Undisclosed\",\"Undisclosed\",\"Undisclosed\",\"Undisclosed\",\"Undisclosed\",\"Undisclosed\",\"Undisclosed\",\"Undisclosed\",\"Undisclosed\",\"Undisclosed\",\"Undisclosed\",\"Undisclosed\",\"Undisclosed\",\"Undisclosed\",\"Undisclosed\",\"Undisclosed\",\"Undisclosed\",\"Undisclosed\",\"Undisclosed\",\"Undisclosed\",\"Undisclosed\",\"Undisclosed\",\"Undisclosed\",\"Undisclosed\",\"Undisclosed\",\"Undisclosed\",\"Undisclosed\",\"Undisclosed\",\"Undisclosed\",\"Undisclosed\",\"Undisclosed\",\"Undisclosed\",\"Undisclosed\",\"Undisclosed\",\"Undisclosed\",\"Undisclosed\",\"Undisclosed\",\"Undisclosed\",\"Undisclosed\",\"Undisclosed\",\"Undisclosed\",\"Undisclosed\",\"Undisclosed\",\"Undisclosed\",\"Undisclosed\",\"Undisclosed\",\"Undisclosed\",\"Undisclosed\",\"Undisclosed\",\"Undisclosed\",\"Undisclosed\",\"Undisclosed\",\"Undisclosed\",\"Undisclosed\",\"Undisclosed\",\"Undisclosed\",\"Undisclosed\",\"Undisclosed\",\"Undisclosed\",\"Undisclosed\",\"Undisclosed\",\"Undisclosed\",\"Undisclosed\",\"Undisclosed\",\"Undisclosed\",\"Undisclosed\",\"Undisclosed\",\"Undisclosed\",\"Undisclosed\",\"Undisclosed\",\"Undisclosed\",\"Undisclosed\",\"Undisclosed\",\"Undisclosed\",\"Undisclosed\",\"Undisclosed\",\"Undisclosed\",\"Undisclosed\",\"Undisclosed\",\"Undisclosed\",\"Undisclosed\",\"Undisclosed\",\"Undisclosed\",\"Undisclosed\",\"Undisclosed\",\"Undisclosed\",\"Undisclosed\",\"Undisclosed\",\"Undisclosed\",\"Undisclosed\",\"Undisclosed\",\"Undisclosed\",\"Undisclosed\",\"Undisclosed\",\"Undisclosed\",\"Undisclosed\",\"Undisclosed\",\"Undisclosed\",\"Undisclosed\",\"Undisclosed\",\"Undisclosed\",\"Undisclosed\",\"Undisclosed\",\"Undisclosed\",\"Undisclosed\",\"Undisclosed\",\"Undisclosed\",\"Undisclosed\",\"Undisclosed\",\"Undisclosed\",\"Undisclosed\",\"Undisclosed\",\"Undisclosed\",\"Undisclosed\",\"Undisclosed\",\"Undisclosed\",\"Undisclosed\",\"Undisclosed\",\"Undisclosed\",\"Undisclosed\",\"Undisclosed\",\"Undisclosed\",\"Undisclosed\",\"Undisclosed\",\"Undisclosed\",\"Undisclosed\",\"Undisclosed\",\"Undisclosed\",\"Undisclosed\",\"Undisclosed\",\"Undisclosed\",\"Undisclosed\",\"Undisclosed\",\"Undisclosed\",\"Undisclosed\",\"Undisclosed\",\"Undisclosed\",\"Undisclosed\",\"Undisclosed\",\"Undisclosed\",\"Undisclosed\",\"Undisclosed\",\"Undisclosed\",\"Undisclosed\",\"Undisclosed\",\"Undisclosed\",\"Undisclosed\",\"Undisclosed\",\"Undisclosed\",\"Undisclosed\",\"Undisclosed\",\"Undisclosed\",\"Undisclosed\",\"Undisclosed\",\"Undisclosed\",\"Undisclosed\",\"Undisclosed\",\"Undisclosed\",\"Undisclosed\",\"Undisclosed\",\"Undisclosed\",\"Undisclosed\",\"Undisclosed\",\"Undisclosed\",\"Undisclosed\",\"Undisclosed\",\"Undisclosed\",\"Undisclosed\",\"Undisclosed\",\"Undisclosed\",\"Undisclosed\",\"Undisclosed\",\"Undisclosed\",\"Undisclosed\",\"Undisclosed\",\"Undisclosed\",\"Undisclosed\",\"Undisclosed\",\"Undisclosed\",\"Undisclosed\",\"Undisclosed\",\"Undisclosed\",\"Undisclosed\",\"Undisclosed\",\"Undisclosed\",\"Undisclosed\",\"Undisclosed\",\"Undisclosed\",\"Undisclosed\",\"Undisclosed\",\"Undisclosed\",\"Undisclosed\",\"Undisclosed\",\"Undisclosed\",\"Undisclosed\",\"Undisclosed\",\"Undisclosed\",\"Undisclosed\",\"Undisclosed\",\"Undisclosed\",\"Undisclosed\",\"Undisclosed\",\"Undisclosed\",\"Undisclosed\",\"Undisclosed\",\"Undisclosed\",\"Undisclosed\",\"Undisclosed\",\"Undisclosed\",\"Undisclosed\",\"Undisclosed\",\"Undisclosed\",\"Undisclosed\",\"Undisclosed\",\"Undisclosed\",\"Undisclosed\",\"Undisclosed\",\"Undisclosed\",\"Undisclosed\",\"Undisclosed\",\"Undisclosed\",\"Undisclosed\",\"Undisclosed\",\"Undisclosed\"],\"xaxis\":\"x\",\"yaxis\":\"y\",\"type\":\"histogram\"},{\"alignmentgroup\":\"True\",\"bingroup\":\"x\",\"hovertemplate\":\"Financial Stage=%{x}\\u003cbr\\u003ecount=%{y}\\u003cextra\\u003e\\u003c\\u002fextra\\u003e\",\"legendgroup\":\"Asset\",\"marker\":{\"color\":\"#fbbc04\",\"pattern\":{\"shape\":\"\"}},\"name\":\"Asset\",\"offsetgroup\":\"Asset\",\"orientation\":\"v\",\"showlegend\":true,\"x\":[\"Asset\"],\"xaxis\":\"x\",\"yaxis\":\"y\",\"type\":\"histogram\"},{\"alignmentgroup\":\"True\",\"bingroup\":\"x\",\"hovertemplate\":\"Financial Stage=%{x}\\u003cbr\\u003ecount=%{y}\\u003cextra\\u003e\\u003c\\u002fextra\\u003e\",\"legendgroup\":\"Acquired\",\"marker\":{\"color\":\"#a7ffeb\",\"pattern\":{\"shape\":\"\"}},\"name\":\"Acquired\",\"offsetgroup\":\"Acquired\",\"orientation\":\"v\",\"showlegend\":true,\"x\":[\"Acquired\",\"Acquired\",\"Acquired\",\"Acquired\",\"Acquired\",\"Acquired\",\"Acquired\",\"Acquired\",\"Acquired\",\"Acquired\",\"Acquired\",\"Acquired\",\"Acquired\",\"Acquired\",\"Acquired\",\"Acquired\",\"Acquired\",\"Acquired\",\"Acquired\",\"Acquired\",\"Acquired\",\"Acquired\",\"Acquired\",\"Acquired\",\"Acquired\",\"Acquired\",\"Acquired\",\"Acquired\",\"Acquired\"],\"xaxis\":\"x\",\"yaxis\":\"y\",\"type\":\"histogram\"},{\"alignmentgroup\":\"True\",\"bingroup\":\"x\",\"hovertemplate\":\"Financial Stage=%{x}\\u003cbr\\u003ecount=%{y}\\u003cextra\\u003e\\u003c\\u002fextra\\u003e\",\"legendgroup\":\"Divestiture\",\"marker\":{\"color\":\"#cbf0f8\",\"pattern\":{\"shape\":\"\"}},\"name\":\"Divestiture\",\"offsetgroup\":\"Divestiture\",\"orientation\":\"v\",\"showlegend\":true,\"x\":[\"Divestiture\",\"Divestiture\",\"Divestiture\",\"Divestiture\",\"Divestiture\",\"Divestiture\",\"Divestiture\",\"Divestiture\"],\"xaxis\":\"x\",\"yaxis\":\"y\",\"type\":\"histogram\"},{\"alignmentgroup\":\"True\",\"bingroup\":\"x\",\"hovertemplate\":\"Financial Stage=%{x}\\u003cbr\\u003ecount=%{y}\\u003cextra\\u003e\\u003c\\u002fextra\\u003e\",\"legendgroup\":\"Take\",\"marker\":{\"color\":\"#fbd6f5\",\"pattern\":{\"shape\":\"\"}},\"name\":\"Take\",\"offsetgroup\":\"Take\",\"orientation\":\"v\",\"showlegend\":true,\"x\":[\"Take\"],\"xaxis\":\"x\",\"yaxis\":\"y\",\"type\":\"histogram\"},{\"alignmentgroup\":\"True\",\"bingroup\":\"x\",\"hovertemplate\":\"Financial Stage=%{x}\\u003cbr\\u003ecount=%{y}\\u003cextra\\u003e\\u003c\\u002fextra\\u003e\",\"legendgroup\":\"Management\",\"marker\":{\"color\":\"#fdcfe8\",\"pattern\":{\"shape\":\"\"}},\"name\":\"Management\",\"offsetgroup\":\"Management\",\"orientation\":\"v\",\"showlegend\":true,\"x\":[\"Management\"],\"xaxis\":\"x\",\"yaxis\":\"y\",\"type\":\"histogram\"},{\"alignmentgroup\":\"True\",\"bingroup\":\"x\",\"hovertemplate\":\"Financial Stage=%{x}\\u003cbr\\u003ecount=%{y}\\u003cextra\\u003e\\u003c\\u002fextra\\u003e\",\"legendgroup\":\"Reverse\",\"marker\":{\"color\":\"#e6c9a8\",\"pattern\":{\"shape\":\"\"}},\"name\":\"Reverse\",\"offsetgroup\":\"Reverse\",\"orientation\":\"v\",\"showlegend\":true,\"x\":[\"Reverse\"],\"xaxis\":\"x\",\"yaxis\":\"y\",\"type\":\"histogram\"},{\"alignmentgroup\":\"True\",\"bingroup\":\"x\",\"hovertemplate\":\"Financial Stage=%{x}\\u003cbr\\u003ecount=%{y}\\u003cextra\\u003e\\u003c\\u002fextra\\u003e\",\"legendgroup\":\"Corporate\",\"marker\":{\"color\":\"#b5d2ff\",\"pattern\":{\"shape\":\"\"}},\"name\":\"Corporate\",\"offsetgroup\":\"Corporate\",\"orientation\":\"v\",\"showlegend\":true,\"x\":[\"Corporate\"],\"xaxis\":\"x\",\"yaxis\":\"y\",\"type\":\"histogram\"}],                        {\"template\":{\"data\":{\"histogram2dcontour\":[{\"type\":\"histogram2dcontour\",\"colorbar\":{\"outlinewidth\":0,\"ticks\":\"\"},\"colorscale\":[[0.0,\"#0d0887\"],[0.1111111111111111,\"#46039f\"],[0.2222222222222222,\"#7201a8\"],[0.3333333333333333,\"#9c179e\"],[0.4444444444444444,\"#bd3786\"],[0.5555555555555556,\"#d8576b\"],[0.6666666666666666,\"#ed7953\"],[0.7777777777777778,\"#fb9f3a\"],[0.8888888888888888,\"#fdca26\"],[1.0,\"#f0f921\"]]}],\"choropleth\":[{\"type\":\"choropleth\",\"colorbar\":{\"outlinewidth\":0,\"ticks\":\"\"}}],\"histogram2d\":[{\"type\":\"histogram2d\",\"colorbar\":{\"outlinewidth\":0,\"ticks\":\"\"},\"colorscale\":[[0.0,\"#0d0887\"],[0.1111111111111111,\"#46039f\"],[0.2222222222222222,\"#7201a8\"],[0.3333333333333333,\"#9c179e\"],[0.4444444444444444,\"#bd3786\"],[0.5555555555555556,\"#d8576b\"],[0.6666666666666666,\"#ed7953\"],[0.7777777777777778,\"#fb9f3a\"],[0.8888888888888888,\"#fdca26\"],[1.0,\"#f0f921\"]]}],\"heatmap\":[{\"type\":\"heatmap\",\"colorbar\":{\"outlinewidth\":0,\"ticks\":\"\"},\"colorscale\":[[0.0,\"#0d0887\"],[0.1111111111111111,\"#46039f\"],[0.2222222222222222,\"#7201a8\"],[0.3333333333333333,\"#9c179e\"],[0.4444444444444444,\"#bd3786\"],[0.5555555555555556,\"#d8576b\"],[0.6666666666666666,\"#ed7953\"],[0.7777777777777778,\"#fb9f3a\"],[0.8888888888888888,\"#fdca26\"],[1.0,\"#f0f921\"]]}],\"heatmapgl\":[{\"type\":\"heatmapgl\",\"colorbar\":{\"outlinewidth\":0,\"ticks\":\"\"},\"colorscale\":[[0.0,\"#0d0887\"],[0.1111111111111111,\"#46039f\"],[0.2222222222222222,\"#7201a8\"],[0.3333333333333333,\"#9c179e\"],[0.4444444444444444,\"#bd3786\"],[0.5555555555555556,\"#d8576b\"],[0.6666666666666666,\"#ed7953\"],[0.7777777777777778,\"#fb9f3a\"],[0.8888888888888888,\"#fdca26\"],[1.0,\"#f0f921\"]]}],\"contourcarpet\":[{\"type\":\"contourcarpet\",\"colorbar\":{\"outlinewidth\":0,\"ticks\":\"\"}}],\"contour\":[{\"type\":\"contour\",\"colorbar\":{\"outlinewidth\":0,\"ticks\":\"\"},\"colorscale\":[[0.0,\"#0d0887\"],[0.1111111111111111,\"#46039f\"],[0.2222222222222222,\"#7201a8\"],[0.3333333333333333,\"#9c179e\"],[0.4444444444444444,\"#bd3786\"],[0.5555555555555556,\"#d8576b\"],[0.6666666666666666,\"#ed7953\"],[0.7777777777777778,\"#fb9f3a\"],[0.8888888888888888,\"#fdca26\"],[1.0,\"#f0f921\"]]}],\"surface\":[{\"type\":\"surface\",\"colorbar\":{\"outlinewidth\":0,\"ticks\":\"\"},\"colorscale\":[[0.0,\"#0d0887\"],[0.1111111111111111,\"#46039f\"],[0.2222222222222222,\"#7201a8\"],[0.3333333333333333,\"#9c179e\"],[0.4444444444444444,\"#bd3786\"],[0.5555555555555556,\"#d8576b\"],[0.6666666666666666,\"#ed7953\"],[0.7777777777777778,\"#fb9f3a\"],[0.8888888888888888,\"#fdca26\"],[1.0,\"#f0f921\"]]}],\"mesh3d\":[{\"type\":\"mesh3d\",\"colorbar\":{\"outlinewidth\":0,\"ticks\":\"\"}}],\"scatter\":[{\"fillpattern\":{\"fillmode\":\"overlay\",\"size\":10,\"solidity\":0.2},\"type\":\"scatter\"}],\"parcoords\":[{\"type\":\"parcoords\",\"line\":{\"colorbar\":{\"outlinewidth\":0,\"ticks\":\"\"}}}],\"scatterpolargl\":[{\"type\":\"scatterpolargl\",\"marker\":{\"colorbar\":{\"outlinewidth\":0,\"ticks\":\"\"}}}],\"bar\":[{\"error_x\":{\"color\":\"#2a3f5f\"},\"error_y\":{\"color\":\"#2a3f5f\"},\"marker\":{\"line\":{\"color\":\"#E5ECF6\",\"width\":0.5},\"pattern\":{\"fillmode\":\"overlay\",\"size\":10,\"solidity\":0.2}},\"type\":\"bar\"}],\"scattergeo\":[{\"type\":\"scattergeo\",\"marker\":{\"colorbar\":{\"outlinewidth\":0,\"ticks\":\"\"}}}],\"scatterpolar\":[{\"type\":\"scatterpolar\",\"marker\":{\"colorbar\":{\"outlinewidth\":0,\"ticks\":\"\"}}}],\"histogram\":[{\"marker\":{\"pattern\":{\"fillmode\":\"overlay\",\"size\":10,\"solidity\":0.2}},\"type\":\"histogram\"}],\"scattergl\":[{\"type\":\"scattergl\",\"marker\":{\"colorbar\":{\"outlinewidth\":0,\"ticks\":\"\"}}}],\"scatter3d\":[{\"type\":\"scatter3d\",\"line\":{\"colorbar\":{\"outlinewidth\":0,\"ticks\":\"\"}},\"marker\":{\"colorbar\":{\"outlinewidth\":0,\"ticks\":\"\"}}}],\"scattermapbox\":[{\"type\":\"scattermapbox\",\"marker\":{\"colorbar\":{\"outlinewidth\":0,\"ticks\":\"\"}}}],\"scatterternary\":[{\"type\":\"scatterternary\",\"marker\":{\"colorbar\":{\"outlinewidth\":0,\"ticks\":\"\"}}}],\"scattercarpet\":[{\"type\":\"scattercarpet\",\"marker\":{\"colorbar\":{\"outlinewidth\":0,\"ticks\":\"\"}}}],\"carpet\":[{\"aaxis\":{\"endlinecolor\":\"#2a3f5f\",\"gridcolor\":\"white\",\"linecolor\":\"white\",\"minorgridcolor\":\"white\",\"startlinecolor\":\"#2a3f5f\"},\"baxis\":{\"endlinecolor\":\"#2a3f5f\",\"gridcolor\":\"white\",\"linecolor\":\"white\",\"minorgridcolor\":\"white\",\"startlinecolor\":\"#2a3f5f\"},\"type\":\"carpet\"}],\"table\":[{\"cells\":{\"fill\":{\"color\":\"#EBF0F8\"},\"line\":{\"color\":\"white\"}},\"header\":{\"fill\":{\"color\":\"#C8D4E3\"},\"line\":{\"color\":\"white\"}},\"type\":\"table\"}],\"barpolar\":[{\"marker\":{\"line\":{\"color\":\"#E5ECF6\",\"width\":0.5},\"pattern\":{\"fillmode\":\"overlay\",\"size\":10,\"solidity\":0.2}},\"type\":\"barpolar\"}],\"pie\":[{\"automargin\":true,\"type\":\"pie\"}]},\"layout\":{\"autotypenumbers\":\"strict\",\"colorway\":[\"#636efa\",\"#EF553B\",\"#00cc96\",\"#ab63fa\",\"#FFA15A\",\"#19d3f3\",\"#FF6692\",\"#B6E880\",\"#FF97FF\",\"#FECB52\"],\"font\":{\"color\":\"#2a3f5f\"},\"hovermode\":\"closest\",\"hoverlabel\":{\"align\":\"left\"},\"paper_bgcolor\":\"white\",\"plot_bgcolor\":\"#E5ECF6\",\"polar\":{\"bgcolor\":\"#E5ECF6\",\"angularaxis\":{\"gridcolor\":\"white\",\"linecolor\":\"white\",\"ticks\":\"\"},\"radialaxis\":{\"gridcolor\":\"white\",\"linecolor\":\"white\",\"ticks\":\"\"}},\"ternary\":{\"bgcolor\":\"#E5ECF6\",\"aaxis\":{\"gridcolor\":\"white\",\"linecolor\":\"white\",\"ticks\":\"\"},\"baxis\":{\"gridcolor\":\"white\",\"linecolor\":\"white\",\"ticks\":\"\"},\"caxis\":{\"gridcolor\":\"white\",\"linecolor\":\"white\",\"ticks\":\"\"}},\"coloraxis\":{\"colorbar\":{\"outlinewidth\":0,\"ticks\":\"\"}},\"colorscale\":{\"sequential\":[[0.0,\"#0d0887\"],[0.1111111111111111,\"#46039f\"],[0.2222222222222222,\"#7201a8\"],[0.3333333333333333,\"#9c179e\"],[0.4444444444444444,\"#bd3786\"],[0.5555555555555556,\"#d8576b\"],[0.6666666666666666,\"#ed7953\"],[0.7777777777777778,\"#fb9f3a\"],[0.8888888888888888,\"#fdca26\"],[1.0,\"#f0f921\"]],\"sequentialminus\":[[0.0,\"#0d0887\"],[0.1111111111111111,\"#46039f\"],[0.2222222222222222,\"#7201a8\"],[0.3333333333333333,\"#9c179e\"],[0.4444444444444444,\"#bd3786\"],[0.5555555555555556,\"#d8576b\"],[0.6666666666666666,\"#ed7953\"],[0.7777777777777778,\"#fb9f3a\"],[0.8888888888888888,\"#fdca26\"],[1.0,\"#f0f921\"]],\"diverging\":[[0,\"#8e0152\"],[0.1,\"#c51b7d\"],[0.2,\"#de77ae\"],[0.3,\"#f1b6da\"],[0.4,\"#fde0ef\"],[0.5,\"#f7f7f7\"],[0.6,\"#e6f5d0\"],[0.7,\"#b8e186\"],[0.8,\"#7fbc41\"],[0.9,\"#4d9221\"],[1,\"#276419\"]]},\"xaxis\":{\"gridcolor\":\"white\",\"linecolor\":\"white\",\"ticks\":\"\",\"title\":{\"standoff\":15},\"zerolinecolor\":\"white\",\"automargin\":true,\"zerolinewidth\":2},\"yaxis\":{\"gridcolor\":\"white\",\"linecolor\":\"white\",\"ticks\":\"\",\"title\":{\"standoff\":15},\"zerolinecolor\":\"white\",\"automargin\":true,\"zerolinewidth\":2},\"scene\":{\"xaxis\":{\"backgroundcolor\":\"#E5ECF6\",\"gridcolor\":\"white\",\"linecolor\":\"white\",\"showbackground\":true,\"ticks\":\"\",\"zerolinecolor\":\"white\",\"gridwidth\":2},\"yaxis\":{\"backgroundcolor\":\"#E5ECF6\",\"gridcolor\":\"white\",\"linecolor\":\"white\",\"showbackground\":true,\"ticks\":\"\",\"zerolinecolor\":\"white\",\"gridwidth\":2},\"zaxis\":{\"backgroundcolor\":\"#E5ECF6\",\"gridcolor\":\"white\",\"linecolor\":\"white\",\"showbackground\":true,\"ticks\":\"\",\"zerolinecolor\":\"white\",\"gridwidth\":2}},\"shapedefaults\":{\"line\":{\"color\":\"#2a3f5f\"}},\"annotationdefaults\":{\"arrowcolor\":\"#2a3f5f\",\"arrowhead\":0,\"arrowwidth\":1},\"geo\":{\"bgcolor\":\"white\",\"landcolor\":\"#E5ECF6\",\"subunitcolor\":\"white\",\"showland\":true,\"showlakes\":true,\"lakecolor\":\"white\"},\"title\":{\"x\":0.05},\"mapbox\":{\"style\":\"light\"}}},\"xaxis\":{\"anchor\":\"y\",\"domain\":[0.0,1.0],\"title\":{\"text\":\"Financial Stage\"},\"categoryorder\":\"total descending\",\"categoryarray\":[\"IPO\",\"Undisclosed\",\"Asset\",\"Acquired\",\"Divestiture\",\"Take\",\"Management\",\"Reverse\",\"Corporate\"]},\"yaxis\":{\"anchor\":\"x\",\"domain\":[0.0,1.0],\"title\":{\"text\":\"count\"}},\"legend\":{\"title\":{\"text\":\"Financial Stage\"},\"tracegroupgap\":0},\"title\":{\"text\":\"Distribution of Financial Stages\",\"font\":{\"color\":\"#e75480\"}},\"barmode\":\"relative\",\"plot_bgcolor\":\"#fff6fb\"},                        {\"responsive\": true}                    ).then(function(){\n",
              "                            \n",
              "var gd = document.getElementById('d47cb4b9-6144-494e-ab1b-39a5c08c5d4c');\n",
              "var x = new MutationObserver(function (mutations, observer) {{\n",
              "        var display = window.getComputedStyle(gd).display;\n",
              "        if (!display || display === 'none') {{\n",
              "            console.log([gd, 'removed!']);\n",
              "            Plotly.purge(gd);\n",
              "            observer.disconnect();\n",
              "        }}\n",
              "}});\n",
              "\n",
              "// Listen for the removal of the full notebook cells\n",
              "var notebookContainer = gd.closest('#notebook-container');\n",
              "if (notebookContainer) {{\n",
              "    x.observe(notebookContainer, {childList: true});\n",
              "}}\n",
              "\n",
              "// Listen for the clearing of the current output cell\n",
              "var outputEl = gd.closest('.output');\n",
              "if (outputEl) {{\n",
              "    x.observe(outputEl, {childList: true});\n",
              "}}\n",
              "\n",
              "                        })                };                            </script>        </div>\n",
              "</body>\n",
              "</html>"
            ]
          },
          "metadata": {}
        },
        {
          "output_type": "display_data",
          "data": {
            "text/plain": [
              "<IPython.core.display.HTML object>"
            ],
            "text/html": [
              "\n",
              "    <link href=\"https://fonts.googleapis.com/css2?family=Love+Ya+Like+A+Sister&display=swap\" rel=\"stylesheet\">\n",
              "    <div style=\"font-family: 'Love Ya Like A Sister', cursive; font-size: 24px; color: #734f96; margin-top: 30px;\">\n",
              "        <b>9. Most Portfolio Exits</b>\n",
              "    </div>\n",
              "    "
            ]
          },
          "metadata": {}
        },
        {
          "output_type": "display_data",
          "data": {
            "text/plain": [
              "<IPython.core.display.HTML object>"
            ],
            "text/html": [
              "\n",
              "    <link href=\"https://fonts.googleapis.com/css2?family=Love+Ya+Like+A+Sister&display=swap\" rel=\"stylesheet\">\n",
              "    <div style=\"font-family: 'Love Ya Like A Sister', cursive; font-size: 18px; color: #8767a6;\">\n",
              "        Top 5 companies with most portfolio exits:\n",
              "    </div>\n",
              "    "
            ]
          },
          "metadata": {}
        },
        {
          "output_type": "display_data",
          "data": {
            "text/html": [
              "<html>\n",
              "<head><meta charset=\"utf-8\" /></head>\n",
              "<body>\n",
              "    <div>            <script src=\"https://cdnjs.cloudflare.com/ajax/libs/mathjax/2.7.5/MathJax.js?config=TeX-AMS-MML_SVG\"></script><script type=\"text/javascript\">if (window.MathJax && window.MathJax.Hub && window.MathJax.Hub.Config) {window.MathJax.Hub.Config({SVG: {font: \"STIX-Web\"}});}</script>                <script type=\"text/javascript\">window.PlotlyConfig = {MathJaxConfig: 'local'};</script>\n",
              "        <script charset=\"utf-8\" src=\"https://cdn.plot.ly/plotly-2.35.2.min.js\"></script>                <div id=\"22e56f5c-77c2-4b87-99fc-b6fbae50f64c\" class=\"plotly-graph-div\" style=\"height:525px; width:100%;\"></div>            <script type=\"text/javascript\">                                    window.PLOTLYENV=window.PLOTLYENV || {};                                    if (document.getElementById(\"22e56f5c-77c2-4b87-99fc-b6fbae50f64c\")) {                    Plotly.newPlot(                        \"22e56f5c-77c2-4b87-99fc-b6fbae50f64c\",                        [{\"alignmentgroup\":\"True\",\"hovertemplate\":\"Company=%{x}\\u003cbr\\u003ePortfolio Exits=%{marker.color}\\u003cextra\\u003e\\u003c\\u002fextra\\u003e\",\"legendgroup\":\"\",\"marker\":{\"color\":[5,3,3,2,2],\"coloraxis\":\"coloraxis\",\"pattern\":{\"shape\":\"\"}},\"name\":\"\",\"offsetgroup\":\"\",\"orientation\":\"v\",\"showlegend\":false,\"textposition\":\"auto\",\"x\":[\"Bytedance\",\"Circle\",\"iCarbonX\",\"Snapdeal\",\"BitFury\"],\"xaxis\":\"x\",\"y\":[5,3,3,2,2],\"yaxis\":\"y\",\"type\":\"bar\"}],                        {\"template\":{\"data\":{\"histogram2dcontour\":[{\"type\":\"histogram2dcontour\",\"colorbar\":{\"outlinewidth\":0,\"ticks\":\"\"},\"colorscale\":[[0.0,\"#0d0887\"],[0.1111111111111111,\"#46039f\"],[0.2222222222222222,\"#7201a8\"],[0.3333333333333333,\"#9c179e\"],[0.4444444444444444,\"#bd3786\"],[0.5555555555555556,\"#d8576b\"],[0.6666666666666666,\"#ed7953\"],[0.7777777777777778,\"#fb9f3a\"],[0.8888888888888888,\"#fdca26\"],[1.0,\"#f0f921\"]]}],\"choropleth\":[{\"type\":\"choropleth\",\"colorbar\":{\"outlinewidth\":0,\"ticks\":\"\"}}],\"histogram2d\":[{\"type\":\"histogram2d\",\"colorbar\":{\"outlinewidth\":0,\"ticks\":\"\"},\"colorscale\":[[0.0,\"#0d0887\"],[0.1111111111111111,\"#46039f\"],[0.2222222222222222,\"#7201a8\"],[0.3333333333333333,\"#9c179e\"],[0.4444444444444444,\"#bd3786\"],[0.5555555555555556,\"#d8576b\"],[0.6666666666666666,\"#ed7953\"],[0.7777777777777778,\"#fb9f3a\"],[0.8888888888888888,\"#fdca26\"],[1.0,\"#f0f921\"]]}],\"heatmap\":[{\"type\":\"heatmap\",\"colorbar\":{\"outlinewidth\":0,\"ticks\":\"\"},\"colorscale\":[[0.0,\"#0d0887\"],[0.1111111111111111,\"#46039f\"],[0.2222222222222222,\"#7201a8\"],[0.3333333333333333,\"#9c179e\"],[0.4444444444444444,\"#bd3786\"],[0.5555555555555556,\"#d8576b\"],[0.6666666666666666,\"#ed7953\"],[0.7777777777777778,\"#fb9f3a\"],[0.8888888888888888,\"#fdca26\"],[1.0,\"#f0f921\"]]}],\"heatmapgl\":[{\"type\":\"heatmapgl\",\"colorbar\":{\"outlinewidth\":0,\"ticks\":\"\"},\"colorscale\":[[0.0,\"#0d0887\"],[0.1111111111111111,\"#46039f\"],[0.2222222222222222,\"#7201a8\"],[0.3333333333333333,\"#9c179e\"],[0.4444444444444444,\"#bd3786\"],[0.5555555555555556,\"#d8576b\"],[0.6666666666666666,\"#ed7953\"],[0.7777777777777778,\"#fb9f3a\"],[0.8888888888888888,\"#fdca26\"],[1.0,\"#f0f921\"]]}],\"contourcarpet\":[{\"type\":\"contourcarpet\",\"colorbar\":{\"outlinewidth\":0,\"ticks\":\"\"}}],\"contour\":[{\"type\":\"contour\",\"colorbar\":{\"outlinewidth\":0,\"ticks\":\"\"},\"colorscale\":[[0.0,\"#0d0887\"],[0.1111111111111111,\"#46039f\"],[0.2222222222222222,\"#7201a8\"],[0.3333333333333333,\"#9c179e\"],[0.4444444444444444,\"#bd3786\"],[0.5555555555555556,\"#d8576b\"],[0.6666666666666666,\"#ed7953\"],[0.7777777777777778,\"#fb9f3a\"],[0.8888888888888888,\"#fdca26\"],[1.0,\"#f0f921\"]]}],\"surface\":[{\"type\":\"surface\",\"colorbar\":{\"outlinewidth\":0,\"ticks\":\"\"},\"colorscale\":[[0.0,\"#0d0887\"],[0.1111111111111111,\"#46039f\"],[0.2222222222222222,\"#7201a8\"],[0.3333333333333333,\"#9c179e\"],[0.4444444444444444,\"#bd3786\"],[0.5555555555555556,\"#d8576b\"],[0.6666666666666666,\"#ed7953\"],[0.7777777777777778,\"#fb9f3a\"],[0.8888888888888888,\"#fdca26\"],[1.0,\"#f0f921\"]]}],\"mesh3d\":[{\"type\":\"mesh3d\",\"colorbar\":{\"outlinewidth\":0,\"ticks\":\"\"}}],\"scatter\":[{\"fillpattern\":{\"fillmode\":\"overlay\",\"size\":10,\"solidity\":0.2},\"type\":\"scatter\"}],\"parcoords\":[{\"type\":\"parcoords\",\"line\":{\"colorbar\":{\"outlinewidth\":0,\"ticks\":\"\"}}}],\"scatterpolargl\":[{\"type\":\"scatterpolargl\",\"marker\":{\"colorbar\":{\"outlinewidth\":0,\"ticks\":\"\"}}}],\"bar\":[{\"error_x\":{\"color\":\"#2a3f5f\"},\"error_y\":{\"color\":\"#2a3f5f\"},\"marker\":{\"line\":{\"color\":\"#E5ECF6\",\"width\":0.5},\"pattern\":{\"fillmode\":\"overlay\",\"size\":10,\"solidity\":0.2}},\"type\":\"bar\"}],\"scattergeo\":[{\"type\":\"scattergeo\",\"marker\":{\"colorbar\":{\"outlinewidth\":0,\"ticks\":\"\"}}}],\"scatterpolar\":[{\"type\":\"scatterpolar\",\"marker\":{\"colorbar\":{\"outlinewidth\":0,\"ticks\":\"\"}}}],\"histogram\":[{\"marker\":{\"pattern\":{\"fillmode\":\"overlay\",\"size\":10,\"solidity\":0.2}},\"type\":\"histogram\"}],\"scattergl\":[{\"type\":\"scattergl\",\"marker\":{\"colorbar\":{\"outlinewidth\":0,\"ticks\":\"\"}}}],\"scatter3d\":[{\"type\":\"scatter3d\",\"line\":{\"colorbar\":{\"outlinewidth\":0,\"ticks\":\"\"}},\"marker\":{\"colorbar\":{\"outlinewidth\":0,\"ticks\":\"\"}}}],\"scattermapbox\":[{\"type\":\"scattermapbox\",\"marker\":{\"colorbar\":{\"outlinewidth\":0,\"ticks\":\"\"}}}],\"scatterternary\":[{\"type\":\"scatterternary\",\"marker\":{\"colorbar\":{\"outlinewidth\":0,\"ticks\":\"\"}}}],\"scattercarpet\":[{\"type\":\"scattercarpet\",\"marker\":{\"colorbar\":{\"outlinewidth\":0,\"ticks\":\"\"}}}],\"carpet\":[{\"aaxis\":{\"endlinecolor\":\"#2a3f5f\",\"gridcolor\":\"white\",\"linecolor\":\"white\",\"minorgridcolor\":\"white\",\"startlinecolor\":\"#2a3f5f\"},\"baxis\":{\"endlinecolor\":\"#2a3f5f\",\"gridcolor\":\"white\",\"linecolor\":\"white\",\"minorgridcolor\":\"white\",\"startlinecolor\":\"#2a3f5f\"},\"type\":\"carpet\"}],\"table\":[{\"cells\":{\"fill\":{\"color\":\"#EBF0F8\"},\"line\":{\"color\":\"white\"}},\"header\":{\"fill\":{\"color\":\"#C8D4E3\"},\"line\":{\"color\":\"white\"}},\"type\":\"table\"}],\"barpolar\":[{\"marker\":{\"line\":{\"color\":\"#E5ECF6\",\"width\":0.5},\"pattern\":{\"fillmode\":\"overlay\",\"size\":10,\"solidity\":0.2}},\"type\":\"barpolar\"}],\"pie\":[{\"automargin\":true,\"type\":\"pie\"}]},\"layout\":{\"autotypenumbers\":\"strict\",\"colorway\":[\"#636efa\",\"#EF553B\",\"#00cc96\",\"#ab63fa\",\"#FFA15A\",\"#19d3f3\",\"#FF6692\",\"#B6E880\",\"#FF97FF\",\"#FECB52\"],\"font\":{\"color\":\"#2a3f5f\"},\"hovermode\":\"closest\",\"hoverlabel\":{\"align\":\"left\"},\"paper_bgcolor\":\"white\",\"plot_bgcolor\":\"#E5ECF6\",\"polar\":{\"bgcolor\":\"#E5ECF6\",\"angularaxis\":{\"gridcolor\":\"white\",\"linecolor\":\"white\",\"ticks\":\"\"},\"radialaxis\":{\"gridcolor\":\"white\",\"linecolor\":\"white\",\"ticks\":\"\"}},\"ternary\":{\"bgcolor\":\"#E5ECF6\",\"aaxis\":{\"gridcolor\":\"white\",\"linecolor\":\"white\",\"ticks\":\"\"},\"baxis\":{\"gridcolor\":\"white\",\"linecolor\":\"white\",\"ticks\":\"\"},\"caxis\":{\"gridcolor\":\"white\",\"linecolor\":\"white\",\"ticks\":\"\"}},\"coloraxis\":{\"colorbar\":{\"outlinewidth\":0,\"ticks\":\"\"}},\"colorscale\":{\"sequential\":[[0.0,\"#0d0887\"],[0.1111111111111111,\"#46039f\"],[0.2222222222222222,\"#7201a8\"],[0.3333333333333333,\"#9c179e\"],[0.4444444444444444,\"#bd3786\"],[0.5555555555555556,\"#d8576b\"],[0.6666666666666666,\"#ed7953\"],[0.7777777777777778,\"#fb9f3a\"],[0.8888888888888888,\"#fdca26\"],[1.0,\"#f0f921\"]],\"sequentialminus\":[[0.0,\"#0d0887\"],[0.1111111111111111,\"#46039f\"],[0.2222222222222222,\"#7201a8\"],[0.3333333333333333,\"#9c179e\"],[0.4444444444444444,\"#bd3786\"],[0.5555555555555556,\"#d8576b\"],[0.6666666666666666,\"#ed7953\"],[0.7777777777777778,\"#fb9f3a\"],[0.8888888888888888,\"#fdca26\"],[1.0,\"#f0f921\"]],\"diverging\":[[0,\"#8e0152\"],[0.1,\"#c51b7d\"],[0.2,\"#de77ae\"],[0.3,\"#f1b6da\"],[0.4,\"#fde0ef\"],[0.5,\"#f7f7f7\"],[0.6,\"#e6f5d0\"],[0.7,\"#b8e186\"],[0.8,\"#7fbc41\"],[0.9,\"#4d9221\"],[1,\"#276419\"]]},\"xaxis\":{\"gridcolor\":\"white\",\"linecolor\":\"white\",\"ticks\":\"\",\"title\":{\"standoff\":15},\"zerolinecolor\":\"white\",\"automargin\":true,\"zerolinewidth\":2},\"yaxis\":{\"gridcolor\":\"white\",\"linecolor\":\"white\",\"ticks\":\"\",\"title\":{\"standoff\":15},\"zerolinecolor\":\"white\",\"automargin\":true,\"zerolinewidth\":2},\"scene\":{\"xaxis\":{\"backgroundcolor\":\"#E5ECF6\",\"gridcolor\":\"white\",\"linecolor\":\"white\",\"showbackground\":true,\"ticks\":\"\",\"zerolinecolor\":\"white\",\"gridwidth\":2},\"yaxis\":{\"backgroundcolor\":\"#E5ECF6\",\"gridcolor\":\"white\",\"linecolor\":\"white\",\"showbackground\":true,\"ticks\":\"\",\"zerolinecolor\":\"white\",\"gridwidth\":2},\"zaxis\":{\"backgroundcolor\":\"#E5ECF6\",\"gridcolor\":\"white\",\"linecolor\":\"white\",\"showbackground\":true,\"ticks\":\"\",\"zerolinecolor\":\"white\",\"gridwidth\":2}},\"shapedefaults\":{\"line\":{\"color\":\"#2a3f5f\"}},\"annotationdefaults\":{\"arrowcolor\":\"#2a3f5f\",\"arrowhead\":0,\"arrowwidth\":1},\"geo\":{\"bgcolor\":\"white\",\"landcolor\":\"#E5ECF6\",\"subunitcolor\":\"white\",\"showland\":true,\"showlakes\":true,\"lakecolor\":\"white\"},\"title\":{\"x\":0.05},\"mapbox\":{\"style\":\"light\"}}},\"xaxis\":{\"anchor\":\"y\",\"domain\":[0.0,1.0],\"title\":{\"text\":\"Company\"}},\"yaxis\":{\"anchor\":\"x\",\"domain\":[0.0,1.0],\"title\":{\"text\":\"Portfolio Exits\"}},\"coloraxis\":{\"colorbar\":{\"title\":{\"text\":\"Portfolio Exits\"}},\"colorscale\":[[0.0,\"#d7aefb\"],[0.1111111111111111,\"#f28b82\"],[0.2222222222222222,\"#fbbc04\"],[0.3333333333333333,\"#a7ffeb\"],[0.4444444444444444,\"#cbf0f8\"],[0.5555555555555556,\"#fbd6f5\"],[0.6666666666666666,\"#fdcfe8\"],[0.7777777777777778,\"#e6c9a8\"],[0.8888888888888888,\"#b5d2ff\"],[1.0,\"#cbaacb\"]]},\"legend\":{\"tracegroupgap\":0},\"title\":{\"text\":\"Top 5 Companies by Portfolio Exits\",\"font\":{\"color\":\"#e75480\"}},\"barmode\":\"relative\",\"plot_bgcolor\":\"#fff6fb\"},                        {\"responsive\": true}                    ).then(function(){\n",
              "                            \n",
              "var gd = document.getElementById('22e56f5c-77c2-4b87-99fc-b6fbae50f64c');\n",
              "var x = new MutationObserver(function (mutations, observer) {{\n",
              "        var display = window.getComputedStyle(gd).display;\n",
              "        if (!display || display === 'none') {{\n",
              "            console.log([gd, 'removed!']);\n",
              "            Plotly.purge(gd);\n",
              "            observer.disconnect();\n",
              "        }}\n",
              "}});\n",
              "\n",
              "// Listen for the removal of the full notebook cells\n",
              "var notebookContainer = gd.closest('#notebook-container');\n",
              "if (notebookContainer) {{\n",
              "    x.observe(notebookContainer, {childList: true});\n",
              "}}\n",
              "\n",
              "// Listen for the clearing of the current output cell\n",
              "var outputEl = gd.closest('.output');\n",
              "if (outputEl) {{\n",
              "    x.observe(outputEl, {childList: true});\n",
              "}}\n",
              "\n",
              "                        })                };                            </script>        </div>\n",
              "</body>\n",
              "</html>"
            ]
          },
          "metadata": {}
        },
        {
          "output_type": "display_data",
          "data": {
            "text/plain": [
              "<IPython.core.display.HTML object>"
            ],
            "text/html": [
              "\n",
              "    <link href=\"https://fonts.googleapis.com/css2?family=Love+Ya+Like+A+Sister&display=swap\" rel=\"stylesheet\">\n",
              "    <div style=\"font-family: 'Love Ya Like A Sister', cursive; font-size: 24px; color: #734f96; margin-top: 30px;\">\n",
              "        <b>10. Valuation and Total Raised Correlation</b>\n",
              "    </div>\n",
              "    "
            ]
          },
          "metadata": {}
        },
        {
          "output_type": "display_data",
          "data": {
            "text/plain": [
              "<IPython.core.display.HTML object>"
            ],
            "text/html": [
              "\n",
              "    <link href=\"https://fonts.googleapis.com/css2?family=Love+Ya+Like+A+Sister&display=swap\" rel=\"stylesheet\">\n",
              "    <div style=\"font-family: 'Love Ya Like A Sister', cursive; font-size: 18px; color: #8767a6;\">\n",
              "        The correlation between <b>Valuation</b> and <b>Total Raised</b> is <b>0.62</b>.\n",
              "    </div>\n",
              "    "
            ]
          },
          "metadata": {}
        },
        {
          "output_type": "display_data",
          "data": {
            "text/html": [
              "<html>\n",
              "<head><meta charset=\"utf-8\" /></head>\n",
              "<body>\n",
              "    <div>            <script src=\"https://cdnjs.cloudflare.com/ajax/libs/mathjax/2.7.5/MathJax.js?config=TeX-AMS-MML_SVG\"></script><script type=\"text/javascript\">if (window.MathJax && window.MathJax.Hub && window.MathJax.Hub.Config) {window.MathJax.Hub.Config({SVG: {font: \"STIX-Web\"}});}</script>                <script type=\"text/javascript\">window.PlotlyConfig = {MathJaxConfig: 'local'};</script>\n",
              "        <script charset=\"utf-8\" src=\"https://cdn.plot.ly/plotly-2.35.2.min.js\"></script>                <div id=\"ae49a182-ccc7-4e40-b68e-a3898a0b9993\" class=\"plotly-graph-div\" style=\"height:525px; width:100%;\"></div>            <script type=\"text/javascript\">                                    window.PLOTLYENV=window.PLOTLYENV || {};                                    if (document.getElementById(\"ae49a182-ccc7-4e40-b68e-a3898a0b9993\")) {                    Plotly.newPlot(                        \"ae49a182-ccc7-4e40-b68e-a3898a0b9993\",                        [{\"hovertemplate\":\"\\u003cb\\u003e%{hovertext}\\u003c\\u002fb\\u003e\\u003cbr\\u003e\\u003cbr\\u003eIndustry=Artificial Intelligence\\u003cbr\\u003eTotal Raised (B)=%{x}\\u003cbr\\u003eValuation ($B)=%{y}\\u003cextra\\u003e\\u003c\\u002fextra\\u003e\",\"hovertext\":[\"Bytedance\",\"Faire\",\"Scale AI\",\"Argo AI\",\"Gong\",\"Automation Anywhere\",\"DataRobot\",\"6Sense\",\"Pony.ai\",\"Horizon Robotics\",\"Icertis\",\"Anduril\",\"Dataminr\",\"MEGVII\",\"Indigo Ag\",\"Cloudwalk\",\"OpenAI\",\"Graphcore\",\"o9 Solutions\",\"Uniphore\",\"Uptake\",\"BloomReach\",\"Hesai Tech\",\"YITU Technology\",\"Moveworks\",\"SoundHound\",\"Avant\",\"Preferred Networks\",\"4Paradigm\",\"Hive\",\"XtalPi\",\"Black Sesame Technologies\",\"VerbIT\",\"Lightricks\",\"Harness\",\"H2O.ai\",\"Afiniti\",\"ASAPP\",\"NotCo\",\"Veriff\",\"SparkCognition\",\"DeepBlue Technology\",\"Unisound\",\"TUNGEE\",\"Aibee\",\"Vectra Networks\",\"Ada Support\",\"SmartMore\",\"BigPanda\",\"Mininglamp Technology\",\"Rebellion Defense\",\"Hailo\",\"OrCam Technologies\",\"BenevolentAI\",\"iCarbonX\",\"Momenta\",\"Globality\",\"Intellifusion\",\"Meero\",\"Standard\",\"Feedzai\",\"Groq\",\"Sift\",\"MOLOCO\",\"Shift Technology\",\"TensTorrent\",\"Tractable\",\"Amperity\",\"Unico\",\"Bluecore\",\"Snorkel AI\",\"Shield AI\",\"Augury\",\"Owkin\",\"Anyscale\",\"Haomao.AI\",\"Placer.ai\",\"Betterfly\"],\"legendgroup\":\"Artificial Intelligence\",\"marker\":{\"color\":\"#d7aefb\",\"symbol\":\"circle\"},\"mode\":\"markers\",\"name\":\"Artificial Intelligence\",\"showlegend\":true,\"x\":[7.44,1.096,null,0.5,0.583,0.84,1.089,0.424,1.093,2.2,0.3715,0.8285,1.044,1.358,1.177,0.7788200000000001,1.25,0.682,0.42,0.62663,0.317,0.422,0.71729,0.38512,0.305,0.2140999999999999,1.73,0.15219,0.93,0.085,0.7838099999999999,0.115,0.532,0.335,null,0.24612,0.3272,0.31257,0.3958399999999999,0.19232,0.2908799999999999,0.07928,0.33911,0.17105,0.17531,0.35248,0.1907299999999999,0.3,0.2925,1.003,0.15,0.217,0.0774,0.34555,0.199,1.283,0.3103,0.28785,0.2975,0.23562,0.2778,0.36255,0.15652,0.18757,0.31972,0.22103,0.1198299999999999,0.2173,0.23594,0.23812,0.135,0.34535,0.294,0.2541,0.1606,0.20391,0.16634,0.2025],\"xaxis\":\"x\",\"y\":[140.0,12.4,7.3,7.25,7.25,6.8,6.3,5.2,5.3,5.0,5.0,4.6,4.1,4.0,3.5,3.32,2.92,2.77,2.7,2.5,2.3,2.2,2.18,2.17,2.1,2.1,2.0,2.0,2.0,2.0,2.0,2.0,2.0,1.8,1.7,1.7,1.6,1.6,1.5,1.5,1.4,1.35,1.31,1.3,1.2,1.2,1.2,1.2,1.2,1.19,1.15,1.0,1.03,1.0,1.0,1.0,1.0,1.0,1.0,1.0,1.0,1.0,1.0,1.5,1.0,1.0,1.0,1.0,1.0,1.0,1.0,1.0,1.0,1.0,1.0,1.0,1.0,1.0],\"yaxis\":\"y\",\"type\":\"scattergl\"},{\"hovertemplate\":\"\\u003cb\\u003e%{hovertext}\\u003c\\u002fb\\u003e\\u003cbr\\u003e\\u003cbr\\u003eIndustry=Other\\u003cbr\\u003eTotal Raised (B)=%{x}\\u003cbr\\u003eValuation ($B)=%{y}\\u003cextra\\u003e\\u003c\\u002fextra\\u003e\",\"hovertext\":[\"SpaceX\",\"Epic Games\",\"Thrasio\",\"HEYTEA\",\"Northvolt\",\"Black Unicorn Factory\",\"Howden Group Holdings\",\"Relativity Space\",\"Farmers Business Network\",\"Redwood Materials\",\"Sila Nanotechnologies\",\"Dadi Cinema\",\"Wildlife Studios\",\"Vista Global\",\"ABL Space Systems\",\"Voodoo\",\"Skydance Media\",\"Bowery Farming\",\"NuCom Group\",\"Accelerant\",\"Improbable\",\"OCSiAl\",\"Apeel Sciences\",\"Diamond Foundry\",\"Trader Interactive\",\"Wenheyou\",\"Uplight\",\"Solugen\",\"StoreDot\",\"Five Star Business Finance\",\"Epirus\",\"GPclub\",\"You & Mr Jones\",\"Manner\",\"OVO Energy\",\"Nexii\",\"Spiber\",\"Cava Group\",\"Inari\",\"LifeMiles\",\"OVH\",\"Rubicon\",\"Red Ventures\",\"Revolution Precrafted\",\"Ynsect\",\"SITECH DEV\",\"Emerging Markets Property Group\",\"Playco\",\"Boom Supersonic\",\"Axiom Space\",\"Sentry\",\"Firefly Aerospace\",\"Printful\",\"Mensa Brands\",\"Nature's Fynd\",\"InFarm\"],\"legendgroup\":\"Other\",\"marker\":{\"color\":\"#f28b82\",\"symbol\":\"circle\"},\"mode\":\"markers\",\"name\":\"Other\",\"showlegend\":true,\"x\":[6.874,4.377,3.396,0.57923,6.162,0.645,0.1872599999999999,1.385,0.7396,0.792,0.93083,0.154,0.18,0.41845,0.4835,0.5699500000000001,2.075,0.6309,null,0.19,0.60393,0.005,0.64,0.3,0.265,0.09244,0.278,0.44307,0.206,0.4597799999999999,0.28739,0.06616,1.013,0.01154,0.256,0.10197,0.91162,0.67835,0.397,0.3437,1.243,0.2857099999999999,1.05,0.0154,0.3933999999999999,null,0.279,0.1,0.24761,0.23,0.1265,0.10025,0.12655,0.22858,0.50848,0.6015900000000001],\"xaxis\":\"x\",\"y\":[100.3,42.0,10.0,9.28,9.08,6.1,5.0,4.2,4.0,3.7,3.3,3.24,3.0,2.5,2.4,2.31,2.3,2.3,2.2,2.19,2.0,2.0,2.0,1.8,1.63,1.55,1.5,1.5,1.5,1.4,1.35,1.32,1.3,1.3,1.28,1.23,1.22,1.3,1.2,1.15,1.1,1.07,1.0,1.0,1.0,1.0,1.0,1.0,1.0,1.0,1.0,1.1,1.0,1.0,1.0,1.0],\"yaxis\":\"y\",\"type\":\"scattergl\"},{\"hovertemplate\":\"\\u003cb\\u003e%{hovertext}\\u003c\\u002fb\\u003e\\u003cbr\\u003e\\u003cbr\\u003eIndustry=Fintech\\u003cbr\\u003eTotal Raised (B)=%{x}\\u003cbr\\u003eValuation ($B)=%{y}\\u003cextra\\u003e\\u003c\\u002fextra\\u003e\",\"hovertext\":[\"Stripe\",\"Klarna\",\"Checkout.com\",\"Revolut\",\"Chime\",\"Ripple\",\"Plaid\",\"Brex\",\"Bolt\",\"Alchemy\",\"Gusto\",\"N26\",\"Rapyd\",\"Tipalti\",\"Fireblocks\",\"Ramp\",\"Dapper Labs\",\"Razorpay\",\"Toss\",\"Carta\",\"Gemini\",\"National Stock Exchange of India\",\"Mollie\",\"Upgrade\",\"Better.com\",\"iCapital Network\",\"Pine Labs\",\"Trade Republic\",\"Blockchain.com\",\"C6 Bank\",\"Deel\",\"Airwallex\",\"Mambu\",\"ZEPZ\",\"OakNorth Bank\",\"Qonto\",\"Creditas\",\"Pleo\",\"Monzo\",\"Chainalysis\",\"BitPanda\",\"CRED\",\"Greensill\",\"Next Insurance\",\"Melio\",\"FalconX\",\"Digit Insurance\",\"Celsius Network\",\"ChargeBee Technologies\",\"MoonPay\",\"Upstox\",\"BlockDaemon\",\"Cedar\",\"Blockstream\",\"ConsenSys\",\"SpotOn\",\"HighRadius\",\"BGL Group\",\"Circle\",\"BlockFi\",\"TradingView\",\"Groww\",\"Anchorage Digital\",\"Inxeption\",\"Flutterwave\",\"Kraken\",\"Ovo\",\"BharatPe\",\"DriveWealth\",\"Tradeshift\",\"Varo Bank\",\"Uala\",\"Cgtz\",\"PolicyBazaar\",\"Paxos\",\"Trumid\",\"Bought By Many\",\"Greenlight\",\"MoMo\",\"Current\",\"Bitso\",\"Addepar\",\"CloudWalk\",\"ReCharge\",\"GoCardless\",\"Unqork\",\"Earnix\",\"Clearco\",\"Ethos\",\"PayFit\",\"Pipe\",\"Bunq\",\"Clip\",\"Pagaya\",\"Divvy Homes\",\"Opay\",\"Modern Treasury\",\"Mynt\",\"Zilch\",\"Starling Bank\",\"MX Technologies\",\"CoinSwitch Kuber\",\"CFGI\",\"Wave\",\"ZenBusiness\",\"Spotter\",\"Alan\",\"wefox\",\"solarisBank\",\"Extend\",\"SmartHR\",\"Mercury\",\"HomeLight\",\"Wayflyer\",\"Baiwang\",\"Collective Health\",\"Snapdocs\",\"Chipper Cash\",\"TaxBit\",\"Pacaso\",\"Ascend Money\",\"candy.com\",\"CoinList\",\"Spendesk\",\"Zeta\",\"M1 Finance\",\"Deliverect\",\"Symphony\",\"Stash\",\"Scalable Capital\",\"Neon\",\"At-Bay\",\"Alloy\",\"Signifyd\",\"Konfio\",\"Betterment\",\"Lukka\",\"iTrustCapital\",\"CoinTracker\",\"Huisuanzhang\",\"Marshmallow\",\"CaptivateIQ\",\"Public\",\"Pilot.com\",\"FloQast\",\"DailyPay\",\"AgentSync\",\"Phantom\",\"Guideline\",\"Happy Money\",\"TELD\",\"Ivalua\",\"Zego\",\"Sunbit\",\"CoinDCX\",\"Acko General Insurance\",\"The Bank of London\",\"Fundbox\",\"Radius Payment Solutions\",\"JimuBox\",\"Tresata\",\"Liquid\",\"SumUp\",\"Ibotta\",\"C2FO\",\"Numbrs\",\"EBANX\",\"Qualia\",\"PPRO\",\"WeBull\",\"Sidecar Health\",\"Hyperchain\",\"Clearcover\",\"Injective Protocol\",\"SaltPay\",\"Forte Labs\",\"Amount\",\"Vise\",\"SmartAsset\",\"MobileCoin\",\"Lunar\",\"Remote\",\"Xiaobing\",\"Carson Group\",\"Interos\",\"Human Interest\",\"Freshbooks\",\"Dunamu\",\"Orchard\",\"Xendit\",\"TrueLayer\",\"Ajaib\",\"Masterworks\",\"Swile\",\"MobiKwik\",\"Zopa\",\"Wrapbook\",\"Slice\",\"Thought Machine\",\"Clara\",\"Lydia\",\"CAIS\",\"Esusu\",\"Payhawk\",\"Scalapay\"],\"legendgroup\":\"Fintech\",\"marker\":{\"color\":\"#fbbc04\",\"symbol\":\"circle\"},\"mode\":\"markers\",\"name\":\"Fintech\",\"showlegend\":true,\"x\":[2.901,3.472,1.83,1.716,2.599,0.2939,0.7348,1.49,0.963,0.545,0.69112,1.722,0.775,0.556,1.039,0.827,0.6718999999999999,0.7416200000000001,0.8442000000000001,1.158,0.4,0.1495,0.93432,0.5625,0.0014199999999999,0.72922,1.077,0.98688,0.4905,0.75574,0.62515,0.802,0.44551,0.692,0.99052,0.70339,0.8674400000000001,0.4288,null,0.36672,0.49743,0.6136,1.705,0.881,0.504,0.277,0.42416,0.7787999999999999,0.4686499999999999,0.555,0.054,0.40154,0.35081,0.311,0.2825,0.6,0.475,0.9,0.7125,0.51275,0.33937,0.3998899999999999,0.487,0.4865,0.4747099999999999,0.01857,0.116,0.70225,0.53771,1.103,0.99133,0.608,0.53586,0.63378,null,0.71173,0.4772699999999999,0.5565,0.4337,0.38341,0.31466,0.51393,0.345,null,0.52932,0.36717,0.0985,0.93501,null,0.49724,0.366,0.228,0.39736,0.41725,1.127,0.57,0.13312,0.475,0.3392,0.90562,0.45413,0.3,0.01858,null,0.27575,0.22065,0.36317,0.92431,0.40246,0.22281,0.22234,0.15093,0.5396,0.3362,0.22435,0.714,0.25,0.3026,0.23575,1.467,0.15,0.1,0.1692,0.30034,0.303,0.32817,0.23589,0.461,0.43925,0.3142799999999999,0.72042,0.292,0.1559199999999999,0.4112,0.82459,0.435,0.2073,0.125,0.10162,0.22734,0.1162,0.15912,0.2638999999999999,null,0.1815,0.5175,0.1110999999999999,0.1185,0.339,0.4446299999999999,0.19324,0.133,0.2555,0.1976699999999999,0.1094,0.428,0.09,0.5535,0.20011,0.131,0.05193,0.158,1.365,0.09591,0.5396799999999999,0.1276,0.46,0.20018,0.37,0.23031,0.163,0.249,0.307,0.0130999999999999,0.15652,0.06408,0.1875,0.12655,0.15762,0.10803,0.37129,0.2173,null,null,0.13235,0.33502,0.20375,0.07244,null,0.2150099999999999,0.2718,0.24522,0.11,0.32843,0.24896,0.6719299999999999,0.1306,0.30373,0.40205,0.1085,0.26033,0.283,0.14443,0.2365,0.7],\"xaxis\":\"x\",\"y\":[95.0,45.6,40.0,33.0,25.0,15.0,13.4,12.3,11.0,10.2,10.0,9.23,8.75,8.3,8.0,8.0,7.6,7.5,7.4,7.4,7.1,6.5,6.5,6.28,6.0,6.0,6.0,5.3,5.2,5.05,5.5,5.5,5.5,5.0,5.0,5.0,4.8,4.7,4.5,4.2,4.11,4.01,4.0,4.0,4.0,3.75,3.5,3.5,3.5,3.4,3.4,3.25,3.2,3.2,3.2,3.15,3.1,3.0,3.0,3.0,3.0,3.0,3.0,3.0,3.0,2.92,2.9,2.85,2.85,2.7,2.5,2.45,2.41,2.4,2.4,2.4,2.35,2.3,2.27,2.2,2.2,2.17,2.15,2.1,2.1,2.0,2.0,2.0,2.7,2.1,2.0,2.0,2.0,2.0,2.0,2.0,2.0,2.0,2.0,1.95,1.9,1.9,1.85,1.7,1.7,1.7,1.68,1.65,1.65,1.6,1.6,1.6,1.6,1.6,1.55,1.5,1.5,2.0,1.5,1.5,1.5,1.5,1.5,1.5,1.45,1.45,1.4,1.4,1.4,1.4,1.38,1.35,1.35,1.34,1.3,1.3,1.3,1.3,1.3,1.28,1.25,1.25,1.2,1.2,1.2,1.2,1.2,1.2,1.15,1.15,1.12,1.1,1.1,1.1,1.1,1.1,1.1,1.1,1.07,1.0,1.0,1.0,1.0,1.0,1.0,1.0,1.0,1.0,1.0,1.0,1.0,1.0,1.0,1.0,1.0,1.0,1.0,1.0,1.0,1.0,1.0,1.0,1.0,1.0,1.0,1.0,1.0,1.0,1.0,1.0,1.0,1.0,1.0,1.0,1.0,1.0,1.0,1.0,1.0,1.0,1.0,1.0,1.0,1.0,1.0],\"yaxis\":\"y\",\"type\":\"scattergl\"},{\"hovertemplate\":\"\\u003cb\\u003e%{hovertext}\\u003c\\u002fb\\u003e\\u003cbr\\u003e\\u003cbr\\u003eIndustry=Internet Software & Services\\u003cbr\\u003eTotal Raised (B)=%{x}\\u003cbr\\u003eValuation ($B)=%{y}\\u003cextra\\u003e\\u003c\\u002fextra\\u003e\",\"hovertext\":[\"Canva\",\"Miro\",\"Grammarly\",\"GoodLeap\",\"Airtable\",\"Figma\",\"reddit\",\"Talkdesk\",\"Notion Labs\",\"OutSystems\",\"ServiceTitan\",\"Klaviyo\",\"Dream11\",\"Hopin\",\"Discord\",\"Rippling\",\"Personio\",\"Benchling\",\"Vice Media\",\"Workato\",\"Postman\",\"OneTrust\",\"Meesho\",\"Dataiku\",\"Checkr\",\"Outreach\",\"BetterUp\",\"ThoughtSpot\",\"Globalization Partners\",\"Patreon\",\"PointClickCare\",\"Zapier\",\"BrowserStack\",\"Olive\",\"ClickUp\",\"Aurora Solar\",\"Guild Education\",\"Papaya Global\",\"ShareChat\",\"Relativity\",\"Rec Room\",\"Commure\",\"Tekion\",\"Highspot\",\"Handshake\",\"Ironclad\",\"DailyHunt\",\"Calendly\",\"ActiveCampaign\",\"Lucid Software\",\"Contentful\",\"LaunchDarkly\",\"Seismic\",\"Grafana Labs\",\"Sky Mavis\",\"Podium\",\"Lattice\",\"Workrise\",\"ContentSquare\",\"Nextiva\",\"Sourcegraph\",\"Pendo\",\"Plume\",\"Xinchao Media\",\"Side\",\"Vercel\",\"Zetwerk\",\"Mobile Premier League\",\"Jobandtalent\",\"Odoo\",\"Algolia\",\"Pattern\",\"Gympass\",\"Dialpad\",\"Eightfold.ai\",\"Webflow\",\"Medable\",\"Quora\",\"Kujiale\",\"Kajabi\",\"Beisen\",\"Iterable\",\"MURAL\",\"Aviatrix\",\"Aiven\",\"Everlaw\",\"Netlify\",\"LTK\",\"Cloudinary\",\"Rokt\",\"InVision\",\"Retool\",\"Automattic\",\"FullStory\",\"CircleCI\",\"Productboard\",\"Hibob\",\"Zhubajie\",\"Clari\",\"Clio\",\"SafetyCulture\",\"Loom\",\"Strava\",\"Zenoti\",\"Impact\",\"SmartRecruiters\",\"Culture Amp\",\"1047 Games\",\"Andela\",\"Built\",\"Lusha\",\"Paradox\",\"Airbyte\",\"Temporal\",\"Ouyeel\",\"Justworks\",\"Figment\",\"Envoy\",\"Deezer\",\"Kong\",\"Epidemic Sound\",\"Yotpo\",\"Coda\",\"Phenom People\",\"GupShup\",\"VideoAmp\",\"Flipboard\",\"DistroKid\",\"Domestika\",\"Intercom\",\"WTOIP\",\"Kuaikan Manhua\",\"Honor Technology\",\"Mythical Games\",\"Tackle.io\",\"Flipdish\",\"Insider\",\"Workhuman\",\"Tealium\",\"Alation\",\"MindTickle\",\"Offchain Labs\",\"Gem\",\"SeekOut\",\"Helium Systems\",\"IRL\",\"Qingting FM\",\"G2\",\"People.ai\",\"apna\",\"Karat\",\"Enpal\",\"Turing\",\"Nxin\",\"Mixpanel\",\"Vox Media\",\"58 Daojia\",\"SMS Assist\",\"MediaMath\",\"VTS\",\"News Break\",\"Splashtop\",\"DriveNets\",\"Newsela\",\"Cameo\",\"Mux\",\"XForcePlus\",\"HoneyBook\",\"Aircall\",\"Morning Consult\",\"Visier\",\"Pantheon Systems\",\"GO1\",\"Assembly\",\"PandaDoc\",\"Solo.io\",\"Moka\",\"Tezign\",\"Vagaro\",\"OpenWeb\",\"PLACE\",\"NoBroker\",\"Lessen\",\"YipitData\",\"SnapLogic\",\"Darwinbox\",\"Fever Labs\",\"Watershed\",\"Axelar\",\"Hasura\",\"Timescale\",\"Veev\"],\"legendgroup\":\"Internet Software & Services\",\"marker\":{\"color\":\"#a7ffeb\",\"symbol\":\"circle\"},\"mode\":\"markers\",\"name\":\"Internet Software & Services\",\"showlegend\":true,\"x\":[0.57126,0.475,0.4,1.8,1.353,0.3335,1.326,0.5047699999999999,0.342,0.57201,1.099,0.6785,1.165,0.6718999999999999,0.9793,0.44712,0.52483,0.412,1.555,0.415,0.433,0.93729,1.061,0.6466000000000001,0.559,0.48978,0.5669,0.6737000000000001,0.3535,0.4121,0.08688,0.00258,0.25,0.8588,0.535,0.5204,0.3765,0.438,1.277,0.125,0.2948199999999999,0.7438899999999999,0.4,0.65285,0.4305,0.33112,0.8686699999999999,0.35055,0.36,0.166,0.331,0.3303399999999999,0.4265,0.33023,0.161,0.42222,0.32932,0.7525,0.812,0.2075,0.223,0.35917,0.71293,1.33,0.26282,0.313,0.65667,0.3777,1.072,0.319,0.3343399999999999,0.277,0.52916,0.42596,0.397,0.21492,0.53375,0.286,0.312,0.55,0.42118,0.3424,0.19227,0.34,0.20993,0.31461,0.21187,0.315,null,0.4885,0.3507099999999999,0.01858,0.8616900000000001,0.1702,0.3125,0.2613,0.265,0.4296,0.496,0.41579,0.22281,0.19848,0.1798499999999999,0.34168,0.27415,0.21455,0.2583,0.1265,0.37461,0.26812,0.245,0.25346,0.1813499999999999,0.12175,0.43372,0.143,0.16384,0.2035,0.4818,0.1705,0.47614,0.436,0.49521,0.16302,0.16302,0.4371,0.2105,null,0.2,0.24025,0.30698,0.595,0.62212,0.26,0.1559,0.15634,0.1662,0.0113,0.2638999999999999,0.192,0.2813,0.1237,0.146,0.1881999999999999,0.251,0.197,0.1636999999999999,0.26507,0.217,0.1925,0.1515999999999999,0.75037,0.13605,0.05305,0.28452,0.32465,0.3,0.255,0.6131599999999999,0.32718,0.14023,0.1115,0.325,0.17072,0.16571,0.17392,0.2,0.48034,0.22563,0.091,0.2165,null,0.27325,null,0.2718,0.17185,0.14227,0.11,0.0645,0.213,0.1,0.3713999999999999,0.205,0.49205,0.39786,0.1067,0.31543,0.07,0.06375,0.13651,0.18106,0.6045],\"xaxis\":\"x\",\"y\":[40.0,17.5,13.0,12.0,11.7,10.0,10.0,10.0,10.0,9.5,9.5,9.2,8.0,7.75,7.0,6.5,6.3,6.1,5.7,5.7,5.6,5.1,4.9,4.6,4.6,4.4,4.7,4.2,4.2,4.0,4.0,4.0,4.0,4.0,4.0,4.0,3.75,3.7,3.7,3.6,3.5,3.5,3.5,3.5,3.5,3.2,3.1,3.0,3.0,3.0,3.0,3.0,3.0,3.0,3.0,3.0,3.0,2.9,2.8,2.7,2.62,2.6,2.6,2.0,2.5,2.5,2.5,2.45,2.35,2.3,2.25,2.25,2.2,2.2,2.1,2.1,2.1,2.0,2.0,2.0,2.0,2.0,2.0,2.0,2.0,2.0,2.0,2.0,2.0,1.95,1.9,1.85,1.8,1.8,1.7,1.7,1.65,1.61,2.6,1.6,1.6,1.53,1.5,1.5,1.5,1.5,1.5,1.5,1.5,1.5,1.5,1.5,1.5,1.5,1.45,1.43,1.4,1.4,1.4,1.4,1.4,1.4,1.4,1.4,1.4,1.4,1.32,1.3,1.3,1.28,1.27,1.25,1.25,1.25,1.25,1.25,1.22,1.2,1.2,1.2,1.2,1.2,1.2,1.2,1.2,1.17,1.1,1.1,1.1,1.1,1.1,1.1,1.1,1.08,1.05,1.0,1.0,1.0,1.0,1.0,1.0,1.0,1.0,1.0,1.0,1.0,1.0,1.1,1.0,1.0,1.0,1.0,1.0,1.0,1.0,1.0,1.0,1.0,1.0,1.0,1.0,1.0,1.0,1.0,1.0,1.0,1.0,1.0,1.0,1.0,1.0,1.0],\"yaxis\":\"y\",\"type\":\"scattergl\"},{\"hovertemplate\":\"\\u003cb\\u003e%{hovertext}\\u003c\\u002fb\\u003e\\u003cbr\\u003e\\u003cbr\\u003eIndustry=Supply Chain, Logistics, & Delivery\\u003cbr\\u003eTotal Raised (B)=%{x}\\u003cbr\\u003eValuation ($B)=%{y}\\u003cextra\\u003e\\u003c\\u002fextra\\u003e\",\"hovertext\":[\"Instacart\",\"J&T Express\",\"Swiggy\",\"Lalamove\",\"Flexport\",\"RELEX Solutions\",\"Rappi\",\"Weee!\",\"Kurly\",\"Udaan\",\"Delhivery\",\"Zipline\",\"Convoy\",\"Project44\",\"KeepTruckin\",\"G7 Networks\",\"ISN\",\"Loggi\",\"Deliverr\",\"ezCater\",\"YunQuNa\",\"ElasticRun\",\"Veho\",\"Juma Peisong\",\"Hive Box\",\"Flock Freight\",\"Loadsmart\",\"Route\",\"Yiguo\",\"Forto\",\"Rohlik\",\"Xpressbees\",\"Yimidida\",\"STORD\",\"Sennder\",\"UISEE Technology\",\"56PINGTAI\",\"Rivigo\",\"YH Global\",\"Kuaigou Dache\",\"FlashEx\",\"iFood\",\"REEF Technology\",\"Gousto\",\"Flash Express\",\"Skydio\",\"Shippo\",\"Bringg\",\"ShipBob\",\"Blinkit\",\"Kitopi\",\"BlackBuck\",\"Keenon Robotics\",\"CargoX\",\"Fabric\",\"Assent Compliance\",\"Scandit\"],\"legendgroup\":\"Supply Chain, Logistics, & Delivery\",\"marker\":{\"color\":\"#cbf0f8\",\"symbol\":\"circle\"},\"mode\":\"markers\",\"name\":\"Supply Chain, Logistics, & Delivery\",\"showlegend\":true,\"x\":[2.686,4.653,3.571,2.475,2.237,0.7923600000000001,2.248,0.8362999999999999,0.76986,1.447,1.361,0.48716,0.6754600000000001,0.9288,0.4173,0.71,null,0.48432,0.4901,0.42016,0.34237,0.43211,0.29928,0.28138,1.24,0.3997,0.3452,0.247,0.8,0.61583,0.3,0.4729399999999999,0.55361,0.20104,0.3100199999999999,0.1543,0.18782,0.31989,0.18205,0.65,0.339,0.59186,0.43361,0.361,0.36,0.344,0.15403,0.1845,0.3311,0.57382,0.5022,0.33088,0.22879,0.37793,null,0.50164,0.273],\"xaxis\":\"x\",\"y\":[39.0,20.0,10.7,10.0,8.0,5.7,5.25,4.1,3.3,3.1,3.0,2.8,2.75,2.62,2.3,2.2,2.0,2.0,2.0,1.6,1.5,1.5,1.5,1.45,1.4,1.3,1.3,1.25,1.2,1.2,1.2,1.2,1.17,1.13,1.1,1.08,1.08,1.07,1.0,1.0,1.0,1.0,1.0,1.7,1.0,1.0,1.0,1.0,1.0,1.01,1.0,1.0,1.0,1.0,1.0,1.0,1.0],\"yaxis\":\"y\",\"type\":\"scattergl\"},{\"hovertemplate\":\"\\u003cb\\u003e%{hovertext}\\u003c\\u002fb\\u003e\\u003cbr\\u003e\\u003cbr\\u003eIndustry=Data Management & Analytics\\u003cbr\\u003eTotal Raised (B)=%{x}\\u003cbr\\u003eValuation ($B)=%{y}\\u003cextra\\u003e\\u003c\\u002fextra\\u003e\",\"hovertext\":[\"Databricks\",\"Celonis\",\"FiveTran\",\"Collibra\",\"SambaNova Systems\",\"Cockroach Labs\",\"dbt Labs\",\"Rubrik\",\"Cohesity\",\"VAST Data\",\"Applied Intuition\",\"OwnBackup\",\"Starburst\",\"JumpCloud\",\"Neo4j\",\"Druva\",\"Redis Labs\",\"ClickHouse\",\"Dremio\",\"Reltio\",\"Jusfoun Big Data\",\"Cognite\",\"Mu Sigma\",\"DT Dream\",\"Matillion\",\"Devo\",\"Firebolt\",\"YugaByte\",\"Qumulo\",\"Copado\",\"CloudBees\",\"Sisense\",\"Nexthink\",\"Instabase\",\"Quantum Metric\",\"Axtria\",\"Chronosphere\",\"Iodine Software\",\"Fractal Analytics\",\"Minio\",\"Dune Analytics\"],\"legendgroup\":\"Data Management & Analytics\",\"marker\":{\"color\":\"#fbd6f5\",\"symbol\":\"circle\"},\"mode\":\"markers\",\"name\":\"Data Management & Analytics\",\"showlegend\":true,\"x\":[3.497,1.368,0.72802,0.5959,1.132,0.63285,0.4159,0.553,0.66,0.263,0.34,0.50725,null,0.41845,0.5811000000000001,0.475,0.355,0.3,0.405,0.2405,0.13713,0.3468,0.208,0.26035,0.31032,0.381,0.264,0.29,0.3455,0.27605,0.36826,0.278,0.3298999999999999,0.13194,0.251,0.20632,0.25534,null,0.688,0.1263,0.07942],\"xaxis\":\"x\",\"y\":[38.0,11.0,5.6,5.25,5.0,5.0,4.2,4.0,3.7,3.7,3.6,3.35,3.35,2.62,2.15,2.0,2.0,2.0,2.0,1.7,1.62,1.5,1.5,1.5,1.5,1.5,1.4,1.3,1.2,1.2,1.15,1.1,1.1,1.05,1.0,1.0,1.0,1.0,1.0,1.0,1.0],\"yaxis\":\"y\",\"type\":\"scattergl\"},{\"hovertemplate\":\"\\u003cb\\u003e%{hovertext}\\u003c\\u002fb\\u003e\\u003cbr\\u003e\\u003cbr\\u003eIndustry=Sequoia Capital, Thoma Bravo, Softbank\\u003cbr\\u003eTotal Raised (B)=%{x}\\u003cbr\\u003eValuation ($B)=%{y}\\u003cextra\\u003e\\u003c\\u002fextra\\u003e\",\"hovertext\":[\"FTX\"],\"legendgroup\":\"Sequoia Capital, Thoma Bravo, Softbank\",\"marker\":{\"color\":\"#fdcfe8\",\"symbol\":\"circle\"},\"mode\":\"markers\",\"name\":\"Sequoia Capital, Thoma Bravo, Softbank\",\"showlegend\":true,\"x\":[1.829],\"xaxis\":\"x\",\"y\":[32.0],\"yaxis\":\"y\",\"type\":\"scattergl\"},{\"hovertemplate\":\"\\u003cb\\u003e%{hovertext}\\u003c\\u002fb\\u003e\\u003cbr\\u003e\\u003cbr\\u003eIndustry=E-Commerce & Direct-To-Consumer\\u003cbr\\u003eTotal Raised (B)=%{x}\\u003cbr\\u003eValuation ($B)=%{y}\\u003cextra\\u003e\\u003c\\u002fextra\\u003e\",\"hovertext\":[\"Fanatics\",\"Xiaohongshu\",\"SHEIN\",\"goPuff\",\"OpenSea\",\"Chehaoduo\",\"Kavak\",\"Xingsheng Selected\",\"Getir\",\"Ziroom\",\"Lianjia\",\"Back Market\",\"QuintoAndar\",\"OfBusiness\",\"Vinted\",\"Sorare\",\"Miaoshou Doctor\",\"SSENSE\",\"Houzz\",\"Vuori\",\"StockX\",\"Dutchie\",\"GOAT\",\"Whoop\",\"Mirakl\",\"Cars24\",\"Thumbtack\",\"Skims\",\"Nuvemshop\",\"SouChe Holdings\",\"Gorillas\",\"Loft\",\"Flink\",\"ManoMano\",\"Lenskart\",\"Infra.Market\",\"WEMAKEPRICE\",\"Ankorstore\",\"MUSINSA\",\"FirstCry\",\"Urban Company\",\"Tubatu.com\",\"HuiMin\",\"Xingyun Group\",\"Misfits Market\",\"Akulaku\",\"eDaili\",\"Spinny\",\"Vestiaire Collective\",\"Carsome\",\"DealShare\",\"Tonal\",\"Carzone\",\"Mofang Living\",\"JOLLY Information Technology\",\"Whatnot\",\"Olist\",\"Il Makiage\",\"Fabric\",\"Yipin Shengxian\",\"Gymshark\",\"Koudai\",\"Away\",\"Rebel Foods\",\"Veepee\",\"Motorway\",\"RIDI\",\"Grove Collaborative\",\"Everly Health\",\"Savage X Fenty\",\"Oda\",\"CarDekho\",\"MyGlamm\",\"Jokr\",\"Merama\",\"LivSpace\",\"AppDirect\",\"Juanpi\",\"Pharmapacks\",\"Daily Harvest\",\"GlobalBees\",\"Mamaearth\",\"Jiuxian\",\"Snapdeal\",\"TechStyle Fashion Group\",\"BeiBei\",\"Lamabang\",\"Mia.com\",\"Womai\",\"Zhuan Zhuan\",\"Zhaogang\",\"DianRong\",\"Hosjoy\",\"KK Group\",\"Hotmart\",\"Newlink Group\",\"Zwift\",\"MadeiraMadeira\",\"Fetch Rewards\",\"The Zebra\",\"Gelato\",\"Berlin Brands Group\",\"GrubMarket\",\"Licious\",\"Heyday\",\"Pet Circle\",\"SellerX\"],\"legendgroup\":\"E-Commerce & Direct-To-Consumer\",\"marker\":{\"color\":\"#e6c9a8\",\"symbol\":\"circle\"},\"mode\":\"markers\",\"name\":\"E-Commerce & Direct-To-Consumer\",\"showlegend\":true,\"x\":[4.19,0.9175,0.55336,3.397,0.42512,4.304,1.188,5.04,1.172,2.121,1.701,1.021,0.75574,0.8555499999999999,0.56223,0.7370800000000001,0.97114,0.4159,0.6136,0.802,0.52,0.603,0.49162,0.40438,0.948,1.296,0.69885,0.394,0.6283,1.282,1.335,0.788,1.042,0.70873,0.6759,0.3813999999999999,0.4866499999999999,0.42089,0.28636,0.831,0.44124,0.2164799999999999,0.51963,0.9535,0.5265,0.455,0.001,0.5159,0.6644500000000001,0.59735,0.39152,0.4313999999999999,0.94649,0.71,0.10012,0.22415,0.31875,0.029,0.29258,0.65849,0.3,0.362,0.1810999999999999,0.49521,0.202,0.27459,0.33123,0.4530099999999999,0.23055,0.31,0.20196,0.5361,0.28388,0.43,0.445,0.37169,0.55836,0.13605,0.476,0.12098,0.2915,0.1533,0.24921,1.776,0.3,0.2244,0.12,0.2316,0.32,0.99,0.36125,0.649,0.13853,0.6144400000000001,0.1303,0.9784,0.597,0.3045799999999999,0.34151,0.25508,0.29361,0.93871,0.39606,0.338,0.00662,0.12635,0.7667],\"xaxis\":\"x\",\"y\":[27.0,20.0,15.0,15.0,13.3,9.0,8.7,8.0,7.5,6.6,5.77,5.7,5.1,5.0,4.53,4.3,4.25,4.15,4.0,4.0,3.8,3.75,3.7,3.6,3.5,3.3,3.2,3.2,3.1,3.0,3.1,2.9,2.85,2.6,2.5,2.5,2.34,2.26,2.2,2.1,2.1,2.0,2.0,2.0,2.0,2.0,1.9,1.75,1.7,1.7,1.7,1.6,1.52,1.5,1.5,1.5,1.5,1.5,1.5,1.49,1.45,1.4,1.4,1.4,1.38,1.33,1.33,1.32,1.3,1.2,1.2,1.2,1.2,1.2,1.2,1.2,1.1,1.1,1.1,1.1,1.1,1.07,1.05,1.0,1.0,1.0,1.0,1.0,1.0,1.0,1.0,1.0,1.0,3.0,1.0,1.0,1.0,1.0,1.0,1.0,1.0,1.0,1.2,1.0,1.0,1.0,1.0],\"yaxis\":\"y\",\"type\":\"scattergl\"},{\"hovertemplate\":\"\\u003cb\\u003e%{hovertext}\\u003c\\u002fb\\u003e\\u003cbr\\u003e\\u003cbr\\u003eIndustry=Edtech\\u003cbr\\u003eTotal Raised (B)=%{x}\\u003cbr\\u003eValuation ($B)=%{y}\\u003cextra\\u003e\\u003c\\u002fextra\\u003e\",\"hovertext\":[\"BYJU's\",\"Yuanfudao\",\"VIPKid\",\"Articulate\",\"Course Hero\",\"GoStudent\",\"Unacademy\",\"Eruditus Executive Education\",\"Zuoyebang\",\"ApplyBoard\",\"Age of Learning\",\"Outschool\",\"MasterClass\",\"Fenbi Education\",\"Changingedu\",\"Degreed\",\"Pipa Coding\",\"UpGrad\",\"Luoji Siwei\",\"LEAD School\",\"HuJiang\",\"iTutorGroup\",\"Huike Group\",\"KnowBox\",\"Quizlet\",\"Yunxuetang\",\"JoyTunes\",\"Vedantu\"],\"legendgroup\":\"Edtech\",\"marker\":{\"color\":\"#b5d2ff\",\"symbol\":\"circle\"},\"mode\":\"markers\",\"name\":\"Edtech\",\"showlegend\":true,\"x\":[5.183,4.044,0.97549,0.3765,0.47568,0.68479,0.87573,0.59346,3.435,0.47991,0.4815,0.24002,0.4614,0.39,0.188,0.38592,0.26773,0.36123,0.18815,0.166,0.22329,0.315,0.063,0.30616,0.062,0.3972799999999999,0.0915,0.30838],\"xaxis\":\"x\",\"y\":[21.0,15.5,4.5,3.75,3.6,3.5,3.44,3.2,3.0,3.0,3.0,3.0,2.75,1.95,1.5,1.4,1.2,1.2,1.18,1.1,1.0,1.0,1.0,1.0,1.0,1.0,1.0,1.0],\"yaxis\":\"y\",\"type\":\"scattergl\"},{\"hovertemplate\":\"\\u003cb\\u003e%{hovertext}\\u003c\\u002fb\\u003e\\u003cbr\\u003e\\u003cbr\\u003eIndustry=Hardware\\u003cbr\\u003eTotal Raised (B)=%{x}\\u003cbr\\u003eValuation ($B)=%{y}\\u003cextra\\u003e\\u003c\\u002fextra\\u003e\",\"hovertext\":[\"DJI Innovations\",\"Bitmain Technologies\",\"Global Switch\",\"Royole Corporation\",\"Chipone\",\"Meizu Technology\",\"UBTECH Robotics\",\"Cerebras Systems\",\"Flock Safety\",\"PsiQuantum\",\"Carbon\",\"Biren Technology\",\"Formlabs\",\"Magic Leap\",\"Exotec\",\"Opentrons\",\"Infinidat\",\"Iluvatar CoreX\",\"Ledger\",\"Next Silicon\",\"Coocaa\",\"Enflame\",\"Density\",\"Orbbec Technology\",\"China Cloud\",\"TERMINUS Technology\",\"BitFury\",\"Geek+\",\"Locus Robotics\",\"EcoFlow\",\"1KMXC\",\"Agile Robots\",\"Gaussian Robotics\"],\"legendgroup\":\"Hardware\",\"marker\":{\"color\":\"#cbaacb\",\"symbol\":\"circle\"},\"mode\":\"markers\",\"name\":\"Hardware\",\"showlegend\":true,\"x\":[1.135,1.49,6.255,1.414,1.024,0.9431,0.6456000000000001,0.718,0.38214,0.7285,0.692,0.28822,0.26125,3.484,0.4467,0.25083,0.325,0.18552,0.46638,0.2266,0.2266,0.47052,0.2171999999999999,0.2,0.5227999999999999,0.62958,0.17,0.43361,0.31582,0.11059,0.0989599999999999,0.35,0.28783],\"xaxis\":\"x\",\"y\":[15.0,12.0,11.1,6.0,4.73,4.58,4.58,4.0,3.5,3.15,2.4,2.32,2.0,2.0,2.0,1.8,1.6,1.55,1.5,1.5,1.45,1.24,1.05,1.0,1.0,1.0,1.0,1.0,1.0,1.0,1.0,1.0,1.1],\"yaxis\":\"y\",\"type\":\"scattergl\"},{\"hovertemplate\":\"\\u003cb\\u003e%{hovertext}\\u003c\\u002fb\\u003e\\u003cbr\\u003e\\u003cbr\\u003eIndustry=Consumer & Retail\\u003cbr\\u003eTotal Raised (B)=%{x}\\u003cbr\\u003eValuation ($B)=%{y}\\u003cextra\\u003e\\u003c\\u002fextra\\u003e\",\"hovertext\":[\"Yuanqi Senlin\",\"JUUL Labs\",\"Weilong\",\"Easyhome\",\"Impossible Foods\",\"Zume\",\"Trendy Group International\",\"Calm\",\"Guoquan Shihui\",\"Harry's\",\"PAX\",\"Promasidor Holdings\",\"Yijiupi\",\"BrewDog\",\"Glossier\",\"L&P Cosmetic\",\"Eat Just\",\"Kendra Scott\",\"Mobvoi\",\"Pat McGrath Labs\",\"Zihaiguo\",\"HAYDON\",\"Razor\",\"Rothy's\",\"Kopi Kenangan\"],\"legendgroup\":\"Consumer & Retail\",\"marker\":{\"color\":\"#d7aefb\",\"symbol\":\"circle\"},\"mode\":\"markers\",\"name\":\"Consumer & Retail\",\"showlegend\":true,\"x\":[0.7213099999999999,1.49,0.55974,2.085,2.006,0.44569,0.2,0.2179799999999999,0.42344,0.6591,0.5449299999999999,0.556,0.54727,0.29677,0.2673999999999999,0.11864,0.7066,null,0.25964,0.082,0.06408,0.1,0.55871,0.044,0.233],\"xaxis\":\"x\",\"y\":[15.0,12.0,10.88,5.78,4.0,2.25,2.0,2.0,2.0,1.7,1.7,1.59,1.5,1.24,1.2,1.19,1.1,1.0,1.0,1.0,1.0,1.0,1.0,1.0,1.0],\"yaxis\":\"y\",\"type\":\"scattergl\"},{\"hovertemplate\":\"\\u003cb\\u003e%{hovertext}\\u003c\\u002fb\\u003e\\u003cbr\\u003e\\u003cbr\\u003eIndustry=Health\\u003cbr\\u003eTotal Raised (B)=%{x}\\u003cbr\\u003eValuation ($B)=%{y}\\u003cextra\\u003e\\u003c\\u002fextra\\u003e\",\"hovertext\":[\"Devoted Health\",\"Biosplice Therapeutics\",\"Tempus\",\"Caris Life Sciences\",\"We Doctor\",\"Ro\",\"Hinge Health\",\"Cityblock Health\",\"United Imaging Healthcare\",\"Cerebral\",\"Lyra Health\",\"Color\",\"Radiology Partners\",\"Medlinker\",\"Intarcia Therapeutics\",\"Noom\",\"Otto Bock HealthCare\",\"Komodo Health\",\"Innovaccer\",\"CMR Surgical\",\"Carbon Health\",\"Somatus\",\"Reify Health\",\"Virta Health\",\"Arrail Dental\",\"KRY\",\"Spring Health\",\"SWORD Health\",\"Aledade\",\"ZocDoc\",\"DispatchHealth\",\"Unite Us\",\"Transcarent\",\"Truepill\",\"K Health\",\"CureFit\",\"Athelas\",\"SonderMind\",\"Papa\",\"Yaoshibang\",\"Athletic Greens\",\"Alzheon\",\"HeartFlow\",\"InSightec\",\"EQRx\",\"Prime Medicine\",\"Pristyn Care\",\"Modern Health\",\"Elemy\",\"Doctolib\",\"Rightway\",\"Aprogen\",\"MindMaze\",\"Modernizing Medicine\",\"Dxy.cn\",\"LinkDoc Technology\",\"Alto Pharmacy\",\"Orca Bio\",\"Evidation\",\"Fiture\",\"Capsule\",\"Thirty Madison\",\"LetsGetChecked\",\"Maven Clinic\",\"Mammoth Biosciences\",\"TrialSpark\",\"Dental Monitoring\",\"Cadence\",\"Omada Health\"],\"legendgroup\":\"Health\",\"marker\":{\"color\":\"#f28b82\",\"symbol\":\"circle\"},\"mode\":\"markers\",\"name\":\"Health\",\"showlegend\":true,\"x\":[1.969,0.5615,1.07,1.314,1.786,1.027,0.85385,0.8913,0.5,null,0.90613,0.49604,1.347,0.76474,1.487,0.6277999999999999,0.81549,0.315,0.37568,0.9863,0.52318,0.465,0.25764,0.3765,0.449,0.57099,0.2961999999999999,0.32216,0.2946499999999999,0.3830199999999999,0.40696,0.1953,0.298,0.25606,0.278,0.6794,0.13608,0.27607,0.24205,0.49719,0.115,0.0944,0.54241,0.5590499999999999,0.7,0.315,0.17667,0.16806,null,0.26698,0.13,0.0621199999999999,0.3485,0.39379,0.672,0.25302,0.5880700000000001,0.192,0.25918,0.391,0.57,0.008,0.263,0.19947,null,0.2383,0.21008,0.141,0.44972],\"xaxis\":\"x\",\"y\":[12.6,12.0,8.1,7.83,7.0,7.0,6.2,5.7,5.0,4.8,5.85,4.6,4.0,3.92,3.8,3.7,3.52,3.3,3.2,3.0,3.0,2.5,2.2,2.0,1.05,2.0,2.0,2.0,1.9,1.8,1.7,1.7,1.62,1.6,1.5,1.5,1.5,1.42,1.4,1.35,1.32,1.31,1.3,1.3,1.23,1.2,1.4,1.17,1.15,1.14,1.1,1.04,1.0,1.0,1.0,1.0,1.0,1.0,1.0,1.0,1.0,1.0,1.0,1.0,1.0,1.0,1.0,1.0,1.0],\"yaxis\":\"y\",\"type\":\"scattergl\"},{\"hovertemplate\":\"\\u003cb\\u003e%{hovertext}\\u003c\\u002fb\\u003e\\u003cbr\\u003e\\u003cbr\\u003eIndustry=Auto & Transportation\\u003cbr\\u003eTotal Raised (B)=%{x}\\u003cbr\\u003eValuation ($B)=%{y}\\u003cextra\\u003e\\u003c\\u002fextra\\u003e\",\"hovertext\":[\"ZongMu Technology\",\"Nuro\",\"Bolt\",\"Ola Cabs\",\"Hello TransTech\",\"WM Motor\",\"Ola Electric Mobility\",\"WeRide\",\"Youxia Motors\",\"ECARX\",\"FlixMobility\",\"Via\",\"Hozon Auto\",\"BYTON\",\"Star Charge\",\"BlaBlaCar\",\"ENOVATE\",\"AIWAYS\",\"Cao Cao Mobility\",\"Gett\",\"Bordrin Motors\",\"Einride\",\"Cabify\",\"Fair\",\"Tuhu\",\"SVOLT\",\"Leap Motor\",\"Banma Network Technologies\",\"Socar\"],\"legendgroup\":\"Auto & Transportation\",\"marker\":{\"color\":\"#fbbc04\",\"symbol\":\"circle\"},\"mode\":\"markers\",\"name\":\"Auto & Transportation\",\"showlegend\":true,\"x\":[0.21083,2.132,1.971,null,2.701,5.987,0.82229,0.789,1.326,0.44367,1.211,0.6970599999999999,3.146,1.208,0.12558,0.5642999999999999,1.333,0.33093,0.96886,1.057,0.361,0.1508199999999999,0.48147,0.02,0.58045,3.207,1.761,0.69676,0.1],\"xaxis\":\"x\",\"y\":[11.4,8.6,8.4,7.5,5.0,5.0,5.0,4.4,3.35,3.31,3.0,3.3,3.95,2.5,2.41,2.0,1.85,1.78,1.6,1.5,1.48,1.44,1.4,1.2,1.16,1.16,1.01,1.0,1.0],\"yaxis\":\"y\",\"type\":\"scattergl\"},{\"hovertemplate\":\"\\u003cb\\u003e%{hovertext}\\u003c\\u002fb\\u003e\\u003cbr\\u003e\\u003cbr\\u003eIndustry=Finttech\\u003cbr\\u003eTotal Raised (B)=%{x}\\u003cbr\\u003eValuation ($B)=%{y}\\u003cextra\\u003e\\u003c\\u002fextra\\u003e\",\"hovertext\":[\"Digital Currency Group\"],\"legendgroup\":\"Finttech\",\"marker\":{\"color\":\"#a7ffeb\",\"symbol\":\"circle\"},\"mode\":\"markers\",\"name\":\"Finttech\",\"showlegend\":true,\"x\":[3.396],\"xaxis\":\"x\",\"y\":[10.0],\"yaxis\":\"y\",\"type\":\"scattergl\"},{\"hovertemplate\":\"\\u003cb\\u003e%{hovertext}\\u003c\\u002fb\\u003e\\u003cbr\\u003e\\u003cbr\\u003eIndustry=Cybersecurity\\u003cbr\\u003eTotal Raised (B)=%{x}\\u003cbr\\u003eValuation ($B)=%{y}\\u003cextra\\u003e\\u003c\\u002fextra\\u003e\",\"hovertext\":[\"Tanium\",\"Snyk\",\"Lacework\",\"Netskope\",\"1Password\",\"Wiz\",\"Socure\",\"Arctic Wolf Networks\",\"Coalition\",\"Forter\",\"Illumio\",\"Transmit Security\",\"Acronis\",\"Cato Networks\",\"Aura\",\"Sysdig\",\"Cybereason\",\"Exabeam\",\"BitSight Technologies\",\"Kaseya\",\"StarkWare\",\"Trulioo\",\"Orca Security\",\"Dragos\",\"Verkada\",\"ID.me\",\"Persona\",\"Aleo\",\"Panther Labs\",\"Salt Security\",\"Tongdun Technology\",\"BigID\",\"Incode Technologies\",\"Axonius\",\"Venafi\",\"eSentire\",\"Beyond Identity\",\"Lookout\",\"Aqua Security\",\"Claroty\",\"Drata\",\"Contrast Security\",\"Stytch\",\"Expel\",\"ReliaQuest\",\"Noname Security\",\"Pentera\",\"CHEQ\",\"BlueVoyant\"],\"legendgroup\":\"Cybersecurity\",\"marker\":{\"color\":\"#cbf0f8\",\"symbol\":\"circle\"},\"mode\":\"markers\",\"name\":\"Cybersecurity\",\"showlegend\":true,\"x\":[1.17,1.026,1.907,1.04,0.92014,0.6,0.64825,0.49825,0.52,0.525,0.5571499999999999,0.583,0.42751,0.512,0.5618200000000001,0.7282000000000001,0.71362,0.39,0.39,0.6175700000000001,0.1677,0.46974,0.632,0.3641999999999999,0.13964,0.27307,0.2175,0.228,0.14038,0.27074,0.36144,0.2460999999999999,0.255,0.195,0.174,0.2878799999999999,0.205,0.281,0.265,0.632,0.1281999999999999,0.269,0.126,0.2578,0.33,0.22,0.185,0.171,0.5255],\"xaxis\":\"x\",\"y\":[9.0,8.6,8.3,7.5,6.8,6.0,4.5,4.3,3.5,3.0,2.75,2.74,2.5,2.5,2.5,2.5,2.44,2.4,2.4,2.0,2.0,1.75,1.8,1.7,1.6,1.5,1.5,1.45,1.4,1.4,1.32,1.25,1.25,1.2,1.15,1.1,1.1,1.0,1.0,1.0,1.0,1.0,1.0,1.0,1.0,1.0,1.0,1.0,1.0],\"yaxis\":\"y\",\"type\":\"scattergl\"},{\"hovertemplate\":\"\\u003cb\\u003e%{hovertext}\\u003c\\u002fb\\u003e\\u003cbr\\u003e\\u003cbr\\u003eIndustry=Mobile & Telecommunications\\u003cbr\\u003eTotal Raised (B)=%{x}\\u003cbr\\u003eValuation ($B)=%{y}\\u003cextra\\u003e\\u003c\\u002fextra\\u003e\",\"hovertext\":[\"Niantic\",\"Attentive\",\"Moon Active\",\"Yello Mobile\",\"Clubhouse\",\"Branch\",\"MessageBird\",\"Scopely\",\"Yixia\",\"Meicai\",\"Dream Games\",\"Huaqin Telecom Technology\",\"AppsFlyer\",\"Keep\",\"SmartNews\",\"Apus Group\",\"Ximalaya FM\",\"Cambridge Mobile Telematics\",\"Yidian Zixun\",\"Astranis Space Technologies\",\"Tripledot Studios\",\"TalkingData\",\"Starry\",\"GalaxySpace\",\"TangoMe\",\"Sendbird\",\"InMobi\",\"LinkSure Network\",\"FXiaoKe\",\"Cell C\",\"Maimai\",\"HMD Global\",\"Movile\",\"Wacai\",\"Poizon\",\"Infobip\",\"PicsArt\"],\"legendgroup\":\"Mobile & Telecommunications\",\"marker\":{\"color\":\"#fbd6f5\",\"symbol\":\"circle\"},\"mode\":\"markers\",\"name\":\"Mobile & Telecommunications\",\"showlegend\":true,\"x\":[0.77,0.86452,0.99052,0.2160699999999999,0.00258,0.542,1.1,0.9985,0.775,0.6516000000000001,0.4672,0.27635,0.3031,0.61449,0.4096,0.1163,0.07059,0.5025,0.015,0.35807,0.202,0.31,0.163,null,0.37344,0.2196399999999999,0.5106,0.052,0.293,0.5469700000000001,0.3,0.33,0.394,0.3686,null,0.8,0.175],\"xaxis\":\"x\",\"y\":[9.0,5.99,5.0,4.0,4.0,4.0,3.8,3.3,3.0,2.8,2.75,2.19,2.0,2.0,2.0,1.73,1.52,1.5,1.4,1.4,1.4,1.3,1.29,1.22,1.1,1.05,1.0,1.0,1.0,1.0,1.0,1.0,1.0,1.0,1.0,1.0,1.0],\"yaxis\":\"y\",\"type\":\"scattergl\"},{\"hovertemplate\":\"\\u003cb\\u003e%{hovertext}\\u003c\\u002fb\\u003e\\u003cbr\\u003e\\u003cbr\\u003eIndustry=Travel\\u003cbr\\u003eTotal Raised (B)=%{x}\\u003cbr\\u003eValuation ($B)=%{y}\\u003cextra\\u003e\\u003c\\u002fextra\\u003e\",\"hovertext\":[\"OYO Rooms\",\"TripActions\",\"Hopper\",\"Traveloka\",\"Mafengwo\",\"Tier\",\"TuJia\",\"XiaoZhu\",\"Klook\",\"TravelPerk\",\"GetYourGuide\",\"Omio\",\"Yanolja\",\"VOI\"],\"legendgroup\":\"Travel\",\"marker\":{\"color\":\"#fdcfe8\",\"symbol\":\"circle\"},\"mode\":\"markers\",\"name\":\"Travel\",\"showlegend\":true,\"x\":[3.114,1.04,0.6142000000000001,1.17,0.488,0.66738,0.7637,0.5,0.7211900000000001,0.40858,0.88479,0.396,2.036,0.5179],\"xaxis\":\"x\",\"y\":[9.6,7.25,5.0,3.0,2.0,2.0,1.5,1.5,1.35,1.3,1.1,1.0,1.0,1.0],\"yaxis\":\"y\",\"type\":\"scattergl\"},{\"hovertemplate\":\"\\u003cb\\u003e%{hovertext}\\u003c\\u002fb\\u003e\\u003cbr\\u003e\\u003cbr\\u003eIndustry=Kuang-Chi\\u003cbr\\u003eTotal Raised (B)=%{x}\\u003cbr\\u003eValuation ($B)=%{y}\\u003cextra\\u003e\\u003c\\u002fextra\\u003e\",\"hovertext\":[\"HyalRoute\"],\"legendgroup\":\"Kuang-Chi\",\"marker\":{\"color\":\"#e6c9a8\",\"symbol\":\"circle\"},\"mode\":\"markers\",\"name\":\"Kuang-Chi\",\"showlegend\":true,\"x\":[0.26312],\"xaxis\":\"x\",\"y\":[3.5],\"yaxis\":\"y\",\"type\":\"scattergl\"},{\"hovertemplate\":\"\\u003cb\\u003e%{hovertext}\\u003c\\u002fb\\u003e\\u003cbr\\u003e\\u003cbr\\u003eIndustry=Tiger Global Management, Tiger Brokers, Dcm Ventures\\u003cbr\\u003eTotal Raised (B)=%{x}\\u003cbr\\u003eValuation ($B)=%{y}\\u003cextra\\u003e\\u003c\\u002fextra\\u003e\",\"hovertext\":[\"Amber Group\"],\"legendgroup\":\"Tiger Global Management, Tiger Brokers, Dcm Ventures\",\"marker\":{\"color\":\"#b5d2ff\",\"symbol\":\"circle\"},\"mode\":\"markers\",\"name\":\"Tiger Global Management, Tiger Brokers, Dcm Ventures\",\"showlegend\":true,\"x\":[0.328],\"xaxis\":\"x\",\"y\":[3.0],\"yaxis\":\"y\",\"type\":\"scattergl\"},{\"hovertemplate\":\"\\u003cb\\u003e%{hovertext}\\u003c\\u002fb\\u003e\\u003cbr\\u003e\\u003cbr\\u003eIndustry=Jungle Ventures, Accel, Venture Highway\\u003cbr\\u003eTotal Raised (B)=%{x}\\u003cbr\\u003eValuation ($B)=%{y}\\u003cextra\\u003e\\u003c\\u002fextra\\u003e\",\"hovertext\":[\"Moglix\"],\"legendgroup\":\"Jungle Ventures, Accel, Venture Highway\",\"marker\":{\"color\":\"#cbaacb\",\"symbol\":\"circle\"},\"mode\":\"markers\",\"name\":\"Jungle Ventures, Accel, Venture Highway\",\"showlegend\":true,\"x\":[0.4707099999999999],\"xaxis\":\"x\",\"y\":[2.6],\"yaxis\":\"y\",\"type\":\"scattergl\"},{\"hovertemplate\":\"\\u003cb\\u003e%{hovertext}\\u003c\\u002fb\\u003e\\u003cbr\\u003e\\u003cbr\\u003eIndustry=Vision Plus Capital, Gsr Ventures, Zhenfund\\u003cbr\\u003eTotal Raised (B)=%{x}\\u003cbr\\u003eValuation ($B)=%{y}\\u003cextra\\u003e\\u003c\\u002fextra\\u003e\",\"hovertext\":[\"Advance Intelligence Group\"],\"legendgroup\":\"Vision Plus Capital, Gsr Ventures, Zhenfund\",\"marker\":{\"color\":\"#d7aefb\",\"symbol\":\"circle\"},\"mode\":\"markers\",\"name\":\"Vision Plus Capital, Gsr Ventures, Zhenfund\",\"showlegend\":true,\"x\":[0.536],\"xaxis\":\"x\",\"y\":[2.0],\"yaxis\":\"y\",\"type\":\"scattergl\"},{\"hovertemplate\":\"\\u003cb\\u003e%{hovertext}\\u003c\\u002fb\\u003e\\u003cbr\\u003e\\u003cbr\\u003eIndustry=Hopu Investment Management, Boyu Capital, Dc Thomson Ventures\\u003cbr\\u003eTotal Raised (B)=%{x}\\u003cbr\\u003eValuation ($B)=%{y}\\u003cextra\\u003e\\u003c\\u002fextra\\u003e\",\"hovertext\":[\"Trax\"],\"legendgroup\":\"Hopu Investment Management, Boyu Capital, Dc Thomson Ventures\",\"marker\":{\"color\":\"#f28b82\",\"symbol\":\"circle\"},\"mode\":\"markers\",\"name\":\"Hopu Investment Management, Boyu Capital, Dc Thomson Ventures\",\"showlegend\":true,\"x\":[1.013],\"xaxis\":\"x\",\"y\":[1.3],\"yaxis\":\"y\",\"type\":\"scattergl\"},{\"hovertemplate\":\"\\u003cb\\u003e%{hovertext}\\u003c\\u002fb\\u003e\\u003cbr\\u003e\\u003cbr\\u003eIndustry=500 Global, Rakuten Ventures, Golden Gate Ventures\\u003cbr\\u003eTotal Raised (B)=%{x}\\u003cbr\\u003eValuation ($B)=%{y}\\u003cextra\\u003e\\u003c\\u002fextra\\u003e\",\"hovertext\":[\"Carousell\"],\"legendgroup\":\"500 Global, Rakuten Ventures, Golden Gate Ventures\",\"marker\":{\"color\":\"#fbbc04\",\"symbol\":\"circle\"},\"mode\":\"markers\",\"name\":\"500 Global, Rakuten Ventures, Golden Gate Ventures\",\"showlegend\":true,\"x\":[0.443],\"xaxis\":\"x\",\"y\":[1.1],\"yaxis\":\"y\",\"type\":\"scattergl\"},{\"hovertemplate\":\"\\u003cb\\u003e%{hovertext}\\u003c\\u002fb\\u003e\\u003cbr\\u003e\\u003cbr\\u003eIndustry=Sequoia Capital China, Ing, Alibaba Entrepreneurs Fund\\u003cbr\\u003eTotal Raised (B)=%{x}\\u003cbr\\u003eValuation ($B)=%{y}\\u003cextra\\u003e\\u003c\\u002fextra\\u003e\",\"hovertext\":[\"WeLab\"],\"legendgroup\":\"Sequoia Capital China, Ing, Alibaba Entrepreneurs Fund\",\"marker\":{\"color\":\"#a7ffeb\",\"symbol\":\"circle\"},\"mode\":\"markers\",\"name\":\"Sequoia Capital China, Ing, Alibaba Entrepreneurs Fund\",\"showlegend\":true,\"x\":[0.896],\"xaxis\":\"x\",\"y\":[1.0],\"yaxis\":\"y\",\"type\":\"scattergl\"},{\"hovertemplate\":\"\\u003cb\\u003e%{hovertext}\\u003c\\u002fb\\u003e\\u003cbr\\u003e\\u003cbr\\u003eIndustry=Sequoia Capital China, Shunwei Capital Partners, Qualgro\\u003cbr\\u003eTotal Raised (B)=%{x}\\u003cbr\\u003eValuation ($B)=%{y}\\u003cextra\\u003e\\u003c\\u002fextra\\u003e\",\"hovertext\":[\"PatSnap\"],\"legendgroup\":\"Sequoia Capital China, Shunwei Capital Partners, Qualgro\",\"marker\":{\"color\":\"#cbf0f8\",\"symbol\":\"circle\"},\"mode\":\"markers\",\"name\":\"Sequoia Capital China, Shunwei Capital Partners, Qualgro\",\"showlegend\":true,\"x\":[0.3523199999999999],\"xaxis\":\"x\",\"y\":[1.0],\"yaxis\":\"y\",\"type\":\"scattergl\"},{\"hovertemplate\":\"\\u003cb\\u003e%{hovertext}\\u003c\\u002fb\\u003e\\u003cbr\\u003e\\u003cbr\\u003eIndustry=Dragonfly Captial, Qiming Venture Partners, Dst Global\\u003cbr\\u003eTotal Raised (B)=%{x}\\u003cbr\\u003eValuation ($B)=%{y}\\u003cextra\\u003e\\u003c\\u002fextra\\u003e\",\"hovertext\":[\"Matrixport\"],\"legendgroup\":\"Dragonfly Captial, Qiming Venture Partners, Dst Global\",\"marker\":{\"color\":\"#fbd6f5\",\"symbol\":\"circle\"},\"mode\":\"markers\",\"name\":\"Dragonfly Captial, Qiming Venture Partners, Dst Global\",\"showlegend\":true,\"x\":[0.12655],\"xaxis\":\"x\",\"y\":[1.05],\"yaxis\":\"y\",\"type\":\"scattergl\"},{\"hovertemplate\":\"\\u003cb\\u003e%{hovertext}\\u003c\\u002fb\\u003e\\u003cbr\\u003e\\u003cbr\\u003eIndustry=Singtel Innov8, Alpha Jwc Ventures, Golden Gate Ventures\\u003cbr\\u003eTotal Raised (B)=%{x}\\u003cbr\\u003eValuation ($B)=%{y}\\u003cextra\\u003e\\u003c\\u002fextra\\u003e\",\"hovertext\":[\"Carro\"],\"legendgroup\":\"Singtel Innov8, Alpha Jwc Ventures, Golden Gate Ventures\",\"marker\":{\"color\":\"#fdcfe8\",\"symbol\":\"circle\"},\"mode\":\"markers\",\"name\":\"Singtel Innov8, Alpha Jwc Ventures, Golden Gate Ventures\",\"showlegend\":true,\"x\":[0.68452],\"xaxis\":\"x\",\"y\":[1.0],\"yaxis\":\"y\",\"type\":\"scattergl\"},{\"hovertemplate\":\"\\u003cb\\u003e%{hovertext}\\u003c\\u002fb\\u003e\\u003cbr\\u003e\\u003cbr\\u003eIndustry=Mundi Ventures, Doqling Capital Partners, Activant Capital\\u003cbr\\u003eTotal Raised (B)=%{x}\\u003cbr\\u003eValuation ($B)=%{y}\\u003cextra\\u003e\\u003c\\u002fextra\\u003e\",\"hovertext\":[\"bolttech\"],\"legendgroup\":\"Mundi Ventures, Doqling Capital Partners, Activant Capital\",\"marker\":{\"color\":\"#e6c9a8\",\"symbol\":\"circle\"},\"mode\":\"markers\",\"name\":\"Mundi Ventures, Doqling Capital Partners, Activant Capital\",\"showlegend\":true,\"x\":[0.5022],\"xaxis\":\"x\",\"y\":[1.0],\"yaxis\":\"y\",\"type\":\"scattergl\"},{\"hovertemplate\":\"\\u003cb\\u003e%{hovertext}\\u003c\\u002fb\\u003e\\u003cbr\\u003e\\u003cbr\\u003eIndustry=Vertex Ventures Se Asia, Global Founders Capital, Visa Ventures\\u003cbr\\u003eTotal Raised (B)=%{x}\\u003cbr\\u003eValuation ($B)=%{y}\\u003cextra\\u003e\\u003c\\u002fextra\\u003e\",\"hovertext\":[\"NIUM\"],\"legendgroup\":\"Vertex Ventures Se Asia, Global Founders Capital, Visa Ventures\",\"marker\":{\"color\":\"#b5d2ff\",\"symbol\":\"circle\"},\"mode\":\"markers\",\"name\":\"Vertex Ventures Se Asia, Global Founders Capital, Visa Ventures\",\"showlegend\":true,\"x\":[0.2591],\"xaxis\":\"x\",\"y\":[1.0],\"yaxis\":\"y\",\"type\":\"scattergl\"},{\"hovertemplate\":\"\\u003cb\\u003e%{hovertext}\\u003c\\u002fb\\u003e\\u003cbr\\u003e\\u003cbr\\u003eIndustry=Andreessen Horowitz, Dst Global, Idg Capital\\u003cbr\\u003eTotal Raised (B)=%{x}\\u003cbr\\u003eValuation ($B)=%{y}\\u003cextra\\u003e\\u003c\\u002fextra\\u003e\",\"hovertext\":[\"Cider\"],\"legendgroup\":\"Andreessen Horowitz, Dst Global, Idg Capital\",\"marker\":{\"color\":\"#cbaacb\",\"symbol\":\"circle\"},\"mode\":\"markers\",\"name\":\"Andreessen Horowitz, Dst Global, Idg Capital\",\"showlegend\":true,\"x\":[0.13146],\"xaxis\":\"x\",\"y\":[1.0],\"yaxis\":\"y\",\"type\":\"scattergl\"},{\"hovertemplate\":\"\\u003cb\\u003e%{hovertext}\\u003c\\u002fb\\u003e\\u003cbr\\u003e\\u003cbr\\u003eIndustry=B Capital Group, Monk'S Hill Ventures, Dynamic Parcel Distribution\\u003cbr\\u003eTotal Raised (B)=%{x}\\u003cbr\\u003eValuation ($B)=%{y}\\u003cextra\\u003e\\u003c\\u002fextra\\u003e\",\"hovertext\":[\"Ninja Van\"],\"legendgroup\":\"B Capital Group, Monk'S Hill Ventures, Dynamic Parcel Distribution\",\"marker\":{\"color\":\"#d7aefb\",\"symbol\":\"circle\"},\"mode\":\"markers\",\"name\":\"B Capital Group, Monk'S Hill Ventures, Dynamic Parcel Distribution\",\"showlegend\":true,\"x\":[0.9765],\"xaxis\":\"x\",\"y\":[1.0],\"yaxis\":\"y\",\"type\":\"scattergl\"},{\"hovertemplate\":\"\\u003cb\\u003e%{hovertext}\\u003c\\u002fb\\u003e\\u003cbr\\u003e\\u003cbr\\u003eIndustry=Temasek, Guggenheim Investments, Qatar Investment Authority\\u003cbr\\u003eTotal Raised (B)=%{x}\\u003cbr\\u003eValuation ($B)=%{y}\\u003cextra\\u003e\\u003c\\u002fextra\\u003e\",\"hovertext\":[\"ONE\"],\"legendgroup\":\"Temasek, Guggenheim Investments, Qatar Investment Authority\",\"marker\":{\"color\":\"#f28b82\",\"symbol\":\"circle\"},\"mode\":\"markers\",\"name\":\"Temasek, Guggenheim Investments, Qatar Investment Authority\",\"showlegend\":true,\"x\":[0.486],\"xaxis\":\"x\",\"y\":[1.0],\"yaxis\":\"y\",\"type\":\"scattergl\"}],                        {\"template\":{\"data\":{\"histogram2dcontour\":[{\"type\":\"histogram2dcontour\",\"colorbar\":{\"outlinewidth\":0,\"ticks\":\"\"},\"colorscale\":[[0.0,\"#0d0887\"],[0.1111111111111111,\"#46039f\"],[0.2222222222222222,\"#7201a8\"],[0.3333333333333333,\"#9c179e\"],[0.4444444444444444,\"#bd3786\"],[0.5555555555555556,\"#d8576b\"],[0.6666666666666666,\"#ed7953\"],[0.7777777777777778,\"#fb9f3a\"],[0.8888888888888888,\"#fdca26\"],[1.0,\"#f0f921\"]]}],\"choropleth\":[{\"type\":\"choropleth\",\"colorbar\":{\"outlinewidth\":0,\"ticks\":\"\"}}],\"histogram2d\":[{\"type\":\"histogram2d\",\"colorbar\":{\"outlinewidth\":0,\"ticks\":\"\"},\"colorscale\":[[0.0,\"#0d0887\"],[0.1111111111111111,\"#46039f\"],[0.2222222222222222,\"#7201a8\"],[0.3333333333333333,\"#9c179e\"],[0.4444444444444444,\"#bd3786\"],[0.5555555555555556,\"#d8576b\"],[0.6666666666666666,\"#ed7953\"],[0.7777777777777778,\"#fb9f3a\"],[0.8888888888888888,\"#fdca26\"],[1.0,\"#f0f921\"]]}],\"heatmap\":[{\"type\":\"heatmap\",\"colorbar\":{\"outlinewidth\":0,\"ticks\":\"\"},\"colorscale\":[[0.0,\"#0d0887\"],[0.1111111111111111,\"#46039f\"],[0.2222222222222222,\"#7201a8\"],[0.3333333333333333,\"#9c179e\"],[0.4444444444444444,\"#bd3786\"],[0.5555555555555556,\"#d8576b\"],[0.6666666666666666,\"#ed7953\"],[0.7777777777777778,\"#fb9f3a\"],[0.8888888888888888,\"#fdca26\"],[1.0,\"#f0f921\"]]}],\"heatmapgl\":[{\"type\":\"heatmapgl\",\"colorbar\":{\"outlinewidth\":0,\"ticks\":\"\"},\"colorscale\":[[0.0,\"#0d0887\"],[0.1111111111111111,\"#46039f\"],[0.2222222222222222,\"#7201a8\"],[0.3333333333333333,\"#9c179e\"],[0.4444444444444444,\"#bd3786\"],[0.5555555555555556,\"#d8576b\"],[0.6666666666666666,\"#ed7953\"],[0.7777777777777778,\"#fb9f3a\"],[0.8888888888888888,\"#fdca26\"],[1.0,\"#f0f921\"]]}],\"contourcarpet\":[{\"type\":\"contourcarpet\",\"colorbar\":{\"outlinewidth\":0,\"ticks\":\"\"}}],\"contour\":[{\"type\":\"contour\",\"colorbar\":{\"outlinewidth\":0,\"ticks\":\"\"},\"colorscale\":[[0.0,\"#0d0887\"],[0.1111111111111111,\"#46039f\"],[0.2222222222222222,\"#7201a8\"],[0.3333333333333333,\"#9c179e\"],[0.4444444444444444,\"#bd3786\"],[0.5555555555555556,\"#d8576b\"],[0.6666666666666666,\"#ed7953\"],[0.7777777777777778,\"#fb9f3a\"],[0.8888888888888888,\"#fdca26\"],[1.0,\"#f0f921\"]]}],\"surface\":[{\"type\":\"surface\",\"colorbar\":{\"outlinewidth\":0,\"ticks\":\"\"},\"colorscale\":[[0.0,\"#0d0887\"],[0.1111111111111111,\"#46039f\"],[0.2222222222222222,\"#7201a8\"],[0.3333333333333333,\"#9c179e\"],[0.4444444444444444,\"#bd3786\"],[0.5555555555555556,\"#d8576b\"],[0.6666666666666666,\"#ed7953\"],[0.7777777777777778,\"#fb9f3a\"],[0.8888888888888888,\"#fdca26\"],[1.0,\"#f0f921\"]]}],\"mesh3d\":[{\"type\":\"mesh3d\",\"colorbar\":{\"outlinewidth\":0,\"ticks\":\"\"}}],\"scatter\":[{\"fillpattern\":{\"fillmode\":\"overlay\",\"size\":10,\"solidity\":0.2},\"type\":\"scatter\"}],\"parcoords\":[{\"type\":\"parcoords\",\"line\":{\"colorbar\":{\"outlinewidth\":0,\"ticks\":\"\"}}}],\"scatterpolargl\":[{\"type\":\"scatterpolargl\",\"marker\":{\"colorbar\":{\"outlinewidth\":0,\"ticks\":\"\"}}}],\"bar\":[{\"error_x\":{\"color\":\"#2a3f5f\"},\"error_y\":{\"color\":\"#2a3f5f\"},\"marker\":{\"line\":{\"color\":\"#E5ECF6\",\"width\":0.5},\"pattern\":{\"fillmode\":\"overlay\",\"size\":10,\"solidity\":0.2}},\"type\":\"bar\"}],\"scattergeo\":[{\"type\":\"scattergeo\",\"marker\":{\"colorbar\":{\"outlinewidth\":0,\"ticks\":\"\"}}}],\"scatterpolar\":[{\"type\":\"scatterpolar\",\"marker\":{\"colorbar\":{\"outlinewidth\":0,\"ticks\":\"\"}}}],\"histogram\":[{\"marker\":{\"pattern\":{\"fillmode\":\"overlay\",\"size\":10,\"solidity\":0.2}},\"type\":\"histogram\"}],\"scattergl\":[{\"type\":\"scattergl\",\"marker\":{\"colorbar\":{\"outlinewidth\":0,\"ticks\":\"\"}}}],\"scatter3d\":[{\"type\":\"scatter3d\",\"line\":{\"colorbar\":{\"outlinewidth\":0,\"ticks\":\"\"}},\"marker\":{\"colorbar\":{\"outlinewidth\":0,\"ticks\":\"\"}}}],\"scattermapbox\":[{\"type\":\"scattermapbox\",\"marker\":{\"colorbar\":{\"outlinewidth\":0,\"ticks\":\"\"}}}],\"scatterternary\":[{\"type\":\"scatterternary\",\"marker\":{\"colorbar\":{\"outlinewidth\":0,\"ticks\":\"\"}}}],\"scattercarpet\":[{\"type\":\"scattercarpet\",\"marker\":{\"colorbar\":{\"outlinewidth\":0,\"ticks\":\"\"}}}],\"carpet\":[{\"aaxis\":{\"endlinecolor\":\"#2a3f5f\",\"gridcolor\":\"white\",\"linecolor\":\"white\",\"minorgridcolor\":\"white\",\"startlinecolor\":\"#2a3f5f\"},\"baxis\":{\"endlinecolor\":\"#2a3f5f\",\"gridcolor\":\"white\",\"linecolor\":\"white\",\"minorgridcolor\":\"white\",\"startlinecolor\":\"#2a3f5f\"},\"type\":\"carpet\"}],\"table\":[{\"cells\":{\"fill\":{\"color\":\"#EBF0F8\"},\"line\":{\"color\":\"white\"}},\"header\":{\"fill\":{\"color\":\"#C8D4E3\"},\"line\":{\"color\":\"white\"}},\"type\":\"table\"}],\"barpolar\":[{\"marker\":{\"line\":{\"color\":\"#E5ECF6\",\"width\":0.5},\"pattern\":{\"fillmode\":\"overlay\",\"size\":10,\"solidity\":0.2}},\"type\":\"barpolar\"}],\"pie\":[{\"automargin\":true,\"type\":\"pie\"}]},\"layout\":{\"autotypenumbers\":\"strict\",\"colorway\":[\"#636efa\",\"#EF553B\",\"#00cc96\",\"#ab63fa\",\"#FFA15A\",\"#19d3f3\",\"#FF6692\",\"#B6E880\",\"#FF97FF\",\"#FECB52\"],\"font\":{\"color\":\"#2a3f5f\"},\"hovermode\":\"closest\",\"hoverlabel\":{\"align\":\"left\"},\"paper_bgcolor\":\"white\",\"plot_bgcolor\":\"#E5ECF6\",\"polar\":{\"bgcolor\":\"#E5ECF6\",\"angularaxis\":{\"gridcolor\":\"white\",\"linecolor\":\"white\",\"ticks\":\"\"},\"radialaxis\":{\"gridcolor\":\"white\",\"linecolor\":\"white\",\"ticks\":\"\"}},\"ternary\":{\"bgcolor\":\"#E5ECF6\",\"aaxis\":{\"gridcolor\":\"white\",\"linecolor\":\"white\",\"ticks\":\"\"},\"baxis\":{\"gridcolor\":\"white\",\"linecolor\":\"white\",\"ticks\":\"\"},\"caxis\":{\"gridcolor\":\"white\",\"linecolor\":\"white\",\"ticks\":\"\"}},\"coloraxis\":{\"colorbar\":{\"outlinewidth\":0,\"ticks\":\"\"}},\"colorscale\":{\"sequential\":[[0.0,\"#0d0887\"],[0.1111111111111111,\"#46039f\"],[0.2222222222222222,\"#7201a8\"],[0.3333333333333333,\"#9c179e\"],[0.4444444444444444,\"#bd3786\"],[0.5555555555555556,\"#d8576b\"],[0.6666666666666666,\"#ed7953\"],[0.7777777777777778,\"#fb9f3a\"],[0.8888888888888888,\"#fdca26\"],[1.0,\"#f0f921\"]],\"sequentialminus\":[[0.0,\"#0d0887\"],[0.1111111111111111,\"#46039f\"],[0.2222222222222222,\"#7201a8\"],[0.3333333333333333,\"#9c179e\"],[0.4444444444444444,\"#bd3786\"],[0.5555555555555556,\"#d8576b\"],[0.6666666666666666,\"#ed7953\"],[0.7777777777777778,\"#fb9f3a\"],[0.8888888888888888,\"#fdca26\"],[1.0,\"#f0f921\"]],\"diverging\":[[0,\"#8e0152\"],[0.1,\"#c51b7d\"],[0.2,\"#de77ae\"],[0.3,\"#f1b6da\"],[0.4,\"#fde0ef\"],[0.5,\"#f7f7f7\"],[0.6,\"#e6f5d0\"],[0.7,\"#b8e186\"],[0.8,\"#7fbc41\"],[0.9,\"#4d9221\"],[1,\"#276419\"]]},\"xaxis\":{\"gridcolor\":\"white\",\"linecolor\":\"white\",\"ticks\":\"\",\"title\":{\"standoff\":15},\"zerolinecolor\":\"white\",\"automargin\":true,\"zerolinewidth\":2},\"yaxis\":{\"gridcolor\":\"white\",\"linecolor\":\"white\",\"ticks\":\"\",\"title\":{\"standoff\":15},\"zerolinecolor\":\"white\",\"automargin\":true,\"zerolinewidth\":2},\"scene\":{\"xaxis\":{\"backgroundcolor\":\"#E5ECF6\",\"gridcolor\":\"white\",\"linecolor\":\"white\",\"showbackground\":true,\"ticks\":\"\",\"zerolinecolor\":\"white\",\"gridwidth\":2},\"yaxis\":{\"backgroundcolor\":\"#E5ECF6\",\"gridcolor\":\"white\",\"linecolor\":\"white\",\"showbackground\":true,\"ticks\":\"\",\"zerolinecolor\":\"white\",\"gridwidth\":2},\"zaxis\":{\"backgroundcolor\":\"#E5ECF6\",\"gridcolor\":\"white\",\"linecolor\":\"white\",\"showbackground\":true,\"ticks\":\"\",\"zerolinecolor\":\"white\",\"gridwidth\":2}},\"shapedefaults\":{\"line\":{\"color\":\"#2a3f5f\"}},\"annotationdefaults\":{\"arrowcolor\":\"#2a3f5f\",\"arrowhead\":0,\"arrowwidth\":1},\"geo\":{\"bgcolor\":\"white\",\"landcolor\":\"#E5ECF6\",\"subunitcolor\":\"white\",\"showland\":true,\"showlakes\":true,\"lakecolor\":\"white\"},\"title\":{\"x\":0.05},\"mapbox\":{\"style\":\"light\"}}},\"xaxis\":{\"anchor\":\"y\",\"domain\":[0.0,1.0],\"title\":{\"text\":\"Total Raised (B)\"}},\"yaxis\":{\"anchor\":\"x\",\"domain\":[0.0,1.0],\"title\":{\"text\":\"Valuation ($B)\"}},\"legend\":{\"title\":{\"text\":\"Industry\"},\"tracegroupgap\":0},\"title\":{\"text\":\"Valuation vs. Total Raised\",\"font\":{\"color\":\"#e75480\"}},\"plot_bgcolor\":\"#fff6fb\"},                        {\"responsive\": true}                    ).then(function(){\n",
              "                            \n",
              "var gd = document.getElementById('ae49a182-ccc7-4e40-b68e-a3898a0b9993');\n",
              "var x = new MutationObserver(function (mutations, observer) {{\n",
              "        var display = window.getComputedStyle(gd).display;\n",
              "        if (!display || display === 'none') {{\n",
              "            console.log([gd, 'removed!']);\n",
              "            Plotly.purge(gd);\n",
              "            observer.disconnect();\n",
              "        }}\n",
              "}});\n",
              "\n",
              "// Listen for the removal of the full notebook cells\n",
              "var notebookContainer = gd.closest('#notebook-container');\n",
              "if (notebookContainer) {{\n",
              "    x.observe(notebookContainer, {childList: true});\n",
              "}}\n",
              "\n",
              "// Listen for the clearing of the current output cell\n",
              "var outputEl = gd.closest('.output');\n",
              "if (outputEl) {{\n",
              "    x.observe(outputEl, {childList: true});\n",
              "}}\n",
              "\n",
              "                        })                };                            </script>        </div>\n",
              "</body>\n",
              "</html>"
            ]
          },
          "metadata": {}
        }
      ]
    }
  ]
}